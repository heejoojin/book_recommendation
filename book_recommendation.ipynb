{
  "nbformat": 4,
  "nbformat_minor": 2,
  "metadata": {
    "colab": {
      "name": "Neeva_ML_Code",
      "provenance": [],
      "collapsed_sections": []
    },
    "interpreter": {
      "hash": "77abeef382de7165c1e48617285fbbc044c9b56e9e552736654985d84fe41e4f"
    },
    "kernelspec": {
      "name": "python3",
      "display_name": "Python 3.8.11 64-bit ('neeva': conda)"
    },
    "language_info": {
      "codemirror_mode": {
        "name": "ipython",
        "version": 3
      },
      "file_extension": ".py",
      "mimetype": "text/x-python",
      "name": "python",
      "nbconvert_exporter": "python",
      "pygments_lexer": "ipython3",
      "version": "3.8.11"
    }
  },
  "cells": [
    {
      "cell_type": "markdown",
      "source": [
        "<h1>Personalized Book Search</h1>"
      ],
      "metadata": {
        "id": "6sZ8iBvcg3B0"
      }
    },
    {
      "cell_type": "code",
      "execution_count": 1,
      "source": [
        "import nltk\n",
        "nltk.download('words')"
      ],
      "outputs": [
        {
          "output_type": "stream",
          "name": "stderr",
          "text": [
            "[nltk_data] Downloading package words to /Users/heejoojin/nltk_data...\n",
            "[nltk_data]   Package words is already up-to-date!\n"
          ]
        },
        {
          "output_type": "execute_result",
          "data": {
            "text/plain": [
              "True"
            ]
          },
          "metadata": {},
          "execution_count": 1
        }
      ],
      "metadata": {
        "colab": {
          "base_uri": "https://localhost:8080/"
        },
        "id": "-BljGd5pxNDt",
        "outputId": "fc39de42-d58a-4518-a186-39f422f0c973"
      }
    },
    {
      "cell_type": "code",
      "execution_count": 2,
      "source": [
        "import numpy as np\n",
        "import pandas as pd\n",
        "import surprise\n",
        "import sklearn\n",
        "import plotnine\n",
        "\n",
        "from plotnine import *\n",
        "from nltk.corpus import words\n",
        "from sklearn.feature_extraction.text import TfidfVectorizer\n",
        "from sklearn.metrics.pairwise import cosine_similarity\n"
      ],
      "outputs": [],
      "metadata": {
        "id": "VIsaoGPj4MRR"
      }
    },
    {
      "cell_type": "code",
      "execution_count": 3,
      "source": [
        "base_path = 'https://raw.githubusercontent.com/zygmuntz/goodbooks-10k/master/'\n",
        "\n",
        "book_tags = pd.read_csv(base_path + 'book_tags.csv')\n",
        "books = pd.read_csv(base_path + 'books.csv')\n",
        "ratings = pd.read_csv(base_path + 'ratings.csv')\n",
        "tags = pd.read_csv(base_path + 'tags.csv')\n",
        "to_read = pd.read_csv(base_path + 'to_read.csv')\n"
      ],
      "outputs": [],
      "metadata": {
        "id": "p_Zeukh34o_8"
      }
    },
    {
      "cell_type": "markdown",
      "source": [
        "---\n",
        "<h1>Exploratory Data Analysis</h1>"
      ],
      "metadata": {
        "id": "-66CR_QLofT2"
      }
    },
    {
      "cell_type": "markdown",
      "source": [
        "<h2>Average Rating Distribution</h2>\n",
        "\n",
        "From the plot below, we can learn that:\n",
        "- The majority of the books has the score of 3.7 - 4.3.\n",
        "- Books with the perfect score is really rare.\n",
        "\n",
        "<h3>Therefore, we don't want to recommend movies with lower rating than 3.2.</h3>"
      ],
      "metadata": {
        "id": "qq91dVI2ofT3"
      }
    },
    {
      "cell_type": "code",
      "execution_count": null,
      "source": [
        "(ggplot(data=books)\n",
        "    + geom_histogram(aes(x='average_rating'), binwidth=0.1)\n",
        "    + labs(title='Book Count for each Average Rating', x='Average Rating', y='Book Count')\n",
        ")"
      ],
      "outputs": [
        {
          "output_type": "display_data",
          "data": {
            "text/plain": [
              "<Figure size 640x480 with 1 Axes>"
            ],
            "image/svg+xml": "<?xml version=\"1.0\" encoding=\"utf-8\" standalone=\"no\"?>\n<!DOCTYPE svg PUBLIC \"-//W3C//DTD SVG 1.1//EN\"\n  \"http://www.w3.org/Graphics/SVG/1.1/DTD/svg11.dtd\">\n<svg height=\"327.930058pt\" version=\"1.1\" viewBox=\"0 0 413.911937 327.930058\" width=\"413.911937pt\" xmlns=\"http://www.w3.org/2000/svg\" xmlns:xlink=\"http://www.w3.org/1999/xlink\">\n <metadata>\n  <rdf:RDF xmlns:cc=\"http://creativecommons.org/ns#\" xmlns:dc=\"http://purl.org/dc/elements/1.1/\" xmlns:rdf=\"http://www.w3.org/1999/02/22-rdf-syntax-ns#\">\n   <cc:Work>\n    <dc:type rdf:resource=\"http://purl.org/dc/dcmitype/StillImage\"/>\n    <dc:date>2021-09-01T14:16:36.214295</dc:date>\n    <dc:format>image/svg+xml</dc:format>\n    <dc:creator>\n     <cc:Agent>\n      <dc:title>Matplotlib v3.4.2, https://matplotlib.org/</dc:title>\n     </cc:Agent>\n    </dc:creator>\n   </cc:Work>\n  </rdf:RDF>\n </metadata>\n <defs>\n  <style type=\"text/css\">*{stroke-linecap:butt;stroke-linejoin:round;}</style>\n </defs>\n <g id=\"figure_1\">\n  <g id=\"patch_1\">\n   <path d=\"M 0 327.930058 \nL 413.911937 327.930058 \nL 413.911937 0 \nL 0 0 \nz\n\" style=\"fill:#ffffff;stroke:#ffffff;stroke-linejoin:miter;\"/>\n  </g>\n  <g id=\"axes_1\">\n   <g id=\"patch_2\">\n    <path d=\"M 49.591938 292.217371 \nL 406.711938 292.217371 \nL 406.711938 26.105371 \nL 49.591938 26.105371 \nz\n\" style=\"fill:#ebebeb;\"/>\n   </g>\n   <g id=\"matplotlib.axis_1\">\n    <g id=\"xtick_1\">\n     <g id=\"line2d_1\">\n      <path clip-path=\"url(#p8c74f3de8a)\" d=\"M 72.588301 292.217371 \nL 72.588301 26.105371 \n\" style=\"fill:none;stroke:#ffffff;\"/>\n     </g>\n     <g id=\"line2d_2\">\n      <path d=\"M 72.588301 292.217371 \n\" style=\"fill:none;stroke:#333333;stroke-width:1.5;\"/>\n      <defs>\n       <path d=\"M 0 0 \nL 0 2.75 \n\" id=\"ma83cb4a54a\" style=\"stroke:#000000;\"/>\n      </defs>\n      <g>\n       <use style=\"fill:#333333;stroke:#000000;\" x=\"72.588301\" xlink:href=\"#ma83cb4a54a\" y=\"292.217371\"/>\n      </g>\n     </g>\n     <g id=\"text_1\">\n      <!-- 2.5 -->\n      <g style=\"fill:#4d4d4d;\" transform=\"translate(65.590926 303.853996)scale(0.088 -0.088)\">\n       <defs>\n        <path d=\"M 1228 531 \nL 3431 531 \nL 3431 0 \nL 469 0 \nL 469 531 \nQ 828 903 1448 1529 \nQ 2069 2156 2228 2338 \nQ 2531 2678 2651 2914 \nQ 2772 3150 2772 3378 \nQ 2772 3750 2511 3984 \nQ 2250 4219 1831 4219 \nQ 1534 4219 1204 4116 \nQ 875 4013 500 3803 \nL 500 4441 \nQ 881 4594 1212 4672 \nQ 1544 4750 1819 4750 \nQ 2544 4750 2975 4387 \nQ 3406 4025 3406 3419 \nQ 3406 3131 3298 2873 \nQ 3191 2616 2906 2266 \nQ 2828 2175 2409 1742 \nQ 1991 1309 1228 531 \nz\n\" id=\"DejaVuSans-32\" transform=\"scale(0.015625)\"/>\n        <path d=\"M 684 794 \nL 1344 794 \nL 1344 0 \nL 684 0 \nL 684 794 \nz\n\" id=\"DejaVuSans-2e\" transform=\"scale(0.015625)\"/>\n        <path d=\"M 691 4666 \nL 3169 4666 \nL 3169 4134 \nL 1269 4134 \nL 1269 2991 \nQ 1406 3038 1543 3061 \nQ 1681 3084 1819 3084 \nQ 2600 3084 3056 2656 \nQ 3513 2228 3513 1497 \nQ 3513 744 3044 326 \nQ 2575 -91 1722 -91 \nQ 1428 -91 1123 -41 \nQ 819 9 494 109 \nL 494 744 \nQ 775 591 1075 516 \nQ 1375 441 1709 441 \nQ 2250 441 2565 725 \nQ 2881 1009 2881 1497 \nQ 2881 1984 2565 2268 \nQ 2250 2553 1709 2553 \nQ 1456 2553 1204 2497 \nQ 953 2441 691 2322 \nL 691 4666 \nz\n\" id=\"DejaVuSans-35\" transform=\"scale(0.015625)\"/>\n       </defs>\n       <use xlink:href=\"#DejaVuSans-32\"/>\n       <use x=\"63.623047\" xlink:href=\"#DejaVuSans-2e\"/>\n       <use x=\"95.410156\" xlink:href=\"#DejaVuSans-35\"/>\n      </g>\n     </g>\n    </g>\n    <g id=\"xtick_2\">\n     <g id=\"line2d_3\">\n      <path clip-path=\"url(#p8c74f3de8a)\" d=\"M 140.224665 292.217371 \nL 140.224665 26.105371 \n\" style=\"fill:none;stroke:#ffffff;\"/>\n     </g>\n     <g id=\"line2d_4\">\n      <path d=\"M 140.224665 292.217371 \n\" style=\"fill:none;stroke:#333333;stroke-width:1.5;\"/>\n      <g>\n       <use style=\"fill:#333333;stroke:#000000;\" x=\"140.224665\" xlink:href=\"#ma83cb4a54a\" y=\"292.217371\"/>\n      </g>\n     </g>\n     <g id=\"text_2\">\n      <!-- 3 -->\n      <g style=\"fill:#4d4d4d;\" transform=\"translate(137.425165 303.853996)scale(0.088 -0.088)\">\n       <defs>\n        <path d=\"M 2597 2516 \nQ 3050 2419 3304 2112 \nQ 3559 1806 3559 1356 \nQ 3559 666 3084 287 \nQ 2609 -91 1734 -91 \nQ 1441 -91 1130 -33 \nQ 819 25 488 141 \nL 488 750 \nQ 750 597 1062 519 \nQ 1375 441 1716 441 \nQ 2309 441 2620 675 \nQ 2931 909 2931 1356 \nQ 2931 1769 2642 2001 \nQ 2353 2234 1838 2234 \nL 1294 2234 \nL 1294 2753 \nL 1863 2753 \nQ 2328 2753 2575 2939 \nQ 2822 3125 2822 3475 \nQ 2822 3834 2567 4026 \nQ 2313 4219 1838 4219 \nQ 1578 4219 1281 4162 \nQ 984 4106 628 3988 \nL 628 4550 \nQ 988 4650 1302 4700 \nQ 1616 4750 1894 4750 \nQ 2613 4750 3031 4423 \nQ 3450 4097 3450 3541 \nQ 3450 3153 3228 2886 \nQ 3006 2619 2597 2516 \nz\n\" id=\"DejaVuSans-33\" transform=\"scale(0.015625)\"/>\n       </defs>\n       <use xlink:href=\"#DejaVuSans-33\"/>\n      </g>\n     </g>\n    </g>\n    <g id=\"xtick_3\">\n     <g id=\"line2d_5\">\n      <path clip-path=\"url(#p8c74f3de8a)\" d=\"M 207.861028 292.217371 \nL 207.861028 26.105371 \n\" style=\"fill:none;stroke:#ffffff;\"/>\n     </g>\n     <g id=\"line2d_6\">\n      <path d=\"M 207.861028 292.217371 \n\" style=\"fill:none;stroke:#333333;stroke-width:1.5;\"/>\n      <g>\n       <use style=\"fill:#333333;stroke:#000000;\" x=\"207.861028\" xlink:href=\"#ma83cb4a54a\" y=\"292.217371\"/>\n      </g>\n     </g>\n     <g id=\"text_3\">\n      <!-- 3.5 -->\n      <g style=\"fill:#4d4d4d;\" transform=\"translate(200.863653 303.853996)scale(0.088 -0.088)\">\n       <use xlink:href=\"#DejaVuSans-33\"/>\n       <use x=\"63.623047\" xlink:href=\"#DejaVuSans-2e\"/>\n       <use x=\"95.410156\" xlink:href=\"#DejaVuSans-35\"/>\n      </g>\n     </g>\n    </g>\n    <g id=\"xtick_4\">\n     <g id=\"line2d_7\">\n      <path clip-path=\"url(#p8c74f3de8a)\" d=\"M 275.497392 292.217371 \nL 275.497392 26.105371 \n\" style=\"fill:none;stroke:#ffffff;\"/>\n     </g>\n     <g id=\"line2d_8\">\n      <path d=\"M 275.497392 292.217371 \n\" style=\"fill:none;stroke:#333333;stroke-width:1.5;\"/>\n      <g>\n       <use style=\"fill:#333333;stroke:#000000;\" x=\"275.497392\" xlink:href=\"#ma83cb4a54a\" y=\"292.217371\"/>\n      </g>\n     </g>\n     <g id=\"text_4\">\n      <!-- 4 -->\n      <g style=\"fill:#4d4d4d;\" transform=\"translate(272.697892 303.853996)scale(0.088 -0.088)\">\n       <defs>\n        <path d=\"M 2419 4116 \nL 825 1625 \nL 2419 1625 \nL 2419 4116 \nz\nM 2253 4666 \nL 3047 4666 \nL 3047 1625 \nL 3713 1625 \nL 3713 1100 \nL 3047 1100 \nL 3047 0 \nL 2419 0 \nL 2419 1100 \nL 313 1100 \nL 313 1709 \nL 2253 4666 \nz\n\" id=\"DejaVuSans-34\" transform=\"scale(0.015625)\"/>\n       </defs>\n       <use xlink:href=\"#DejaVuSans-34\"/>\n      </g>\n     </g>\n    </g>\n    <g id=\"xtick_5\">\n     <g id=\"line2d_9\">\n      <path clip-path=\"url(#p8c74f3de8a)\" d=\"M 343.133756 292.217371 \nL 343.133756 26.105371 \n\" style=\"fill:none;stroke:#ffffff;\"/>\n     </g>\n     <g id=\"line2d_10\">\n      <path d=\"M 343.133756 292.217371 \n\" style=\"fill:none;stroke:#333333;stroke-width:1.5;\"/>\n      <g>\n       <use style=\"fill:#333333;stroke:#000000;\" x=\"343.133756\" xlink:href=\"#ma83cb4a54a\" y=\"292.217371\"/>\n      </g>\n     </g>\n     <g id=\"text_5\">\n      <!-- 4.5 -->\n      <g style=\"fill:#4d4d4d;\" transform=\"translate(336.136381 303.853996)scale(0.088 -0.088)\">\n       <use xlink:href=\"#DejaVuSans-34\"/>\n       <use x=\"63.623047\" xlink:href=\"#DejaVuSans-2e\"/>\n       <use x=\"95.410156\" xlink:href=\"#DejaVuSans-35\"/>\n      </g>\n     </g>\n    </g>\n    <g id=\"xtick_6\">\n     <g id=\"line2d_11\">\n      <path clip-path=\"url(#p8c74f3de8a)\" d=\"M 106.406483 292.217371 \nL 106.406483 26.105371 \n\" style=\"fill:none;stroke:#ffffff;stroke-width:0.5;\"/>\n     </g>\n    </g>\n    <g id=\"xtick_7\">\n     <g id=\"line2d_12\">\n      <path clip-path=\"url(#p8c74f3de8a)\" d=\"M 174.042847 292.217371 \nL 174.042847 26.105371 \n\" style=\"fill:none;stroke:#ffffff;stroke-width:0.5;\"/>\n     </g>\n    </g>\n    <g id=\"xtick_8\">\n     <g id=\"line2d_13\">\n      <path clip-path=\"url(#p8c74f3de8a)\" d=\"M 241.67921 292.217371 \nL 241.67921 26.105371 \n\" style=\"fill:none;stroke:#ffffff;stroke-width:0.5;\"/>\n     </g>\n    </g>\n    <g id=\"xtick_9\">\n     <g id=\"line2d_14\">\n      <path clip-path=\"url(#p8c74f3de8a)\" d=\"M 309.315574 292.217371 \nL 309.315574 26.105371 \n\" style=\"fill:none;stroke:#ffffff;stroke-width:0.5;\"/>\n     </g>\n    </g>\n    <g id=\"xtick_10\">\n     <g id=\"line2d_15\">\n      <path clip-path=\"url(#p8c74f3de8a)\" d=\"M 376.951937 292.217371 \nL 376.951937 26.105371 \n\" style=\"fill:none;stroke:#ffffff;stroke-width:0.5;\"/>\n     </g>\n    </g>\n    <g id=\"text_6\">\n     <!-- Average Rating -->\n     <g transform=\"translate(180.328109 318.442402)scale(0.11 -0.11)\">\n      <defs>\n       <path d=\"M 2188 4044 \nL 1331 1722 \nL 3047 1722 \nL 2188 4044 \nz\nM 1831 4666 \nL 2547 4666 \nL 4325 0 \nL 3669 0 \nL 3244 1197 \nL 1141 1197 \nL 716 0 \nL 50 0 \nL 1831 4666 \nz\n\" id=\"DejaVuSans-41\" transform=\"scale(0.015625)\"/>\n       <path d=\"M 191 3500 \nL 800 3500 \nL 1894 563 \nL 2988 3500 \nL 3597 3500 \nL 2284 0 \nL 1503 0 \nL 191 3500 \nz\n\" id=\"DejaVuSans-76\" transform=\"scale(0.015625)\"/>\n       <path d=\"M 3597 1894 \nL 3597 1613 \nL 953 1613 \nQ 991 1019 1311 708 \nQ 1631 397 2203 397 \nQ 2534 397 2845 478 \nQ 3156 559 3463 722 \nL 3463 178 \nQ 3153 47 2828 -22 \nQ 2503 -91 2169 -91 \nQ 1331 -91 842 396 \nQ 353 884 353 1716 \nQ 353 2575 817 3079 \nQ 1281 3584 2069 3584 \nQ 2775 3584 3186 3129 \nQ 3597 2675 3597 1894 \nz\nM 3022 2063 \nQ 3016 2534 2758 2815 \nQ 2500 3097 2075 3097 \nQ 1594 3097 1305 2825 \nQ 1016 2553 972 2059 \nL 3022 2063 \nz\n\" id=\"DejaVuSans-65\" transform=\"scale(0.015625)\"/>\n       <path d=\"M 2631 2963 \nQ 2534 3019 2420 3045 \nQ 2306 3072 2169 3072 \nQ 1681 3072 1420 2755 \nQ 1159 2438 1159 1844 \nL 1159 0 \nL 581 0 \nL 581 3500 \nL 1159 3500 \nL 1159 2956 \nQ 1341 3275 1631 3429 \nQ 1922 3584 2338 3584 \nQ 2397 3584 2469 3576 \nQ 2541 3569 2628 3553 \nL 2631 2963 \nz\n\" id=\"DejaVuSans-72\" transform=\"scale(0.015625)\"/>\n       <path d=\"M 2194 1759 \nQ 1497 1759 1228 1600 \nQ 959 1441 959 1056 \nQ 959 750 1161 570 \nQ 1363 391 1709 391 \nQ 2188 391 2477 730 \nQ 2766 1069 2766 1631 \nL 2766 1759 \nL 2194 1759 \nz\nM 3341 1997 \nL 3341 0 \nL 2766 0 \nL 2766 531 \nQ 2569 213 2275 61 \nQ 1981 -91 1556 -91 \nQ 1019 -91 701 211 \nQ 384 513 384 1019 \nQ 384 1609 779 1909 \nQ 1175 2209 1959 2209 \nL 2766 2209 \nL 2766 2266 \nQ 2766 2663 2505 2880 \nQ 2244 3097 1772 3097 \nQ 1472 3097 1187 3025 \nQ 903 2953 641 2809 \nL 641 3341 \nQ 956 3463 1253 3523 \nQ 1550 3584 1831 3584 \nQ 2591 3584 2966 3190 \nQ 3341 2797 3341 1997 \nz\n\" id=\"DejaVuSans-61\" transform=\"scale(0.015625)\"/>\n       <path d=\"M 2906 1791 \nQ 2906 2416 2648 2759 \nQ 2391 3103 1925 3103 \nQ 1463 3103 1205 2759 \nQ 947 2416 947 1791 \nQ 947 1169 1205 825 \nQ 1463 481 1925 481 \nQ 2391 481 2648 825 \nQ 2906 1169 2906 1791 \nz\nM 3481 434 \nQ 3481 -459 3084 -895 \nQ 2688 -1331 1869 -1331 \nQ 1566 -1331 1297 -1286 \nQ 1028 -1241 775 -1147 \nL 775 -588 \nQ 1028 -725 1275 -790 \nQ 1522 -856 1778 -856 \nQ 2344 -856 2625 -561 \nQ 2906 -266 2906 331 \nL 2906 616 \nQ 2728 306 2450 153 \nQ 2172 0 1784 0 \nQ 1141 0 747 490 \nQ 353 981 353 1791 \nQ 353 2603 747 3093 \nQ 1141 3584 1784 3584 \nQ 2172 3584 2450 3431 \nQ 2728 3278 2906 2969 \nL 2906 3500 \nL 3481 3500 \nL 3481 434 \nz\n\" id=\"DejaVuSans-67\" transform=\"scale(0.015625)\"/>\n       <path id=\"DejaVuSans-20\" transform=\"scale(0.015625)\"/>\n       <path d=\"M 2841 2188 \nQ 3044 2119 3236 1894 \nQ 3428 1669 3622 1275 \nL 4263 0 \nL 3584 0 \nL 2988 1197 \nQ 2756 1666 2539 1819 \nQ 2322 1972 1947 1972 \nL 1259 1972 \nL 1259 0 \nL 628 0 \nL 628 4666 \nL 2053 4666 \nQ 2853 4666 3247 4331 \nQ 3641 3997 3641 3322 \nQ 3641 2881 3436 2590 \nQ 3231 2300 2841 2188 \nz\nM 1259 4147 \nL 1259 2491 \nL 2053 2491 \nQ 2509 2491 2742 2702 \nQ 2975 2913 2975 3322 \nQ 2975 3731 2742 3939 \nQ 2509 4147 2053 4147 \nL 1259 4147 \nz\n\" id=\"DejaVuSans-52\" transform=\"scale(0.015625)\"/>\n       <path d=\"M 1172 4494 \nL 1172 3500 \nL 2356 3500 \nL 2356 3053 \nL 1172 3053 \nL 1172 1153 \nQ 1172 725 1289 603 \nQ 1406 481 1766 481 \nL 2356 481 \nL 2356 0 \nL 1766 0 \nQ 1100 0 847 248 \nQ 594 497 594 1153 \nL 594 3053 \nL 172 3053 \nL 172 3500 \nL 594 3500 \nL 594 4494 \nL 1172 4494 \nz\n\" id=\"DejaVuSans-74\" transform=\"scale(0.015625)\"/>\n       <path d=\"M 603 3500 \nL 1178 3500 \nL 1178 0 \nL 603 0 \nL 603 3500 \nz\nM 603 4863 \nL 1178 4863 \nL 1178 4134 \nL 603 4134 \nL 603 4863 \nz\n\" id=\"DejaVuSans-69\" transform=\"scale(0.015625)\"/>\n       <path d=\"M 3513 2113 \nL 3513 0 \nL 2938 0 \nL 2938 2094 \nQ 2938 2591 2744 2837 \nQ 2550 3084 2163 3084 \nQ 1697 3084 1428 2787 \nQ 1159 2491 1159 1978 \nL 1159 0 \nL 581 0 \nL 581 3500 \nL 1159 3500 \nL 1159 2956 \nQ 1366 3272 1645 3428 \nQ 1925 3584 2291 3584 \nQ 2894 3584 3203 3211 \nQ 3513 2838 3513 2113 \nz\n\" id=\"DejaVuSans-6e\" transform=\"scale(0.015625)\"/>\n      </defs>\n      <use xlink:href=\"#DejaVuSans-41\"/>\n      <use x=\"62.533203\" xlink:href=\"#DejaVuSans-76\"/>\n      <use x=\"121.712891\" xlink:href=\"#DejaVuSans-65\"/>\n      <use x=\"183.236328\" xlink:href=\"#DejaVuSans-72\"/>\n      <use x=\"224.349609\" xlink:href=\"#DejaVuSans-61\"/>\n      <use x=\"285.628906\" xlink:href=\"#DejaVuSans-67\"/>\n      <use x=\"349.105469\" xlink:href=\"#DejaVuSans-65\"/>\n      <use x=\"410.628906\" xlink:href=\"#DejaVuSans-20\"/>\n      <use x=\"442.416016\" xlink:href=\"#DejaVuSans-52\"/>\n      <use x=\"509.648438\" xlink:href=\"#DejaVuSans-61\"/>\n      <use x=\"570.927734\" xlink:href=\"#DejaVuSans-74\"/>\n      <use x=\"610.136719\" xlink:href=\"#DejaVuSans-69\"/>\n      <use x=\"637.919922\" xlink:href=\"#DejaVuSans-6e\"/>\n      <use x=\"701.298828\" xlink:href=\"#DejaVuSans-67\"/>\n     </g>\n    </g>\n   </g>\n   <g id=\"matplotlib.axis_2\">\n    <g id=\"ytick_1\">\n     <g id=\"line2d_16\">\n      <path clip-path=\"url(#p8c74f3de8a)\" d=\"M 49.591938 280.121371 \nL 406.711938 280.121371 \n\" style=\"fill:none;stroke:#ffffff;\"/>\n     </g>\n     <g id=\"line2d_17\">\n      <path d=\"M 49.591938 280.121371 \n\" style=\"fill:none;stroke:#333333;stroke-width:1.5;\"/>\n      <defs>\n       <path d=\"M 0 0 \nL -2.75 0 \n\" id=\"mc819ac5b1d\" style=\"stroke:#000000;\"/>\n      </defs>\n      <g>\n       <use style=\"fill:#333333;stroke:#000000;\" x=\"49.591938\" xlink:href=\"#mc819ac5b1d\" y=\"280.121371\"/>\n      </g>\n     </g>\n     <g id=\"text_7\">\n      <!-- 0 -->\n      <g style=\"fill:#4d4d4d;\" transform=\"translate(39.042938 282.549621)scale(0.088 -0.088)\">\n       <defs>\n        <path d=\"M 2034 4250 \nQ 1547 4250 1301 3770 \nQ 1056 3291 1056 2328 \nQ 1056 1369 1301 889 \nQ 1547 409 2034 409 \nQ 2525 409 2770 889 \nQ 3016 1369 3016 2328 \nQ 3016 3291 2770 3770 \nQ 2525 4250 2034 4250 \nz\nM 2034 4750 \nQ 2819 4750 3233 4129 \nQ 3647 3509 3647 2328 \nQ 3647 1150 3233 529 \nQ 2819 -91 2034 -91 \nQ 1250 -91 836 529 \nQ 422 1150 422 2328 \nQ 422 3509 836 4129 \nQ 1250 4750 2034 4750 \nz\n\" id=\"DejaVuSans-30\" transform=\"scale(0.015625)\"/>\n       </defs>\n       <use xlink:href=\"#DejaVuSans-30\"/>\n      </g>\n     </g>\n    </g>\n    <g id=\"ytick_2\">\n     <g id=\"line2d_18\">\n      <path clip-path=\"url(#p8c74f3de8a)\" d=\"M 49.591938 203.902089 \nL 406.711938 203.902089 \n\" style=\"fill:none;stroke:#ffffff;\"/>\n     </g>\n     <g id=\"line2d_19\">\n      <path d=\"M 49.591938 203.902089 \n\" style=\"fill:none;stroke:#333333;stroke-width:1.5;\"/>\n      <g>\n       <use style=\"fill:#333333;stroke:#000000;\" x=\"49.591938\" xlink:href=\"#mc819ac5b1d\" y=\"203.902089\"/>\n      </g>\n     </g>\n     <g id=\"text_8\">\n      <!-- 500 -->\n      <g style=\"fill:#4d4d4d;\" transform=\"translate(27.844938 206.330339)scale(0.088 -0.088)\">\n       <use xlink:href=\"#DejaVuSans-35\"/>\n       <use x=\"63.623047\" xlink:href=\"#DejaVuSans-30\"/>\n       <use x=\"127.246094\" xlink:href=\"#DejaVuSans-30\"/>\n      </g>\n     </g>\n    </g>\n    <g id=\"ytick_3\">\n     <g id=\"line2d_20\">\n      <path clip-path=\"url(#p8c74f3de8a)\" d=\"M 49.591938 127.682807 \nL 406.711938 127.682807 \n\" style=\"fill:none;stroke:#ffffff;\"/>\n     </g>\n     <g id=\"line2d_21\">\n      <path d=\"M 49.591938 127.682807 \n\" style=\"fill:none;stroke:#333333;stroke-width:1.5;\"/>\n      <g>\n       <use style=\"fill:#333333;stroke:#000000;\" x=\"49.591938\" xlink:href=\"#mc819ac5b1d\" y=\"127.682807\"/>\n      </g>\n     </g>\n     <g id=\"text_9\">\n      <!-- 1000 -->\n      <g style=\"fill:#4d4d4d;\" transform=\"translate(22.245938 130.111057)scale(0.088 -0.088)\">\n       <defs>\n        <path d=\"M 794 531 \nL 1825 531 \nL 1825 4091 \nL 703 3866 \nL 703 4441 \nL 1819 4666 \nL 2450 4666 \nL 2450 531 \nL 3481 531 \nL 3481 0 \nL 794 0 \nL 794 531 \nz\n\" id=\"DejaVuSans-31\" transform=\"scale(0.015625)\"/>\n       </defs>\n       <use xlink:href=\"#DejaVuSans-31\"/>\n       <use x=\"63.623047\" xlink:href=\"#DejaVuSans-30\"/>\n       <use x=\"127.246094\" xlink:href=\"#DejaVuSans-30\"/>\n       <use x=\"190.869141\" xlink:href=\"#DejaVuSans-30\"/>\n      </g>\n     </g>\n    </g>\n    <g id=\"ytick_4\">\n     <g id=\"line2d_22\">\n      <path clip-path=\"url(#p8c74f3de8a)\" d=\"M 49.591938 51.463526 \nL 406.711938 51.463526 \n\" style=\"fill:none;stroke:#ffffff;\"/>\n     </g>\n     <g id=\"line2d_23\">\n      <path d=\"M 49.591938 51.463526 \n\" style=\"fill:none;stroke:#333333;stroke-width:1.5;\"/>\n      <g>\n       <use style=\"fill:#333333;stroke:#000000;\" x=\"49.591938\" xlink:href=\"#mc819ac5b1d\" y=\"51.463526\"/>\n      </g>\n     </g>\n     <g id=\"text_10\">\n      <!-- 1500 -->\n      <g style=\"fill:#4d4d4d;\" transform=\"translate(22.245938 53.891776)scale(0.088 -0.088)\">\n       <use xlink:href=\"#DejaVuSans-31\"/>\n       <use x=\"63.623047\" xlink:href=\"#DejaVuSans-35\"/>\n       <use x=\"127.246094\" xlink:href=\"#DejaVuSans-30\"/>\n       <use x=\"190.869141\" xlink:href=\"#DejaVuSans-30\"/>\n      </g>\n     </g>\n    </g>\n    <g id=\"ytick_5\">\n     <g id=\"line2d_24\">\n      <path clip-path=\"url(#p8c74f3de8a)\" d=\"M 49.591938 242.01173 \nL 406.711938 242.01173 \n\" style=\"fill:none;stroke:#ffffff;stroke-width:0.5;\"/>\n     </g>\n    </g>\n    <g id=\"ytick_6\">\n     <g id=\"line2d_25\">\n      <path clip-path=\"url(#p8c74f3de8a)\" d=\"M 49.591938 165.792448 \nL 406.711938 165.792448 \n\" style=\"fill:none;stroke:#ffffff;stroke-width:0.5;\"/>\n     </g>\n    </g>\n    <g id=\"ytick_7\">\n     <g id=\"line2d_26\">\n      <path clip-path=\"url(#p8c74f3de8a)\" d=\"M 49.591938 89.573167 \nL 406.711938 89.573167 \n\" style=\"fill:none;stroke:#ffffff;stroke-width:0.5;\"/>\n     </g>\n    </g>\n    <g id=\"text_11\">\n     <!-- Book Count -->\n     <g transform=\"translate(15.558281 189.203605)rotate(-90)scale(0.11 -0.11)\">\n      <defs>\n       <path d=\"M 1259 2228 \nL 1259 519 \nL 2272 519 \nQ 2781 519 3026 730 \nQ 3272 941 3272 1375 \nQ 3272 1813 3026 2020 \nQ 2781 2228 2272 2228 \nL 1259 2228 \nz\nM 1259 4147 \nL 1259 2741 \nL 2194 2741 \nQ 2656 2741 2882 2914 \nQ 3109 3088 3109 3444 \nQ 3109 3797 2882 3972 \nQ 2656 4147 2194 4147 \nL 1259 4147 \nz\nM 628 4666 \nL 2241 4666 \nQ 2963 4666 3353 4366 \nQ 3744 4066 3744 3513 \nQ 3744 3084 3544 2831 \nQ 3344 2578 2956 2516 \nQ 3422 2416 3680 2098 \nQ 3938 1781 3938 1306 \nQ 3938 681 3513 340 \nQ 3088 0 2303 0 \nL 628 0 \nL 628 4666 \nz\n\" id=\"DejaVuSans-42\" transform=\"scale(0.015625)\"/>\n       <path d=\"M 1959 3097 \nQ 1497 3097 1228 2736 \nQ 959 2375 959 1747 \nQ 959 1119 1226 758 \nQ 1494 397 1959 397 \nQ 2419 397 2687 759 \nQ 2956 1122 2956 1747 \nQ 2956 2369 2687 2733 \nQ 2419 3097 1959 3097 \nz\nM 1959 3584 \nQ 2709 3584 3137 3096 \nQ 3566 2609 3566 1747 \nQ 3566 888 3137 398 \nQ 2709 -91 1959 -91 \nQ 1206 -91 779 398 \nQ 353 888 353 1747 \nQ 353 2609 779 3096 \nQ 1206 3584 1959 3584 \nz\n\" id=\"DejaVuSans-6f\" transform=\"scale(0.015625)\"/>\n       <path d=\"M 581 4863 \nL 1159 4863 \nL 1159 1991 \nL 2875 3500 \nL 3609 3500 \nL 1753 1863 \nL 3688 0 \nL 2938 0 \nL 1159 1709 \nL 1159 0 \nL 581 0 \nL 581 4863 \nz\n\" id=\"DejaVuSans-6b\" transform=\"scale(0.015625)\"/>\n       <path d=\"M 4122 4306 \nL 4122 3641 \nQ 3803 3938 3442 4084 \nQ 3081 4231 2675 4231 \nQ 1875 4231 1450 3742 \nQ 1025 3253 1025 2328 \nQ 1025 1406 1450 917 \nQ 1875 428 2675 428 \nQ 3081 428 3442 575 \nQ 3803 722 4122 1019 \nL 4122 359 \nQ 3791 134 3420 21 \nQ 3050 -91 2638 -91 \nQ 1578 -91 968 557 \nQ 359 1206 359 2328 \nQ 359 3453 968 4101 \nQ 1578 4750 2638 4750 \nQ 3056 4750 3426 4639 \nQ 3797 4528 4122 4306 \nz\n\" id=\"DejaVuSans-43\" transform=\"scale(0.015625)\"/>\n       <path d=\"M 544 1381 \nL 544 3500 \nL 1119 3500 \nL 1119 1403 \nQ 1119 906 1312 657 \nQ 1506 409 1894 409 \nQ 2359 409 2629 706 \nQ 2900 1003 2900 1516 \nL 2900 3500 \nL 3475 3500 \nL 3475 0 \nL 2900 0 \nL 2900 538 \nQ 2691 219 2414 64 \nQ 2138 -91 1772 -91 \nQ 1169 -91 856 284 \nQ 544 659 544 1381 \nz\nM 1991 3584 \nL 1991 3584 \nz\n\" id=\"DejaVuSans-75\" transform=\"scale(0.015625)\"/>\n      </defs>\n      <use xlink:href=\"#DejaVuSans-42\"/>\n      <use x=\"68.603516\" xlink:href=\"#DejaVuSans-6f\"/>\n      <use x=\"129.785156\" xlink:href=\"#DejaVuSans-6f\"/>\n      <use x=\"190.966797\" xlink:href=\"#DejaVuSans-6b\"/>\n      <use x=\"248.876953\" xlink:href=\"#DejaVuSans-20\"/>\n      <use x=\"280.664062\" xlink:href=\"#DejaVuSans-43\"/>\n      <use x=\"350.488281\" xlink:href=\"#DejaVuSans-6f\"/>\n      <use x=\"411.669922\" xlink:href=\"#DejaVuSans-75\"/>\n      <use x=\"475.048828\" xlink:href=\"#DejaVuSans-6e\"/>\n      <use x=\"538.427734\" xlink:href=\"#DejaVuSans-74\"/>\n     </g>\n    </g>\n   </g>\n   <g id=\"PolyCollection_1\">\n    <path clip-path=\"url(#p8c74f3de8a)\" d=\"M 65.824665 280.121371 \nL 65.824665 279.968932 \nL 79.351937 279.968932 \nL 79.351937 280.121371 \nz\n\" style=\"fill:#595959;\"/>\n    <path clip-path=\"url(#p8c74f3de8a)\" d=\"M 79.351938 280.121371 \nL 79.351938 280.121371 \nL 92.87921 280.121371 \nL 92.87921 280.121371 \nz\n\" style=\"fill:#595959;\"/>\n    <path clip-path=\"url(#p8c74f3de8a)\" d=\"M 92.87921 280.121371 \nL 92.87921 279.968932 \nL 106.406483 279.968932 \nL 106.406483 280.121371 \nz\n\" style=\"fill:#595959;\"/>\n    <path clip-path=\"url(#p8c74f3de8a)\" d=\"M 106.406483 280.121371 \nL 106.406483 279.206739 \nL 119.933756 279.206739 \nL 119.933756 280.121371 \nz\n\" style=\"fill:#595959;\"/>\n    <path clip-path=\"url(#p8c74f3de8a)\" d=\"M 119.933756 280.121371 \nL 119.933756 279.816494 \nL 133.461028 279.816494 \nL 133.461028 280.121371 \nz\n\" style=\"fill:#595959;\"/>\n    <path clip-path=\"url(#p8c74f3de8a)\" d=\"M 133.461028 280.121371 \nL 133.461028 278.749424 \nL 146.988301 278.749424 \nL 146.988301 280.121371 \nz\n\" style=\"fill:#595959;\"/>\n    <path clip-path=\"url(#p8c74f3de8a)\" d=\"M 146.988301 280.121371 \nL 146.988301 277.072599 \nL 160.515574 277.072599 \nL 160.515574 280.121371 \nz\n\" style=\"fill:#595959;\"/>\n    <path clip-path=\"url(#p8c74f3de8a)\" d=\"M 160.515574 280.121371 \nL 160.515574 273.87139 \nL 174.042847 273.87139 \nL 174.042847 280.121371 \nz\n\" style=\"fill:#595959;\"/>\n    <path clip-path=\"url(#p8c74f3de8a)\" d=\"M 174.042847 280.121371 \nL 174.042847 270.822618 \nL 187.570119 270.822618 \nL 187.570119 280.121371 \nz\n\" style=\"fill:#595959;\"/>\n    <path clip-path=\"url(#p8c74f3de8a)\" d=\"M 187.570119 280.121371 \nL 187.570119 261.218989 \nL 201.097392 261.218989 \nL 201.097392 280.121371 \nz\n\" style=\"fill:#595959;\"/>\n    <path clip-path=\"url(#p8c74f3de8a)\" d=\"M 201.097392 280.121371 \nL 201.097392 247.194641 \nL 214.624665 247.194641 \nL 214.624665 280.121371 \nz\n\" style=\"fill:#595959;\"/>\n    <path clip-path=\"url(#p8c74f3de8a)\" d=\"M 214.624665 280.121371 \nL 214.624665 223.719102 \nL 228.151937 223.719102 \nL 228.151937 280.121371 \nz\n\" style=\"fill:#595959;\"/>\n    <path clip-path=\"url(#p8c74f3de8a)\" d=\"M 228.151937 280.121371 \nL 228.151937 174.481446 \nL 241.67921 174.481446 \nL 241.67921 280.121371 \nz\n\" style=\"fill:#595959;\"/>\n    <path clip-path=\"url(#p8c74f3de8a)\" d=\"M 241.67921 280.121371 \nL 241.67921 119.146248 \nL 255.206483 119.146248 \nL 255.206483 280.121371 \nz\n\" style=\"fill:#595959;\"/>\n    <path clip-path=\"url(#p8c74f3de8a)\" d=\"M 255.206483 280.121371 \nL 255.206483 63.811049 \nL 268.733756 63.811049 \nL 268.733756 280.121371 \nz\n\" style=\"fill:#595959;\"/>\n    <path clip-path=\"url(#p8c74f3de8a)\" d=\"M 268.733756 280.121371 \nL 268.733756 46.128176 \nL 282.261028 46.128176 \nL 282.261028 280.121371 \nz\n\" style=\"fill:#595959;\"/>\n    <path clip-path=\"url(#p8c74f3de8a)\" d=\"M 282.261028 280.121371 \nL 282.261028 38.201371 \nL 295.788301 38.201371 \nL 295.788301 280.121371 \nz\n\" style=\"fill:#595959;\"/>\n    <path clip-path=\"url(#p8c74f3de8a)\" d=\"M 295.788301 280.121371 \nL 295.788301 71.737855 \nL 309.315574 71.737855 \nL 309.315574 280.121371 \nz\n\" style=\"fill:#595959;\"/>\n    <path clip-path=\"url(#p8c74f3de8a)\" d=\"M 309.315574 280.121371 \nL 309.315574 147.042505 \nL 322.842847 147.042505 \nL 322.842847 280.121371 \nz\n\" style=\"fill:#595959;\"/>\n    <path clip-path=\"url(#p8c74f3de8a)\" d=\"M 322.842847 280.121371 \nL 322.842847 221.737401 \nL 336.370119 221.737401 \nL 336.370119 280.121371 \nz\n\" style=\"fill:#595959;\"/>\n    <path clip-path=\"url(#p8c74f3de8a)\" d=\"M 336.370119 280.121371 \nL 336.370119 255.731201 \nL 349.897392 255.731201 \nL 349.897392 280.121371 \nz\n\" style=\"fill:#595959;\"/>\n    <path clip-path=\"url(#p8c74f3de8a)\" d=\"M 349.897392 280.121371 \nL 349.897392 271.889688 \nL 363.424665 271.889688 \nL 363.424665 280.121371 \nz\n\" style=\"fill:#595959;\"/>\n    <path clip-path=\"url(#p8c74f3de8a)\" d=\"M 363.424665 280.121371 \nL 363.424665 277.529915 \nL 376.951937 277.529915 \nL 376.951937 280.121371 \nz\n\" style=\"fill:#595959;\"/>\n    <path clip-path=\"url(#p8c74f3de8a)\" d=\"M 376.951937 280.121371 \nL 376.951937 279.359178 \nL 390.47921 279.359178 \nL 390.47921 280.121371 \nz\n\" style=\"fill:#595959;\"/>\n   </g>\n  </g>\n  <g id=\"text_12\">\n   <!-- Book Count for each Average Rating -->\n   <g transform=\"translate(102.506031 17.229938)scale(0.132 -0.132)\">\n    <defs>\n     <path d=\"M 2375 4863 \nL 2375 4384 \nL 1825 4384 \nQ 1516 4384 1395 4259 \nQ 1275 4134 1275 3809 \nL 1275 3500 \nL 2222 3500 \nL 2222 3053 \nL 1275 3053 \nL 1275 0 \nL 697 0 \nL 697 3053 \nL 147 3053 \nL 147 3500 \nL 697 3500 \nL 697 3744 \nQ 697 4328 969 4595 \nQ 1241 4863 1831 4863 \nL 2375 4863 \nz\n\" id=\"DejaVuSans-66\" transform=\"scale(0.015625)\"/>\n     <path d=\"M 3122 3366 \nL 3122 2828 \nQ 2878 2963 2633 3030 \nQ 2388 3097 2138 3097 \nQ 1578 3097 1268 2742 \nQ 959 2388 959 1747 \nQ 959 1106 1268 751 \nQ 1578 397 2138 397 \nQ 2388 397 2633 464 \nQ 2878 531 3122 666 \nL 3122 134 \nQ 2881 22 2623 -34 \nQ 2366 -91 2075 -91 \nQ 1284 -91 818 406 \nQ 353 903 353 1747 \nQ 353 2603 823 3093 \nQ 1294 3584 2113 3584 \nQ 2378 3584 2631 3529 \nQ 2884 3475 3122 3366 \nz\n\" id=\"DejaVuSans-63\" transform=\"scale(0.015625)\"/>\n     <path d=\"M 3513 2113 \nL 3513 0 \nL 2938 0 \nL 2938 2094 \nQ 2938 2591 2744 2837 \nQ 2550 3084 2163 3084 \nQ 1697 3084 1428 2787 \nQ 1159 2491 1159 1978 \nL 1159 0 \nL 581 0 \nL 581 4863 \nL 1159 4863 \nL 1159 2956 \nQ 1366 3272 1645 3428 \nQ 1925 3584 2291 3584 \nQ 2894 3584 3203 3211 \nQ 3513 2838 3513 2113 \nz\n\" id=\"DejaVuSans-68\" transform=\"scale(0.015625)\"/>\n    </defs>\n    <use xlink:href=\"#DejaVuSans-42\"/>\n    <use x=\"68.603516\" xlink:href=\"#DejaVuSans-6f\"/>\n    <use x=\"129.785156\" xlink:href=\"#DejaVuSans-6f\"/>\n    <use x=\"190.966797\" xlink:href=\"#DejaVuSans-6b\"/>\n    <use x=\"248.876953\" xlink:href=\"#DejaVuSans-20\"/>\n    <use x=\"280.664062\" xlink:href=\"#DejaVuSans-43\"/>\n    <use x=\"350.488281\" xlink:href=\"#DejaVuSans-6f\"/>\n    <use x=\"411.669922\" xlink:href=\"#DejaVuSans-75\"/>\n    <use x=\"475.048828\" xlink:href=\"#DejaVuSans-6e\"/>\n    <use x=\"538.427734\" xlink:href=\"#DejaVuSans-74\"/>\n    <use x=\"577.636719\" xlink:href=\"#DejaVuSans-20\"/>\n    <use x=\"609.423828\" xlink:href=\"#DejaVuSans-66\"/>\n    <use x=\"644.628906\" xlink:href=\"#DejaVuSans-6f\"/>\n    <use x=\"705.810547\" xlink:href=\"#DejaVuSans-72\"/>\n    <use x=\"746.923828\" xlink:href=\"#DejaVuSans-20\"/>\n    <use x=\"778.710938\" xlink:href=\"#DejaVuSans-65\"/>\n    <use x=\"840.234375\" xlink:href=\"#DejaVuSans-61\"/>\n    <use x=\"901.513672\" xlink:href=\"#DejaVuSans-63\"/>\n    <use x=\"956.494141\" xlink:href=\"#DejaVuSans-68\"/>\n    <use x=\"1019.873047\" xlink:href=\"#DejaVuSans-20\"/>\n    <use x=\"1051.660156\" xlink:href=\"#DejaVuSans-41\"/>\n    <use x=\"1114.193359\" xlink:href=\"#DejaVuSans-76\"/>\n    <use x=\"1173.373047\" xlink:href=\"#DejaVuSans-65\"/>\n    <use x=\"1234.896484\" xlink:href=\"#DejaVuSans-72\"/>\n    <use x=\"1276.009766\" xlink:href=\"#DejaVuSans-61\"/>\n    <use x=\"1337.289062\" xlink:href=\"#DejaVuSans-67\"/>\n    <use x=\"1400.765625\" xlink:href=\"#DejaVuSans-65\"/>\n    <use x=\"1462.289062\" xlink:href=\"#DejaVuSans-20\"/>\n    <use x=\"1494.076172\" xlink:href=\"#DejaVuSans-52\"/>\n    <use x=\"1561.308594\" xlink:href=\"#DejaVuSans-61\"/>\n    <use x=\"1622.587891\" xlink:href=\"#DejaVuSans-74\"/>\n    <use x=\"1661.796875\" xlink:href=\"#DejaVuSans-69\"/>\n    <use x=\"1689.580078\" xlink:href=\"#DejaVuSans-6e\"/>\n    <use x=\"1752.958984\" xlink:href=\"#DejaVuSans-67\"/>\n   </g>\n  </g>\n </g>\n <defs>\n  <clipPath id=\"p8c74f3de8a\">\n   <rect height=\"266.112\" width=\"357.12\" x=\"49.591938\" y=\"26.105371\"/>\n  </clipPath>\n </defs>\n</svg>\n",
            "image/png": "[encoded data removed]"
          },
          "metadata": {}
        },
        {
          "output_type": "execute_result",
          "data": {
            "text/plain": [
              "<ggplot: (8792991564391)>"
            ]
          },
          "metadata": {},
          "execution_count": 5
        }
      ],
      "metadata": {
        "colab": {
          "base_uri": "https://localhost:8080/",
          "height": 490
        },
        "id": "5QKrlWnZofT3",
        "outputId": "8b25b2bf-f34c-423e-84b2-50f062ee80f6"
      }
    },
    {
      "cell_type": "markdown",
      "source": [
        "<h2>Average Rating vs Rating Count</h2>\n",
        "\n",
        "From the two tables below, we can learn that:\n",
        "- Just because the average rating is high, that does not guarantee that they are the best-selling/ the most popular books.\n",
        "    - For example, \"ESV Study Bible\" has less rating count but its average rating is as high as \"Words of Radiance (The Stormlight Archive, #2)\" which has a greater rating count than \"ESV Study Bible\".\n",
        "    - \"Twilight\" has more rating count than \"ESV Study Bible\" but the average rating of \"Twilight\" is much lower than \"ESV Study Bible\".\n",
        "\n",
        "<h3>Since average rating and rating count are not always proportionally related, we will utilize IMDd weighted rating.</h3> (https://en.wikipedia.org/wiki/IMDb) \n",
        "\n",
        "- W (weighted rating of a chosen book) = (R * v + C * m) / (v, m)\n",
        "    - R = average rating of the chosen book,\n",
        "    - v = rating count for the chosen book,\n",
        "    - C = mean average rating across all books,\n",
        "    - m = minimum rating count required to be listed in the dataset\n"
      ],
      "metadata": {
        "id": "vM_4EhUSofT4"
      }
    },
    {
      "cell_type": "code",
      "execution_count": null,
      "source": [
        "books[['book_id', 'authors', 'title', 'average_rating', 'ratings_count']].sort_values(by='average_rating', ascending=False).head()"
      ],
      "outputs": [
        {
          "output_type": "execute_result",
          "data": {
            "text/plain": [
              "      book_id                                     authors  \\\n",
              "3627     3628                              Bill Watterson   \n",
              "3274     3275                 J.K. Rowling, Mary GrandPré   \n",
              "861       862                           Brandon Sanderson   \n",
              "8853     8854                             Francine Rivers   \n",
              "7946     7947  Anonymous, Lane T. Dennis, Wayne A. Grudem   \n",
              "\n",
              "                                                  title  average_rating  \\\n",
              "3627                     The Complete Calvin and Hobbes            4.82   \n",
              "3274  Harry Potter Boxed Set, Books 1-5 (Harry Potte...            4.77   \n",
              "861      Words of Radiance (The Stormlight Archive, #2)            4.77   \n",
              "8853                           Mark of the Lion Trilogy            4.76   \n",
              "7946                                    ESV Study Bible            4.76   \n",
              "\n",
              "      ratings_count  \n",
              "3627          28900  \n",
              "3274          33220  \n",
              "861           73572  \n",
              "8853           9081  \n",
              "7946           8953  "
            ],
            "text/html": [
              "<div>\n",
              "<style scoped>\n",
              "    .dataframe tbody tr th:only-of-type {\n",
              "        vertical-align: middle;\n",
              "    }\n",
              "\n",
              "    .dataframe tbody tr th {\n",
              "        vertical-align: top;\n",
              "    }\n",
              "\n",
              "    .dataframe thead th {\n",
              "        text-align: right;\n",
              "    }\n",
              "</style>\n",
              "<table border=\"1\" class=\"dataframe\">\n",
              "  <thead>\n",
              "    <tr style=\"text-align: right;\">\n",
              "      <th></th>\n",
              "      <th>book_id</th>\n",
              "      <th>authors</th>\n",
              "      <th>title</th>\n",
              "      <th>average_rating</th>\n",
              "      <th>ratings_count</th>\n",
              "    </tr>\n",
              "  </thead>\n",
              "  <tbody>\n",
              "    <tr>\n",
              "      <th>3627</th>\n",
              "      <td>3628</td>\n",
              "      <td>Bill Watterson</td>\n",
              "      <td>The Complete Calvin and Hobbes</td>\n",
              "      <td>4.82</td>\n",
              "      <td>28900</td>\n",
              "    </tr>\n",
              "    <tr>\n",
              "      <th>3274</th>\n",
              "      <td>3275</td>\n",
              "      <td>J.K. Rowling, Mary GrandPré</td>\n",
              "      <td>Harry Potter Boxed Set, Books 1-5 (Harry Potte...</td>\n",
              "      <td>4.77</td>\n",
              "      <td>33220</td>\n",
              "    </tr>\n",
              "    <tr>\n",
              "      <th>861</th>\n",
              "      <td>862</td>\n",
              "      <td>Brandon Sanderson</td>\n",
              "      <td>Words of Radiance (The Stormlight Archive, #2)</td>\n",
              "      <td>4.77</td>\n",
              "      <td>73572</td>\n",
              "    </tr>\n",
              "    <tr>\n",
              "      <th>8853</th>\n",
              "      <td>8854</td>\n",
              "      <td>Francine Rivers</td>\n",
              "      <td>Mark of the Lion Trilogy</td>\n",
              "      <td>4.76</td>\n",
              "      <td>9081</td>\n",
              "    </tr>\n",
              "    <tr>\n",
              "      <th>7946</th>\n",
              "      <td>7947</td>\n",
              "      <td>Anonymous, Lane T. Dennis, Wayne A. Grudem</td>\n",
              "      <td>ESV Study Bible</td>\n",
              "      <td>4.76</td>\n",
              "      <td>8953</td>\n",
              "    </tr>\n",
              "  </tbody>\n",
              "</table>\n",
              "</div>"
            ]
          },
          "metadata": {},
          "execution_count": 6
        }
      ],
      "metadata": {
        "colab": {
          "base_uri": "https://localhost:8080/",
          "height": 204
        },
        "id": "9GhWLzSRofT5",
        "outputId": "cedac90f-197d-40cc-deaf-795a529f956a"
      }
    },
    {
      "cell_type": "code",
      "execution_count": null,
      "source": [
        "books[['book_id', 'authors', 'title', 'average_rating', 'ratings_count']].sort_values(by='ratings_count', ascending=False).head()"
      ],
      "outputs": [
        {
          "output_type": "execute_result",
          "data": {
            "text/plain": [
              "   book_id                      authors  \\\n",
              "0        1              Suzanne Collins   \n",
              "1        2  J.K. Rowling, Mary GrandPré   \n",
              "2        3              Stephenie Meyer   \n",
              "3        4                   Harper Lee   \n",
              "4        5          F. Scott Fitzgerald   \n",
              "\n",
              "                                               title  average_rating  \\\n",
              "0            The Hunger Games (The Hunger Games, #1)            4.34   \n",
              "1  Harry Potter and the Sorcerer's Stone (Harry P...            4.44   \n",
              "2                            Twilight (Twilight, #1)            3.57   \n",
              "3                              To Kill a Mockingbird            4.25   \n",
              "4                                   The Great Gatsby            3.89   \n",
              "\n",
              "   ratings_count  \n",
              "0        4780653  \n",
              "1        4602479  \n",
              "2        3866839  \n",
              "3        3198671  \n",
              "4        2683664  "
            ],
            "text/html": [
              "<div>\n",
              "<style scoped>\n",
              "    .dataframe tbody tr th:only-of-type {\n",
              "        vertical-align: middle;\n",
              "    }\n",
              "\n",
              "    .dataframe tbody tr th {\n",
              "        vertical-align: top;\n",
              "    }\n",
              "\n",
              "    .dataframe thead th {\n",
              "        text-align: right;\n",
              "    }\n",
              "</style>\n",
              "<table border=\"1\" class=\"dataframe\">\n",
              "  <thead>\n",
              "    <tr style=\"text-align: right;\">\n",
              "      <th></th>\n",
              "      <th>book_id</th>\n",
              "      <th>authors</th>\n",
              "      <th>title</th>\n",
              "      <th>average_rating</th>\n",
              "      <th>ratings_count</th>\n",
              "    </tr>\n",
              "  </thead>\n",
              "  <tbody>\n",
              "    <tr>\n",
              "      <th>0</th>\n",
              "      <td>1</td>\n",
              "      <td>Suzanne Collins</td>\n",
              "      <td>The Hunger Games (The Hunger Games, #1)</td>\n",
              "      <td>4.34</td>\n",
              "      <td>4780653</td>\n",
              "    </tr>\n",
              "    <tr>\n",
              "      <th>1</th>\n",
              "      <td>2</td>\n",
              "      <td>J.K. Rowling, Mary GrandPré</td>\n",
              "      <td>Harry Potter and the Sorcerer's Stone (Harry P...</td>\n",
              "      <td>4.44</td>\n",
              "      <td>4602479</td>\n",
              "    </tr>\n",
              "    <tr>\n",
              "      <th>2</th>\n",
              "      <td>3</td>\n",
              "      <td>Stephenie Meyer</td>\n",
              "      <td>Twilight (Twilight, #1)</td>\n",
              "      <td>3.57</td>\n",
              "      <td>3866839</td>\n",
              "    </tr>\n",
              "    <tr>\n",
              "      <th>3</th>\n",
              "      <td>4</td>\n",
              "      <td>Harper Lee</td>\n",
              "      <td>To Kill a Mockingbird</td>\n",
              "      <td>4.25</td>\n",
              "      <td>3198671</td>\n",
              "    </tr>\n",
              "    <tr>\n",
              "      <th>4</th>\n",
              "      <td>5</td>\n",
              "      <td>F. Scott Fitzgerald</td>\n",
              "      <td>The Great Gatsby</td>\n",
              "      <td>3.89</td>\n",
              "      <td>2683664</td>\n",
              "    </tr>\n",
              "  </tbody>\n",
              "</table>\n",
              "</div>"
            ]
          },
          "metadata": {},
          "execution_count": 7
        }
      ],
      "metadata": {
        "colab": {
          "base_uri": "https://localhost:8080/",
          "height": 204
        },
        "id": "sRb-QPg4ofT6",
        "outputId": "0f13a065-d6bb-4392-d147-fb8e712f8e80"
      }
    },
    {
      "cell_type": "markdown",
      "source": [
        "<h2>Book Count for Authors</h2>\n",
        "\n",
        "From the plot below, we can learn that:\n",
        "- The majority of each author/ a group of authors has one book listed."
      ],
      "metadata": {
        "id": "TP7fc0rWofT6"
      }
    },
    {
      "cell_type": "code",
      "execution_count": null,
      "source": [
        "grouped = books.groupby('authors')['authors'].agg({'count'})\n",
        "(ggplot(data=grouped)\n",
        "    + geom_histogram(aes(x='count'), binwidth=1)\n",
        "    + labs(title='Number of Authors for each Book Count', x='Book Count', y='Number of Authors')\n",
        ")"
      ],
      "outputs": [
        {
          "output_type": "display_data",
          "data": {
            "text/plain": [
              "<Figure size 640x480 with 1 Axes>"
            ],
            "image/svg+xml": "<?xml version=\"1.0\" encoding=\"utf-8\" standalone=\"no\"?>\n<!DOCTYPE svg PUBLIC \"-//W3C//DTD SVG 1.1//EN\"\n  \"http://www.w3.org/Graphics/SVG/1.1/DTD/svg11.dtd\">\n<svg height=\"327.930058pt\" version=\"1.1\" viewBox=\"0 0 413.911937 327.930058\" width=\"413.911937pt\" xmlns=\"http://www.w3.org/2000/svg\" xmlns:xlink=\"http://www.w3.org/1999/xlink\">\n <metadata>\n  <rdf:RDF xmlns:cc=\"http://creativecommons.org/ns#\" xmlns:dc=\"http://purl.org/dc/elements/1.1/\" xmlns:rdf=\"http://www.w3.org/1999/02/22-rdf-syntax-ns#\">\n   <cc:Work>\n    <dc:type rdf:resource=\"http://purl.org/dc/dcmitype/StillImage\"/>\n    <dc:date>2021-09-01T14:16:37.176905</dc:date>\n    <dc:format>image/svg+xml</dc:format>\n    <dc:creator>\n     <cc:Agent>\n      <dc:title>Matplotlib v3.4.2, https://matplotlib.org/</dc:title>\n     </cc:Agent>\n    </dc:creator>\n   </cc:Work>\n  </rdf:RDF>\n </metadata>\n <defs>\n  <style type=\"text/css\">*{stroke-linecap:butt;stroke-linejoin:round;}</style>\n </defs>\n <g id=\"figure_1\">\n  <g id=\"patch_1\">\n   <path d=\"M 0 327.930058 \nL 413.911937 327.930058 \nL 413.911937 0 \nL 0 0 \nz\n\" style=\"fill:#ffffff;stroke:#ffffff;stroke-linejoin:miter;\"/>\n  </g>\n  <g id=\"axes_1\">\n   <g id=\"patch_2\">\n    <path d=\"M 49.591938 292.217371 \nL 406.711938 292.217371 \nL 406.711938 26.105371 \nL 49.591938 26.105371 \nz\n\" style=\"fill:#ebebeb;\"/>\n   </g>\n   <g id=\"matplotlib.axis_1\">\n    <g id=\"xtick_1\">\n     <g id=\"line2d_1\">\n      <path clip-path=\"url(#p07c635b568)\" d=\"M 63.11921 292.217371 \nL 63.11921 26.105371 \n\" style=\"fill:none;stroke:#ffffff;\"/>\n     </g>\n     <g id=\"line2d_2\">\n      <path d=\"M 63.11921 292.217371 \n\" style=\"fill:none;stroke:#333333;stroke-width:1.5;\"/>\n      <defs>\n       <path d=\"M 0 0 \nL 0 2.75 \n\" id=\"mfb670c7a3e\" style=\"stroke:#000000;\"/>\n      </defs>\n      <g>\n       <use style=\"fill:#333333;stroke:#000000;\" x=\"63.11921\" xlink:href=\"#mfb670c7a3e\" y=\"292.217371\"/>\n      </g>\n     </g>\n     <g id=\"text_1\">\n      <!-- 0 -->\n      <g style=\"fill:#4d4d4d;\" transform=\"translate(60.31971 303.853996)scale(0.088 -0.088)\">\n       <defs>\n        <path d=\"M 2034 4250 \nQ 1547 4250 1301 3770 \nQ 1056 3291 1056 2328 \nQ 1056 1369 1301 889 \nQ 1547 409 2034 409 \nQ 2525 409 2770 889 \nQ 3016 1369 3016 2328 \nQ 3016 3291 2770 3770 \nQ 2525 4250 2034 4250 \nz\nM 2034 4750 \nQ 2819 4750 3233 4129 \nQ 3647 3509 3647 2328 \nQ 3647 1150 3233 529 \nQ 2819 -91 2034 -91 \nQ 1250 -91 836 529 \nQ 422 1150 422 2328 \nQ 422 3509 836 4129 \nQ 1250 4750 2034 4750 \nz\n\" id=\"DejaVuSans-30\" transform=\"scale(0.015625)\"/>\n       </defs>\n       <use xlink:href=\"#DejaVuSans-30\"/>\n      </g>\n     </g>\n    </g>\n    <g id=\"xtick_2\">\n     <g id=\"line2d_3\">\n      <path clip-path=\"url(#p07c635b568)\" d=\"M 171.337392 292.217371 \nL 171.337392 26.105371 \n\" style=\"fill:none;stroke:#ffffff;\"/>\n     </g>\n     <g id=\"line2d_4\">\n      <path d=\"M 171.337392 292.217371 \n\" style=\"fill:none;stroke:#333333;stroke-width:1.5;\"/>\n      <g>\n       <use style=\"fill:#333333;stroke:#000000;\" x=\"171.337392\" xlink:href=\"#mfb670c7a3e\" y=\"292.217371\"/>\n      </g>\n     </g>\n     <g id=\"text_2\">\n      <!-- 20 -->\n      <g style=\"fill:#4d4d4d;\" transform=\"translate(165.738392 303.853996)scale(0.088 -0.088)\">\n       <defs>\n        <path d=\"M 1228 531 \nL 3431 531 \nL 3431 0 \nL 469 0 \nL 469 531 \nQ 828 903 1448 1529 \nQ 2069 2156 2228 2338 \nQ 2531 2678 2651 2914 \nQ 2772 3150 2772 3378 \nQ 2772 3750 2511 3984 \nQ 2250 4219 1831 4219 \nQ 1534 4219 1204 4116 \nQ 875 4013 500 3803 \nL 500 4441 \nQ 881 4594 1212 4672 \nQ 1544 4750 1819 4750 \nQ 2544 4750 2975 4387 \nQ 3406 4025 3406 3419 \nQ 3406 3131 3298 2873 \nQ 3191 2616 2906 2266 \nQ 2828 2175 2409 1742 \nQ 1991 1309 1228 531 \nz\n\" id=\"DejaVuSans-32\" transform=\"scale(0.015625)\"/>\n       </defs>\n       <use xlink:href=\"#DejaVuSans-32\"/>\n       <use x=\"63.623047\" xlink:href=\"#DejaVuSans-30\"/>\n      </g>\n     </g>\n    </g>\n    <g id=\"xtick_3\">\n     <g id=\"line2d_5\">\n      <path clip-path=\"url(#p07c635b568)\" d=\"M 279.555574 292.217371 \nL 279.555574 26.105371 \n\" style=\"fill:none;stroke:#ffffff;\"/>\n     </g>\n     <g id=\"line2d_6\">\n      <path d=\"M 279.555574 292.217371 \n\" style=\"fill:none;stroke:#333333;stroke-width:1.5;\"/>\n      <g>\n       <use style=\"fill:#333333;stroke:#000000;\" x=\"279.555574\" xlink:href=\"#mfb670c7a3e\" y=\"292.217371\"/>\n      </g>\n     </g>\n     <g id=\"text_3\">\n      <!-- 40 -->\n      <g style=\"fill:#4d4d4d;\" transform=\"translate(273.956574 303.853996)scale(0.088 -0.088)\">\n       <defs>\n        <path d=\"M 2419 4116 \nL 825 1625 \nL 2419 1625 \nL 2419 4116 \nz\nM 2253 4666 \nL 3047 4666 \nL 3047 1625 \nL 3713 1625 \nL 3713 1100 \nL 3047 1100 \nL 3047 0 \nL 2419 0 \nL 2419 1100 \nL 313 1100 \nL 313 1709 \nL 2253 4666 \nz\n\" id=\"DejaVuSans-34\" transform=\"scale(0.015625)\"/>\n       </defs>\n       <use xlink:href=\"#DejaVuSans-34\"/>\n       <use x=\"63.623047\" xlink:href=\"#DejaVuSans-30\"/>\n      </g>\n     </g>\n    </g>\n    <g id=\"xtick_4\">\n     <g id=\"line2d_7\">\n      <path clip-path=\"url(#p07c635b568)\" d=\"M 387.773756 292.217371 \nL 387.773756 26.105371 \n\" style=\"fill:none;stroke:#ffffff;\"/>\n     </g>\n     <g id=\"line2d_8\">\n      <path d=\"M 387.773756 292.217371 \n\" style=\"fill:none;stroke:#333333;stroke-width:1.5;\"/>\n      <g>\n       <use style=\"fill:#333333;stroke:#000000;\" x=\"387.773756\" xlink:href=\"#mfb670c7a3e\" y=\"292.217371\"/>\n      </g>\n     </g>\n     <g id=\"text_4\">\n      <!-- 60 -->\n      <g style=\"fill:#4d4d4d;\" transform=\"translate(382.174756 303.853996)scale(0.088 -0.088)\">\n       <defs>\n        <path d=\"M 2113 2584 \nQ 1688 2584 1439 2293 \nQ 1191 2003 1191 1497 \nQ 1191 994 1439 701 \nQ 1688 409 2113 409 \nQ 2538 409 2786 701 \nQ 3034 994 3034 1497 \nQ 3034 2003 2786 2293 \nQ 2538 2584 2113 2584 \nz\nM 3366 4563 \nL 3366 3988 \nQ 3128 4100 2886 4159 \nQ 2644 4219 2406 4219 \nQ 1781 4219 1451 3797 \nQ 1122 3375 1075 2522 \nQ 1259 2794 1537 2939 \nQ 1816 3084 2150 3084 \nQ 2853 3084 3261 2657 \nQ 3669 2231 3669 1497 \nQ 3669 778 3244 343 \nQ 2819 -91 2113 -91 \nQ 1303 -91 875 529 \nQ 447 1150 447 2328 \nQ 447 3434 972 4092 \nQ 1497 4750 2381 4750 \nQ 2619 4750 2861 4703 \nQ 3103 4656 3366 4563 \nz\n\" id=\"DejaVuSans-36\" transform=\"scale(0.015625)\"/>\n       </defs>\n       <use xlink:href=\"#DejaVuSans-36\"/>\n       <use x=\"63.623047\" xlink:href=\"#DejaVuSans-30\"/>\n      </g>\n     </g>\n    </g>\n    <g id=\"xtick_5\">\n     <g id=\"line2d_9\">\n      <path clip-path=\"url(#p07c635b568)\" d=\"M 117.228301 292.217371 \nL 117.228301 26.105371 \n\" style=\"fill:none;stroke:#ffffff;stroke-width:0.5;\"/>\n     </g>\n    </g>\n    <g id=\"xtick_6\">\n     <g id=\"line2d_10\">\n      <path clip-path=\"url(#p07c635b568)\" d=\"M 225.446483 292.217371 \nL 225.446483 26.105371 \n\" style=\"fill:none;stroke:#ffffff;stroke-width:0.5;\"/>\n     </g>\n    </g>\n    <g id=\"xtick_7\">\n     <g id=\"line2d_11\">\n      <path clip-path=\"url(#p07c635b568)\" d=\"M 333.664665 292.217371 \nL 333.664665 26.105371 \n\" style=\"fill:none;stroke:#ffffff;stroke-width:0.5;\"/>\n     </g>\n    </g>\n    <g id=\"text_5\">\n     <!-- Book Count -->\n     <g transform=\"translate(190.621703 318.442402)scale(0.11 -0.11)\">\n      <defs>\n       <path d=\"M 1259 2228 \nL 1259 519 \nL 2272 519 \nQ 2781 519 3026 730 \nQ 3272 941 3272 1375 \nQ 3272 1813 3026 2020 \nQ 2781 2228 2272 2228 \nL 1259 2228 \nz\nM 1259 4147 \nL 1259 2741 \nL 2194 2741 \nQ 2656 2741 2882 2914 \nQ 3109 3088 3109 3444 \nQ 3109 3797 2882 3972 \nQ 2656 4147 2194 4147 \nL 1259 4147 \nz\nM 628 4666 \nL 2241 4666 \nQ 2963 4666 3353 4366 \nQ 3744 4066 3744 3513 \nQ 3744 3084 3544 2831 \nQ 3344 2578 2956 2516 \nQ 3422 2416 3680 2098 \nQ 3938 1781 3938 1306 \nQ 3938 681 3513 340 \nQ 3088 0 2303 0 \nL 628 0 \nL 628 4666 \nz\n\" id=\"DejaVuSans-42\" transform=\"scale(0.015625)\"/>\n       <path d=\"M 1959 3097 \nQ 1497 3097 1228 2736 \nQ 959 2375 959 1747 \nQ 959 1119 1226 758 \nQ 1494 397 1959 397 \nQ 2419 397 2687 759 \nQ 2956 1122 2956 1747 \nQ 2956 2369 2687 2733 \nQ 2419 3097 1959 3097 \nz\nM 1959 3584 \nQ 2709 3584 3137 3096 \nQ 3566 2609 3566 1747 \nQ 3566 888 3137 398 \nQ 2709 -91 1959 -91 \nQ 1206 -91 779 398 \nQ 353 888 353 1747 \nQ 353 2609 779 3096 \nQ 1206 3584 1959 3584 \nz\n\" id=\"DejaVuSans-6f\" transform=\"scale(0.015625)\"/>\n       <path d=\"M 581 4863 \nL 1159 4863 \nL 1159 1991 \nL 2875 3500 \nL 3609 3500 \nL 1753 1863 \nL 3688 0 \nL 2938 0 \nL 1159 1709 \nL 1159 0 \nL 581 0 \nL 581 4863 \nz\n\" id=\"DejaVuSans-6b\" transform=\"scale(0.015625)\"/>\n       <path id=\"DejaVuSans-20\" transform=\"scale(0.015625)\"/>\n       <path d=\"M 4122 4306 \nL 4122 3641 \nQ 3803 3938 3442 4084 \nQ 3081 4231 2675 4231 \nQ 1875 4231 1450 3742 \nQ 1025 3253 1025 2328 \nQ 1025 1406 1450 917 \nQ 1875 428 2675 428 \nQ 3081 428 3442 575 \nQ 3803 722 4122 1019 \nL 4122 359 \nQ 3791 134 3420 21 \nQ 3050 -91 2638 -91 \nQ 1578 -91 968 557 \nQ 359 1206 359 2328 \nQ 359 3453 968 4101 \nQ 1578 4750 2638 4750 \nQ 3056 4750 3426 4639 \nQ 3797 4528 4122 4306 \nz\n\" id=\"DejaVuSans-43\" transform=\"scale(0.015625)\"/>\n       <path d=\"M 544 1381 \nL 544 3500 \nL 1119 3500 \nL 1119 1403 \nQ 1119 906 1312 657 \nQ 1506 409 1894 409 \nQ 2359 409 2629 706 \nQ 2900 1003 2900 1516 \nL 2900 3500 \nL 3475 3500 \nL 3475 0 \nL 2900 0 \nL 2900 538 \nQ 2691 219 2414 64 \nQ 2138 -91 1772 -91 \nQ 1169 -91 856 284 \nQ 544 659 544 1381 \nz\nM 1991 3584 \nL 1991 3584 \nz\n\" id=\"DejaVuSans-75\" transform=\"scale(0.015625)\"/>\n       <path d=\"M 3513 2113 \nL 3513 0 \nL 2938 0 \nL 2938 2094 \nQ 2938 2591 2744 2837 \nQ 2550 3084 2163 3084 \nQ 1697 3084 1428 2787 \nQ 1159 2491 1159 1978 \nL 1159 0 \nL 581 0 \nL 581 3500 \nL 1159 3500 \nL 1159 2956 \nQ 1366 3272 1645 3428 \nQ 1925 3584 2291 3584 \nQ 2894 3584 3203 3211 \nQ 3513 2838 3513 2113 \nz\n\" id=\"DejaVuSans-6e\" transform=\"scale(0.015625)\"/>\n       <path d=\"M 1172 4494 \nL 1172 3500 \nL 2356 3500 \nL 2356 3053 \nL 1172 3053 \nL 1172 1153 \nQ 1172 725 1289 603 \nQ 1406 481 1766 481 \nL 2356 481 \nL 2356 0 \nL 1766 0 \nQ 1100 0 847 248 \nQ 594 497 594 1153 \nL 594 3053 \nL 172 3053 \nL 172 3500 \nL 594 3500 \nL 594 4494 \nL 1172 4494 \nz\n\" id=\"DejaVuSans-74\" transform=\"scale(0.015625)\"/>\n      </defs>\n      <use xlink:href=\"#DejaVuSans-42\"/>\n      <use x=\"68.603516\" xlink:href=\"#DejaVuSans-6f\"/>\n      <use x=\"129.785156\" xlink:href=\"#DejaVuSans-6f\"/>\n      <use x=\"190.966797\" xlink:href=\"#DejaVuSans-6b\"/>\n      <use x=\"248.876953\" xlink:href=\"#DejaVuSans-20\"/>\n      <use x=\"280.664062\" xlink:href=\"#DejaVuSans-43\"/>\n      <use x=\"350.488281\" xlink:href=\"#DejaVuSans-6f\"/>\n      <use x=\"411.669922\" xlink:href=\"#DejaVuSans-75\"/>\n      <use x=\"475.048828\" xlink:href=\"#DejaVuSans-6e\"/>\n      <use x=\"538.427734\" xlink:href=\"#DejaVuSans-74\"/>\n     </g>\n    </g>\n   </g>\n   <g id=\"matplotlib.axis_2\">\n    <g id=\"ytick_1\">\n     <g id=\"line2d_12\">\n      <path clip-path=\"url(#p07c635b568)\" d=\"M 49.591938 280.121371 \nL 406.711938 280.121371 \n\" style=\"fill:none;stroke:#ffffff;\"/>\n     </g>\n     <g id=\"line2d_13\">\n      <path d=\"M 49.591938 280.121371 \n\" style=\"fill:none;stroke:#333333;stroke-width:1.5;\"/>\n      <defs>\n       <path d=\"M 0 0 \nL -2.75 0 \n\" id=\"m84e4d59168\" style=\"stroke:#000000;\"/>\n      </defs>\n      <g>\n       <use style=\"fill:#333333;stroke:#000000;\" x=\"49.591938\" xlink:href=\"#m84e4d59168\" y=\"280.121371\"/>\n      </g>\n     </g>\n     <g id=\"text_6\">\n      <!-- 0 -->\n      <g style=\"fill:#4d4d4d;\" transform=\"translate(39.042938 282.549621)scale(0.088 -0.088)\">\n       <use xlink:href=\"#DejaVuSans-30\"/>\n      </g>\n     </g>\n    </g>\n    <g id=\"ytick_2\">\n     <g id=\"line2d_14\">\n      <path clip-path=\"url(#p07c635b568)\" d=\"M 49.591938 207.275842 \nL 406.711938 207.275842 \n\" style=\"fill:none;stroke:#ffffff;\"/>\n     </g>\n     <g id=\"line2d_15\">\n      <path d=\"M 49.591938 207.275842 \n\" style=\"fill:none;stroke:#333333;stroke-width:1.5;\"/>\n      <g>\n       <use style=\"fill:#333333;stroke:#000000;\" x=\"49.591938\" xlink:href=\"#m84e4d59168\" y=\"207.275842\"/>\n      </g>\n     </g>\n     <g id=\"text_7\">\n      <!-- 1000 -->\n      <g style=\"fill:#4d4d4d;\" transform=\"translate(22.245938 209.704092)scale(0.088 -0.088)\">\n       <defs>\n        <path d=\"M 794 531 \nL 1825 531 \nL 1825 4091 \nL 703 3866 \nL 703 4441 \nL 1819 4666 \nL 2450 4666 \nL 2450 531 \nL 3481 531 \nL 3481 0 \nL 794 0 \nL 794 531 \nz\n\" id=\"DejaVuSans-31\" transform=\"scale(0.015625)\"/>\n       </defs>\n       <use xlink:href=\"#DejaVuSans-31\"/>\n       <use x=\"63.623047\" xlink:href=\"#DejaVuSans-30\"/>\n       <use x=\"127.246094\" xlink:href=\"#DejaVuSans-30\"/>\n       <use x=\"190.869141\" xlink:href=\"#DejaVuSans-30\"/>\n      </g>\n     </g>\n    </g>\n    <g id=\"ytick_3\">\n     <g id=\"line2d_16\">\n      <path clip-path=\"url(#p07c635b568)\" d=\"M 49.591938 134.430314 \nL 406.711938 134.430314 \n\" style=\"fill:none;stroke:#ffffff;\"/>\n     </g>\n     <g id=\"line2d_17\">\n      <path d=\"M 49.591938 134.430314 \n\" style=\"fill:none;stroke:#333333;stroke-width:1.5;\"/>\n      <g>\n       <use style=\"fill:#333333;stroke:#000000;\" x=\"49.591938\" xlink:href=\"#m84e4d59168\" y=\"134.430314\"/>\n      </g>\n     </g>\n     <g id=\"text_8\">\n      <!-- 2000 -->\n      <g style=\"fill:#4d4d4d;\" transform=\"translate(22.245938 136.858564)scale(0.088 -0.088)\">\n       <use xlink:href=\"#DejaVuSans-32\"/>\n       <use x=\"63.623047\" xlink:href=\"#DejaVuSans-30\"/>\n       <use x=\"127.246094\" xlink:href=\"#DejaVuSans-30\"/>\n       <use x=\"190.869141\" xlink:href=\"#DejaVuSans-30\"/>\n      </g>\n     </g>\n    </g>\n    <g id=\"ytick_4\">\n     <g id=\"line2d_18\">\n      <path clip-path=\"url(#p07c635b568)\" d=\"M 49.591938 61.584785 \nL 406.711938 61.584785 \n\" style=\"fill:none;stroke:#ffffff;\"/>\n     </g>\n     <g id=\"line2d_19\">\n      <path d=\"M 49.591938 61.584785 \n\" style=\"fill:none;stroke:#333333;stroke-width:1.5;\"/>\n      <g>\n       <use style=\"fill:#333333;stroke:#000000;\" x=\"49.591938\" xlink:href=\"#m84e4d59168\" y=\"61.584785\"/>\n      </g>\n     </g>\n     <g id=\"text_9\">\n      <!-- 3000 -->\n      <g style=\"fill:#4d4d4d;\" transform=\"translate(22.245938 64.013035)scale(0.088 -0.088)\">\n       <defs>\n        <path d=\"M 2597 2516 \nQ 3050 2419 3304 2112 \nQ 3559 1806 3559 1356 \nQ 3559 666 3084 287 \nQ 2609 -91 1734 -91 \nQ 1441 -91 1130 -33 \nQ 819 25 488 141 \nL 488 750 \nQ 750 597 1062 519 \nQ 1375 441 1716 441 \nQ 2309 441 2620 675 \nQ 2931 909 2931 1356 \nQ 2931 1769 2642 2001 \nQ 2353 2234 1838 2234 \nL 1294 2234 \nL 1294 2753 \nL 1863 2753 \nQ 2328 2753 2575 2939 \nQ 2822 3125 2822 3475 \nQ 2822 3834 2567 4026 \nQ 2313 4219 1838 4219 \nQ 1578 4219 1281 4162 \nQ 984 4106 628 3988 \nL 628 4550 \nQ 988 4650 1302 4700 \nQ 1616 4750 1894 4750 \nQ 2613 4750 3031 4423 \nQ 3450 4097 3450 3541 \nQ 3450 3153 3228 2886 \nQ 3006 2619 2597 2516 \nz\n\" id=\"DejaVuSans-33\" transform=\"scale(0.015625)\"/>\n       </defs>\n       <use xlink:href=\"#DejaVuSans-33\"/>\n       <use x=\"63.623047\" xlink:href=\"#DejaVuSans-30\"/>\n       <use x=\"127.246094\" xlink:href=\"#DejaVuSans-30\"/>\n       <use x=\"190.869141\" xlink:href=\"#DejaVuSans-30\"/>\n      </g>\n     </g>\n    </g>\n    <g id=\"ytick_5\">\n     <g id=\"line2d_20\">\n      <path clip-path=\"url(#p07c635b568)\" d=\"M 49.591938 243.698606 \nL 406.711938 243.698606 \n\" style=\"fill:none;stroke:#ffffff;stroke-width:0.5;\"/>\n     </g>\n    </g>\n    <g id=\"ytick_6\">\n     <g id=\"line2d_21\">\n      <path clip-path=\"url(#p07c635b568)\" d=\"M 49.591938 170.853078 \nL 406.711938 170.853078 \n\" style=\"fill:none;stroke:#ffffff;stroke-width:0.5;\"/>\n     </g>\n    </g>\n    <g id=\"ytick_7\">\n     <g id=\"line2d_22\">\n      <path clip-path=\"url(#p07c635b568)\" d=\"M 49.591938 98.00755 \nL 406.711938 98.00755 \n\" style=\"fill:none;stroke:#ffffff;stroke-width:0.5;\"/>\n     </g>\n    </g>\n    <g id=\"text_10\">\n     <!-- Number of Authors -->\n     <g transform=\"translate(15.558281 209.706574)rotate(-90)scale(0.11 -0.11)\">\n      <defs>\n       <path d=\"M 628 4666 \nL 1478 4666 \nL 3547 763 \nL 3547 4666 \nL 4159 4666 \nL 4159 0 \nL 3309 0 \nL 1241 3903 \nL 1241 0 \nL 628 0 \nL 628 4666 \nz\n\" id=\"DejaVuSans-4e\" transform=\"scale(0.015625)\"/>\n       <path d=\"M 3328 2828 \nQ 3544 3216 3844 3400 \nQ 4144 3584 4550 3584 \nQ 5097 3584 5394 3201 \nQ 5691 2819 5691 2113 \nL 5691 0 \nL 5113 0 \nL 5113 2094 \nQ 5113 2597 4934 2840 \nQ 4756 3084 4391 3084 \nQ 3944 3084 3684 2787 \nQ 3425 2491 3425 1978 \nL 3425 0 \nL 2847 0 \nL 2847 2094 \nQ 2847 2600 2669 2842 \nQ 2491 3084 2119 3084 \nQ 1678 3084 1418 2786 \nQ 1159 2488 1159 1978 \nL 1159 0 \nL 581 0 \nL 581 3500 \nL 1159 3500 \nL 1159 2956 \nQ 1356 3278 1631 3431 \nQ 1906 3584 2284 3584 \nQ 2666 3584 2933 3390 \nQ 3200 3197 3328 2828 \nz\n\" id=\"DejaVuSans-6d\" transform=\"scale(0.015625)\"/>\n       <path d=\"M 3116 1747 \nQ 3116 2381 2855 2742 \nQ 2594 3103 2138 3103 \nQ 1681 3103 1420 2742 \nQ 1159 2381 1159 1747 \nQ 1159 1113 1420 752 \nQ 1681 391 2138 391 \nQ 2594 391 2855 752 \nQ 3116 1113 3116 1747 \nz\nM 1159 2969 \nQ 1341 3281 1617 3432 \nQ 1894 3584 2278 3584 \nQ 2916 3584 3314 3078 \nQ 3713 2572 3713 1747 \nQ 3713 922 3314 415 \nQ 2916 -91 2278 -91 \nQ 1894 -91 1617 61 \nQ 1341 213 1159 525 \nL 1159 0 \nL 581 0 \nL 581 4863 \nL 1159 4863 \nL 1159 2969 \nz\n\" id=\"DejaVuSans-62\" transform=\"scale(0.015625)\"/>\n       <path d=\"M 3597 1894 \nL 3597 1613 \nL 953 1613 \nQ 991 1019 1311 708 \nQ 1631 397 2203 397 \nQ 2534 397 2845 478 \nQ 3156 559 3463 722 \nL 3463 178 \nQ 3153 47 2828 -22 \nQ 2503 -91 2169 -91 \nQ 1331 -91 842 396 \nQ 353 884 353 1716 \nQ 353 2575 817 3079 \nQ 1281 3584 2069 3584 \nQ 2775 3584 3186 3129 \nQ 3597 2675 3597 1894 \nz\nM 3022 2063 \nQ 3016 2534 2758 2815 \nQ 2500 3097 2075 3097 \nQ 1594 3097 1305 2825 \nQ 1016 2553 972 2059 \nL 3022 2063 \nz\n\" id=\"DejaVuSans-65\" transform=\"scale(0.015625)\"/>\n       <path d=\"M 2631 2963 \nQ 2534 3019 2420 3045 \nQ 2306 3072 2169 3072 \nQ 1681 3072 1420 2755 \nQ 1159 2438 1159 1844 \nL 1159 0 \nL 581 0 \nL 581 3500 \nL 1159 3500 \nL 1159 2956 \nQ 1341 3275 1631 3429 \nQ 1922 3584 2338 3584 \nQ 2397 3584 2469 3576 \nQ 2541 3569 2628 3553 \nL 2631 2963 \nz\n\" id=\"DejaVuSans-72\" transform=\"scale(0.015625)\"/>\n       <path d=\"M 2375 4863 \nL 2375 4384 \nL 1825 4384 \nQ 1516 4384 1395 4259 \nQ 1275 4134 1275 3809 \nL 1275 3500 \nL 2222 3500 \nL 2222 3053 \nL 1275 3053 \nL 1275 0 \nL 697 0 \nL 697 3053 \nL 147 3053 \nL 147 3500 \nL 697 3500 \nL 697 3744 \nQ 697 4328 969 4595 \nQ 1241 4863 1831 4863 \nL 2375 4863 \nz\n\" id=\"DejaVuSans-66\" transform=\"scale(0.015625)\"/>\n       <path d=\"M 2188 4044 \nL 1331 1722 \nL 3047 1722 \nL 2188 4044 \nz\nM 1831 4666 \nL 2547 4666 \nL 4325 0 \nL 3669 0 \nL 3244 1197 \nL 1141 1197 \nL 716 0 \nL 50 0 \nL 1831 4666 \nz\n\" id=\"DejaVuSans-41\" transform=\"scale(0.015625)\"/>\n       <path d=\"M 3513 2113 \nL 3513 0 \nL 2938 0 \nL 2938 2094 \nQ 2938 2591 2744 2837 \nQ 2550 3084 2163 3084 \nQ 1697 3084 1428 2787 \nQ 1159 2491 1159 1978 \nL 1159 0 \nL 581 0 \nL 581 4863 \nL 1159 4863 \nL 1159 2956 \nQ 1366 3272 1645 3428 \nQ 1925 3584 2291 3584 \nQ 2894 3584 3203 3211 \nQ 3513 2838 3513 2113 \nz\n\" id=\"DejaVuSans-68\" transform=\"scale(0.015625)\"/>\n       <path d=\"M 2834 3397 \nL 2834 2853 \nQ 2591 2978 2328 3040 \nQ 2066 3103 1784 3103 \nQ 1356 3103 1142 2972 \nQ 928 2841 928 2578 \nQ 928 2378 1081 2264 \nQ 1234 2150 1697 2047 \nL 1894 2003 \nQ 2506 1872 2764 1633 \nQ 3022 1394 3022 966 \nQ 3022 478 2636 193 \nQ 2250 -91 1575 -91 \nQ 1294 -91 989 -36 \nQ 684 19 347 128 \nL 347 722 \nQ 666 556 975 473 \nQ 1284 391 1588 391 \nQ 1994 391 2212 530 \nQ 2431 669 2431 922 \nQ 2431 1156 2273 1281 \nQ 2116 1406 1581 1522 \nL 1381 1569 \nQ 847 1681 609 1914 \nQ 372 2147 372 2553 \nQ 372 3047 722 3315 \nQ 1072 3584 1716 3584 \nQ 2034 3584 2315 3537 \nQ 2597 3491 2834 3397 \nz\n\" id=\"DejaVuSans-73\" transform=\"scale(0.015625)\"/>\n      </defs>\n      <use xlink:href=\"#DejaVuSans-4e\"/>\n      <use x=\"74.804688\" xlink:href=\"#DejaVuSans-75\"/>\n      <use x=\"138.183594\" xlink:href=\"#DejaVuSans-6d\"/>\n      <use x=\"235.595703\" xlink:href=\"#DejaVuSans-62\"/>\n      <use x=\"299.072266\" xlink:href=\"#DejaVuSans-65\"/>\n      <use x=\"360.595703\" xlink:href=\"#DejaVuSans-72\"/>\n      <use x=\"401.708984\" xlink:href=\"#DejaVuSans-20\"/>\n      <use x=\"433.496094\" xlink:href=\"#DejaVuSans-6f\"/>\n      <use x=\"494.677734\" xlink:href=\"#DejaVuSans-66\"/>\n      <use x=\"529.882812\" xlink:href=\"#DejaVuSans-20\"/>\n      <use x=\"561.669922\" xlink:href=\"#DejaVuSans-41\"/>\n      <use x=\"630.078125\" xlink:href=\"#DejaVuSans-75\"/>\n      <use x=\"693.457031\" xlink:href=\"#DejaVuSans-74\"/>\n      <use x=\"732.666016\" xlink:href=\"#DejaVuSans-68\"/>\n      <use x=\"796.044922\" xlink:href=\"#DejaVuSans-6f\"/>\n      <use x=\"857.226562\" xlink:href=\"#DejaVuSans-72\"/>\n      <use x=\"898.339844\" xlink:href=\"#DejaVuSans-73\"/>\n     </g>\n    </g>\n   </g>\n   <g id=\"PolyCollection_1\">\n    <path clip-path=\"url(#p07c635b568)\" d=\"M 65.824665 280.121371 \nL 65.824665 38.201371 \nL 71.235574 38.201371 \nL 71.235574 280.121371 \nz\n\" style=\"fill:#595959;\"/>\n    <path clip-path=\"url(#p07c635b568)\" d=\"M 71.235574 280.121371 \nL 71.235574 243.042997 \nL 76.646483 243.042997 \nL 76.646483 280.121371 \nz\n\" style=\"fill:#595959;\"/>\n    <path clip-path=\"url(#p07c635b568)\" d=\"M 76.646483 280.121371 \nL 76.646483 259.797468 \nL 82.057392 259.797468 \nL 82.057392 280.121371 \nz\n\" style=\"fill:#595959;\"/>\n    <path clip-path=\"url(#p07c635b568)\" d=\"M 82.057392 280.121371 \nL 82.057392 269.922997 \nL 87.468301 269.922997 \nL 87.468301 280.121371 \nz\n\" style=\"fill:#595959;\"/>\n    <path clip-path=\"url(#p07c635b568)\" d=\"M 87.468301 280.121371 \nL 87.468301 274.075192 \nL 92.87921 274.075192 \nL 92.87921 280.121371 \nz\n\" style=\"fill:#595959;\"/>\n    <path clip-path=\"url(#p07c635b568)\" d=\"M 92.87921 280.121371 \nL 92.87921 274.949338 \nL 98.290119 274.949338 \nL 98.290119 280.121371 \nz\n\" style=\"fill:#595959;\"/>\n    <path clip-path=\"url(#p07c635b568)\" d=\"M 98.290119 280.121371 \nL 98.290119 276.697631 \nL 103.701028 276.697631 \nL 103.701028 280.121371 \nz\n\" style=\"fill:#595959;\"/>\n    <path clip-path=\"url(#p07c635b568)\" d=\"M 103.701028 280.121371 \nL 103.701028 277.717468 \nL 109.111938 277.717468 \nL 109.111938 280.121371 \nz\n\" style=\"fill:#595959;\"/>\n    <path clip-path=\"url(#p07c635b568)\" d=\"M 109.111938 280.121371 \nL 109.111938 278.445924 \nL 114.522847 278.445924 \nL 114.522847 280.121371 \nz\n\" style=\"fill:#595959;\"/>\n    <path clip-path=\"url(#p07c635b568)\" d=\"M 114.522847 280.121371 \nL 114.522847 278.081696 \nL 119.933756 278.081696 \nL 119.933756 280.121371 \nz\n\" style=\"fill:#595959;\"/>\n    <path clip-path=\"url(#p07c635b568)\" d=\"M 119.933756 280.121371 \nL 119.933756 279.174379 \nL 125.344665 279.174379 \nL 125.344665 280.121371 \nz\n\" style=\"fill:#595959;\"/>\n    <path clip-path=\"url(#p07c635b568)\" d=\"M 125.344665 280.121371 \nL 125.344665 278.810151 \nL 130.755574 278.810151 \nL 130.755574 280.121371 \nz\n\" style=\"fill:#595959;\"/>\n    <path clip-path=\"url(#p07c635b568)\" d=\"M 130.755574 280.121371 \nL 130.755574 278.882997 \nL 136.166483 278.882997 \nL 136.166483 280.121371 \nz\n\" style=\"fill:#595959;\"/>\n    <path clip-path=\"url(#p07c635b568)\" d=\"M 136.166483 280.121371 \nL 136.166483 279.392915 \nL 141.577392 279.392915 \nL 141.577392 280.121371 \nz\n\" style=\"fill:#595959;\"/>\n    <path clip-path=\"url(#p07c635b568)\" d=\"M 141.577392 280.121371 \nL 141.577392 279.247224 \nL 146.988301 279.247224 \nL 146.988301 280.121371 \nz\n\" style=\"fill:#595959;\"/>\n    <path clip-path=\"url(#p07c635b568)\" d=\"M 146.988301 280.121371 \nL 146.988301 279.392915 \nL 152.39921 279.392915 \nL 152.39921 280.121371 \nz\n\" style=\"fill:#595959;\"/>\n    <path clip-path=\"url(#p07c635b568)\" d=\"M 152.39921 280.121371 \nL 152.39921 279.829989 \nL 157.810119 279.829989 \nL 157.810119 280.121371 \nz\n\" style=\"fill:#595959;\"/>\n    <path clip-path=\"url(#p07c635b568)\" d=\"M 157.810119 280.121371 \nL 157.810119 279.757143 \nL 163.221028 279.757143 \nL 163.221028 280.121371 \nz\n\" style=\"fill:#595959;\"/>\n    <path clip-path=\"url(#p07c635b568)\" d=\"M 163.221028 280.121371 \nL 163.221028 279.684298 \nL 168.631937 279.684298 \nL 168.631937 280.121371 \nz\n\" style=\"fill:#595959;\"/>\n    <path clip-path=\"url(#p07c635b568)\" d=\"M 168.631937 280.121371 \nL 168.631937 279.902834 \nL 174.042847 279.902834 \nL 174.042847 280.121371 \nz\n\" style=\"fill:#595959;\"/>\n    <path clip-path=\"url(#p07c635b568)\" d=\"M 174.042847 280.121371 \nL 174.042847 279.684298 \nL 179.453756 279.684298 \nL 179.453756 280.121371 \nz\n\" style=\"fill:#595959;\"/>\n    <path clip-path=\"url(#p07c635b568)\" d=\"M 179.453756 280.121371 \nL 179.453756 279.902834 \nL 184.864665 279.902834 \nL 184.864665 280.121371 \nz\n\" style=\"fill:#595959;\"/>\n    <path clip-path=\"url(#p07c635b568)\" d=\"M 184.864665 280.121371 \nL 184.864665 279.97568 \nL 190.275574 279.97568 \nL 190.275574 280.121371 \nz\n\" style=\"fill:#595959;\"/>\n    <path clip-path=\"url(#p07c635b568)\" d=\"M 190.275574 280.121371 \nL 190.275574 279.97568 \nL 195.686483 279.97568 \nL 195.686483 280.121371 \nz\n\" style=\"fill:#595959;\"/>\n    <path clip-path=\"url(#p07c635b568)\" d=\"M 195.686483 280.121371 \nL 195.686483 279.902834 \nL 201.097392 279.902834 \nL 201.097392 280.121371 \nz\n\" style=\"fill:#595959;\"/>\n    <path clip-path=\"url(#p07c635b568)\" d=\"M 201.097392 280.121371 \nL 201.097392 280.048525 \nL 206.508301 280.048525 \nL 206.508301 280.121371 \nz\n\" style=\"fill:#595959;\"/>\n    <path clip-path=\"url(#p07c635b568)\" d=\"M 206.508301 280.121371 \nL 206.508301 280.048525 \nL 211.91921 280.048525 \nL 211.91921 280.121371 \nz\n\" style=\"fill:#595959;\"/>\n    <path clip-path=\"url(#p07c635b568)\" d=\"M 211.91921 280.121371 \nL 211.91921 280.048525 \nL 217.330119 280.048525 \nL 217.330119 280.121371 \nz\n\" style=\"fill:#595959;\"/>\n    <path clip-path=\"url(#p07c635b568)\" d=\"M 217.330119 280.121371 \nL 217.330119 280.048525 \nL 222.741028 280.048525 \nL 222.741028 280.121371 \nz\n\" style=\"fill:#595959;\"/>\n    <path clip-path=\"url(#p07c635b568)\" d=\"M 222.741028 280.121371 \nL 222.741028 279.97568 \nL 228.151938 279.97568 \nL 228.151938 280.121371 \nz\n\" style=\"fill:#595959;\"/>\n    <path clip-path=\"url(#p07c635b568)\" d=\"M 228.151938 280.121371 \nL 228.151938 280.121371 \nL 233.562847 280.121371 \nL 233.562847 280.121371 \nz\n\" style=\"fill:#595959;\"/>\n    <path clip-path=\"url(#p07c635b568)\" d=\"M 233.562847 280.121371 \nL 233.562847 280.121371 \nL 238.973756 280.121371 \nL 238.973756 280.121371 \nz\n\" style=\"fill:#595959;\"/>\n    <path clip-path=\"url(#p07c635b568)\" d=\"M 238.973756 280.121371 \nL 238.973756 279.97568 \nL 244.384665 279.97568 \nL 244.384665 280.121371 \nz\n\" style=\"fill:#595959;\"/>\n    <path clip-path=\"url(#p07c635b568)\" d=\"M 244.384665 280.121371 \nL 244.384665 280.048525 \nL 249.795574 280.048525 \nL 249.795574 280.121371 \nz\n\" style=\"fill:#595959;\"/>\n    <path clip-path=\"url(#p07c635b568)\" d=\"M 249.795574 280.121371 \nL 249.795574 280.121371 \nL 255.206483 280.121371 \nL 255.206483 280.121371 \nz\n\" style=\"fill:#595959;\"/>\n    <path clip-path=\"url(#p07c635b568)\" d=\"M 255.206483 280.121371 \nL 255.206483 280.048525 \nL 260.617392 280.048525 \nL 260.617392 280.121371 \nz\n\" style=\"fill:#595959;\"/>\n    <path clip-path=\"url(#p07c635b568)\" d=\"M 260.617392 280.121371 \nL 260.617392 280.048525 \nL 266.028301 280.048525 \nL 266.028301 280.121371 \nz\n\" style=\"fill:#595959;\"/>\n    <path clip-path=\"url(#p07c635b568)\" d=\"M 266.028301 280.121371 \nL 266.028301 280.121371 \nL 271.43921 280.121371 \nL 271.43921 280.121371 \nz\n\" style=\"fill:#595959;\"/>\n    <path clip-path=\"url(#p07c635b568)\" d=\"M 271.43921 280.121371 \nL 271.43921 280.048525 \nL 276.850119 280.048525 \nL 276.850119 280.121371 \nz\n\" style=\"fill:#595959;\"/>\n    <path clip-path=\"url(#p07c635b568)\" d=\"M 276.850119 280.121371 \nL 276.850119 280.121371 \nL 282.261028 280.121371 \nL 282.261028 280.121371 \nz\n\" style=\"fill:#595959;\"/>\n    <path clip-path=\"url(#p07c635b568)\" d=\"M 282.261028 280.121371 \nL 282.261028 280.121371 \nL 287.671938 280.121371 \nL 287.671938 280.121371 \nz\n\" style=\"fill:#595959;\"/>\n    <path clip-path=\"url(#p07c635b568)\" d=\"M 287.671938 280.121371 \nL 287.671938 280.048525 \nL 293.082847 280.048525 \nL 293.082847 280.121371 \nz\n\" style=\"fill:#595959;\"/>\n    <path clip-path=\"url(#p07c635b568)\" d=\"M 293.082847 280.121371 \nL 293.082847 280.121371 \nL 298.493756 280.121371 \nL 298.493756 280.121371 \nz\n\" style=\"fill:#595959;\"/>\n    <path clip-path=\"url(#p07c635b568)\" d=\"M 298.493756 280.121371 \nL 298.493756 280.121371 \nL 303.904665 280.121371 \nL 303.904665 280.121371 \nz\n\" style=\"fill:#595959;\"/>\n    <path clip-path=\"url(#p07c635b568)\" d=\"M 303.904665 280.121371 \nL 303.904665 280.121371 \nL 309.315574 280.121371 \nL 309.315574 280.121371 \nz\n\" style=\"fill:#595959;\"/>\n    <path clip-path=\"url(#p07c635b568)\" d=\"M 309.315574 280.121371 \nL 309.315574 280.121371 \nL 314.726483 280.121371 \nL 314.726483 280.121371 \nz\n\" style=\"fill:#595959;\"/>\n    <path clip-path=\"url(#p07c635b568)\" d=\"M 314.726483 280.121371 \nL 314.726483 280.048525 \nL 320.137392 280.048525 \nL 320.137392 280.121371 \nz\n\" style=\"fill:#595959;\"/>\n    <path clip-path=\"url(#p07c635b568)\" d=\"M 320.137392 280.121371 \nL 320.137392 280.121371 \nL 325.548301 280.121371 \nL 325.548301 280.121371 \nz\n\" style=\"fill:#595959;\"/>\n    <path clip-path=\"url(#p07c635b568)\" d=\"M 325.548301 280.121371 \nL 325.548301 280.121371 \nL 330.95921 280.121371 \nL 330.95921 280.121371 \nz\n\" style=\"fill:#595959;\"/>\n    <path clip-path=\"url(#p07c635b568)\" d=\"M 330.95921 280.121371 \nL 330.95921 280.121371 \nL 336.370119 280.121371 \nL 336.370119 280.121371 \nz\n\" style=\"fill:#595959;\"/>\n    <path clip-path=\"url(#p07c635b568)\" d=\"M 336.370119 280.121371 \nL 336.370119 280.121371 \nL 341.781028 280.121371 \nL 341.781028 280.121371 \nz\n\" style=\"fill:#595959;\"/>\n    <path clip-path=\"url(#p07c635b568)\" d=\"M 341.781028 280.121371 \nL 341.781028 280.121371 \nL 347.191937 280.121371 \nL 347.191937 280.121371 \nz\n\" style=\"fill:#595959;\"/>\n    <path clip-path=\"url(#p07c635b568)\" d=\"M 347.191937 280.121371 \nL 347.191937 280.121371 \nL 352.602847 280.121371 \nL 352.602847 280.121371 \nz\n\" style=\"fill:#595959;\"/>\n    <path clip-path=\"url(#p07c635b568)\" d=\"M 352.602847 280.121371 \nL 352.602847 280.121371 \nL 358.013756 280.121371 \nL 358.013756 280.121371 \nz\n\" style=\"fill:#595959;\"/>\n    <path clip-path=\"url(#p07c635b568)\" d=\"M 358.013756 280.121371 \nL 358.013756 280.121371 \nL 363.424665 280.121371 \nL 363.424665 280.121371 \nz\n\" style=\"fill:#595959;\"/>\n    <path clip-path=\"url(#p07c635b568)\" d=\"M 363.424665 280.121371 \nL 363.424665 280.121371 \nL 368.835574 280.121371 \nL 368.835574 280.121371 \nz\n\" style=\"fill:#595959;\"/>\n    <path clip-path=\"url(#p07c635b568)\" d=\"M 368.835574 280.121371 \nL 368.835574 280.121371 \nL 374.246483 280.121371 \nL 374.246483 280.121371 \nz\n\" style=\"fill:#595959;\"/>\n    <path clip-path=\"url(#p07c635b568)\" d=\"M 374.246483 280.121371 \nL 374.246483 280.121371 \nL 379.657392 280.121371 \nL 379.657392 280.121371 \nz\n\" style=\"fill:#595959;\"/>\n    <path clip-path=\"url(#p07c635b568)\" d=\"M 379.657392 280.121371 \nL 379.657392 280.048525 \nL 385.068301 280.048525 \nL 385.068301 280.121371 \nz\n\" style=\"fill:#595959;\"/>\n    <path clip-path=\"url(#p07c635b568)\" d=\"M 385.068301 280.121371 \nL 385.068301 280.048525 \nL 390.47921 280.048525 \nL 390.47921 280.121371 \nz\n\" style=\"fill:#595959;\"/>\n   </g>\n  </g>\n  <g id=\"text_11\">\n   <!-- Number of Authors for each Book Count -->\n   <g transform=\"translate(90.254781 17.229938)scale(0.132 -0.132)\">\n    <defs>\n     <path d=\"M 2194 1759 \nQ 1497 1759 1228 1600 \nQ 959 1441 959 1056 \nQ 959 750 1161 570 \nQ 1363 391 1709 391 \nQ 2188 391 2477 730 \nQ 2766 1069 2766 1631 \nL 2766 1759 \nL 2194 1759 \nz\nM 3341 1997 \nL 3341 0 \nL 2766 0 \nL 2766 531 \nQ 2569 213 2275 61 \nQ 1981 -91 1556 -91 \nQ 1019 -91 701 211 \nQ 384 513 384 1019 \nQ 384 1609 779 1909 \nQ 1175 2209 1959 2209 \nL 2766 2209 \nL 2766 2266 \nQ 2766 2663 2505 2880 \nQ 2244 3097 1772 3097 \nQ 1472 3097 1187 3025 \nQ 903 2953 641 2809 \nL 641 3341 \nQ 956 3463 1253 3523 \nQ 1550 3584 1831 3584 \nQ 2591 3584 2966 3190 \nQ 3341 2797 3341 1997 \nz\n\" id=\"DejaVuSans-61\" transform=\"scale(0.015625)\"/>\n     <path d=\"M 3122 3366 \nL 3122 2828 \nQ 2878 2963 2633 3030 \nQ 2388 3097 2138 3097 \nQ 1578 3097 1268 2742 \nQ 959 2388 959 1747 \nQ 959 1106 1268 751 \nQ 1578 397 2138 397 \nQ 2388 397 2633 464 \nQ 2878 531 3122 666 \nL 3122 134 \nQ 2881 22 2623 -34 \nQ 2366 -91 2075 -91 \nQ 1284 -91 818 406 \nQ 353 903 353 1747 \nQ 353 2603 823 3093 \nQ 1294 3584 2113 3584 \nQ 2378 3584 2631 3529 \nQ 2884 3475 3122 3366 \nz\n\" id=\"DejaVuSans-63\" transform=\"scale(0.015625)\"/>\n    </defs>\n    <use xlink:href=\"#DejaVuSans-4e\"/>\n    <use x=\"74.804688\" xlink:href=\"#DejaVuSans-75\"/>\n    <use x=\"138.183594\" xlink:href=\"#DejaVuSans-6d\"/>\n    <use x=\"235.595703\" xlink:href=\"#DejaVuSans-62\"/>\n    <use x=\"299.072266\" xlink:href=\"#DejaVuSans-65\"/>\n    <use x=\"360.595703\" xlink:href=\"#DejaVuSans-72\"/>\n    <use x=\"401.708984\" xlink:href=\"#DejaVuSans-20\"/>\n    <use x=\"433.496094\" xlink:href=\"#DejaVuSans-6f\"/>\n    <use x=\"494.677734\" xlink:href=\"#DejaVuSans-66\"/>\n    <use x=\"529.882812\" xlink:href=\"#DejaVuSans-20\"/>\n    <use x=\"561.669922\" xlink:href=\"#DejaVuSans-41\"/>\n    <use x=\"630.078125\" xlink:href=\"#DejaVuSans-75\"/>\n    <use x=\"693.457031\" xlink:href=\"#DejaVuSans-74\"/>\n    <use x=\"732.666016\" xlink:href=\"#DejaVuSans-68\"/>\n    <use x=\"796.044922\" xlink:href=\"#DejaVuSans-6f\"/>\n    <use x=\"857.226562\" xlink:href=\"#DejaVuSans-72\"/>\n    <use x=\"898.339844\" xlink:href=\"#DejaVuSans-73\"/>\n    <use x=\"950.439453\" xlink:href=\"#DejaVuSans-20\"/>\n    <use x=\"982.226562\" xlink:href=\"#DejaVuSans-66\"/>\n    <use x=\"1017.431641\" xlink:href=\"#DejaVuSans-6f\"/>\n    <use x=\"1078.613281\" xlink:href=\"#DejaVuSans-72\"/>\n    <use x=\"1119.726562\" xlink:href=\"#DejaVuSans-20\"/>\n    <use x=\"1151.513672\" xlink:href=\"#DejaVuSans-65\"/>\n    <use x=\"1213.037109\" xlink:href=\"#DejaVuSans-61\"/>\n    <use x=\"1274.316406\" xlink:href=\"#DejaVuSans-63\"/>\n    <use x=\"1329.296875\" xlink:href=\"#DejaVuSans-68\"/>\n    <use x=\"1392.675781\" xlink:href=\"#DejaVuSans-20\"/>\n    <use x=\"1424.462891\" xlink:href=\"#DejaVuSans-42\"/>\n    <use x=\"1493.066406\" xlink:href=\"#DejaVuSans-6f\"/>\n    <use x=\"1554.248047\" xlink:href=\"#DejaVuSans-6f\"/>\n    <use x=\"1615.429688\" xlink:href=\"#DejaVuSans-6b\"/>\n    <use x=\"1673.339844\" xlink:href=\"#DejaVuSans-20\"/>\n    <use x=\"1705.126953\" xlink:href=\"#DejaVuSans-43\"/>\n    <use x=\"1774.951172\" xlink:href=\"#DejaVuSans-6f\"/>\n    <use x=\"1836.132812\" xlink:href=\"#DejaVuSans-75\"/>\n    <use x=\"1899.511719\" xlink:href=\"#DejaVuSans-6e\"/>\n    <use x=\"1962.890625\" xlink:href=\"#DejaVuSans-74\"/>\n   </g>\n  </g>\n </g>\n <defs>\n  <clipPath id=\"p07c635b568\">\n   <rect height=\"266.112\" width=\"357.12\" x=\"49.591938\" y=\"26.105371\"/>\n  </clipPath>\n </defs>\n</svg>\n",
            "image/png": "[encoded data removed]"
          },
          "metadata": {}
        },
        {
          "output_type": "execute_result",
          "data": {
            "text/plain": [
              "<ggplot: (8792954277879)>"
            ]
          },
          "metadata": {},
          "execution_count": 8
        }
      ],
      "metadata": {
        "colab": {
          "base_uri": "https://localhost:8080/",
          "height": 490
        },
        "id": "AmKdZfFlofT7",
        "outputId": "83de0340-094d-4b83-b150-88267c97228f"
      }
    },
    {
      "cell_type": "markdown",
      "source": [
        "<h2>Language Code Distribution</h3>\n",
        "\n",
        "From the plot below, we can learn that:\n",
        "- The majority of the books are written in English.\n",
        "\n",
        "<h3>Since we will take a query string, assuming that the query will be an English word, we have to disregard non-English books.</h3>"
      ],
      "metadata": {
        "id": "6J1vP2fKofT7"
      }
    },
    {
      "cell_type": "code",
      "execution_count": null,
      "source": [
        "grouped = books.groupby('language_code')['language_code'].agg({'count'})\n",
        "(ggplot(data=books)\n",
        "    + geom_bar(aes(x='language_code'))\n",
        "    + labs(title='Rating Count for each Language Code', x='Rating Count', y='Book Count')\n",
        "    + theme(axis_text_x=element_text(rotation=60), figure_size=(10,4))\n",
        ")"
      ],
      "outputs": [
        {
          "output_type": "display_data",
          "data": {
            "text/plain": [
              "<Figure size 1000x400 with 1 Axes>"
            ],
            "image/svg+xml": "<?xml version=\"1.0\" encoding=\"utf-8\" standalone=\"no\"?>\n<!DOCTYPE svg PUBLIC \"-//W3C//DTD SVG 1.1//EN\"\n  \"http://www.w3.org/Graphics/SVG/1.1/DTD/svg11.dtd\">\n<svg height=\"302.998442pt\" version=\"1.1\" viewBox=\"0 0 614.791937 302.998442\" width=\"614.791937pt\" xmlns=\"http://www.w3.org/2000/svg\" xmlns:xlink=\"http://www.w3.org/1999/xlink\">\n <metadata>\n  <rdf:RDF xmlns:cc=\"http://creativecommons.org/ns#\" xmlns:dc=\"http://purl.org/dc/elements/1.1/\" xmlns:rdf=\"http://www.w3.org/1999/02/22-rdf-syntax-ns#\">\n   <cc:Work>\n    <dc:type rdf:resource=\"http://purl.org/dc/dcmitype/StillImage\"/>\n    <dc:date>2021-09-01T14:16:38.145459</dc:date>\n    <dc:format>image/svg+xml</dc:format>\n    <dc:creator>\n     <cc:Agent>\n      <dc:title>Matplotlib v3.4.2, https://matplotlib.org/</dc:title>\n     </cc:Agent>\n    </dc:creator>\n   </cc:Work>\n  </rdf:RDF>\n </metadata>\n <defs>\n  <style type=\"text/css\">*{stroke-linecap:butt;stroke-linejoin:round;}</style>\n </defs>\n <g id=\"figure_1\">\n  <g id=\"patch_1\">\n   <path d=\"M 0 302.998442 \nL 614.791937 302.998442 \nL 614.791937 0 \nL 0 0 \nz\n\" style=\"fill:#ffffff;stroke:#ffffff;stroke-linejoin:miter;\"/>\n  </g>\n  <g id=\"axes_1\">\n   <g id=\"patch_2\">\n    <path d=\"M 49.591938 247.865371 \nL 607.591937 247.865371 \nL 607.591937 26.105371 \nL 49.591938 26.105371 \nz\n\" style=\"fill:#ebebeb;\"/>\n   </g>\n   <g id=\"matplotlib.axis_1\">\n    <g id=\"xtick_1\">\n     <g id=\"line2d_1\">\n      <path clip-path=\"url(#pedbf6629cd)\" d=\"M 62.370563 247.865371 \nL 62.370563 26.105371 \n\" style=\"fill:none;stroke:#ffffff;\"/>\n     </g>\n     <g id=\"line2d_2\">\n      <path d=\"M 62.370563 247.865371 \n\" style=\"fill:none;stroke:#333333;stroke-width:1.5;\"/>\n      <defs>\n       <path d=\"M 0 0 \nL 0 2.75 \n\" id=\"m393e3f3014\" style=\"stroke:#000000;\"/>\n      </defs>\n      <g>\n       <use style=\"fill:#333333;stroke:#000000;\" x=\"62.370563\" xlink:href=\"#m393e3f3014\" y=\"247.865371\"/>\n      </g>\n     </g>\n     <g id=\"text_1\">\n      <!-- ara -->\n      <g style=\"fill:#4d4d4d;\" transform=\"translate(60.872708 268.632155)rotate(-60)scale(0.088 -0.088)\">\n       <defs>\n        <path d=\"M 2194 1759 \nQ 1497 1759 1228 1600 \nQ 959 1441 959 1056 \nQ 959 750 1161 570 \nQ 1363 391 1709 391 \nQ 2188 391 2477 730 \nQ 2766 1069 2766 1631 \nL 2766 1759 \nL 2194 1759 \nz\nM 3341 1997 \nL 3341 0 \nL 2766 0 \nL 2766 531 \nQ 2569 213 2275 61 \nQ 1981 -91 1556 -91 \nQ 1019 -91 701 211 \nQ 384 513 384 1019 \nQ 384 1609 779 1909 \nQ 1175 2209 1959 2209 \nL 2766 2209 \nL 2766 2266 \nQ 2766 2663 2505 2880 \nQ 2244 3097 1772 3097 \nQ 1472 3097 1187 3025 \nQ 903 2953 641 2809 \nL 641 3341 \nQ 956 3463 1253 3523 \nQ 1550 3584 1831 3584 \nQ 2591 3584 2966 3190 \nQ 3341 2797 3341 1997 \nz\n\" id=\"DejaVuSans-61\" transform=\"scale(0.015625)\"/>\n        <path d=\"M 2631 2963 \nQ 2534 3019 2420 3045 \nQ 2306 3072 2169 3072 \nQ 1681 3072 1420 2755 \nQ 1159 2438 1159 1844 \nL 1159 0 \nL 581 0 \nL 581 3500 \nL 1159 3500 \nL 1159 2956 \nQ 1341 3275 1631 3429 \nQ 1922 3584 2338 3584 \nQ 2397 3584 2469 3576 \nQ 2541 3569 2628 3553 \nL 2631 2963 \nz\n\" id=\"DejaVuSans-72\" transform=\"scale(0.015625)\"/>\n       </defs>\n       <use xlink:href=\"#DejaVuSans-61\"/>\n       <use x=\"61.279297\" xlink:href=\"#DejaVuSans-72\"/>\n       <use x=\"102.392578\" xlink:href=\"#DejaVuSans-61\"/>\n      </g>\n     </g>\n    </g>\n    <g id=\"xtick_2\">\n     <g id=\"line2d_3\">\n      <path clip-path=\"url(#pedbf6629cd)\" d=\"M 83.668273 247.865371 \nL 83.668273 26.105371 \n\" style=\"fill:none;stroke:#ffffff;\"/>\n     </g>\n     <g id=\"line2d_4\">\n      <path d=\"M 83.668273 247.865371 \n\" style=\"fill:none;stroke:#333333;stroke-width:1.5;\"/>\n      <g>\n       <use style=\"fill:#333333;stroke:#000000;\" x=\"83.668273\" xlink:href=\"#m393e3f3014\" y=\"247.865371\"/>\n      </g>\n     </g>\n     <g id=\"text_2\">\n      <!-- dan -->\n      <g style=\"fill:#4d4d4d;\" transform=\"translate(81.632106 270.496925)rotate(-60)scale(0.088 -0.088)\">\n       <defs>\n        <path d=\"M 2906 2969 \nL 2906 4863 \nL 3481 4863 \nL 3481 0 \nL 2906 0 \nL 2906 525 \nQ 2725 213 2448 61 \nQ 2172 -91 1784 -91 \nQ 1150 -91 751 415 \nQ 353 922 353 1747 \nQ 353 2572 751 3078 \nQ 1150 3584 1784 3584 \nQ 2172 3584 2448 3432 \nQ 2725 3281 2906 2969 \nz\nM 947 1747 \nQ 947 1113 1208 752 \nQ 1469 391 1925 391 \nQ 2381 391 2643 752 \nQ 2906 1113 2906 1747 \nQ 2906 2381 2643 2742 \nQ 2381 3103 1925 3103 \nQ 1469 3103 1208 2742 \nQ 947 2381 947 1747 \nz\n\" id=\"DejaVuSans-64\" transform=\"scale(0.015625)\"/>\n        <path d=\"M 3513 2113 \nL 3513 0 \nL 2938 0 \nL 2938 2094 \nQ 2938 2591 2744 2837 \nQ 2550 3084 2163 3084 \nQ 1697 3084 1428 2787 \nQ 1159 2491 1159 1978 \nL 1159 0 \nL 581 0 \nL 581 3500 \nL 1159 3500 \nL 1159 2956 \nQ 1366 3272 1645 3428 \nQ 1925 3584 2291 3584 \nQ 2894 3584 3203 3211 \nQ 3513 2838 3513 2113 \nz\n\" id=\"DejaVuSans-6e\" transform=\"scale(0.015625)\"/>\n       </defs>\n       <use xlink:href=\"#DejaVuSans-64\"/>\n       <use x=\"63.476562\" xlink:href=\"#DejaVuSans-61\"/>\n       <use x=\"124.755859\" xlink:href=\"#DejaVuSans-6e\"/>\n      </g>\n     </g>\n    </g>\n    <g id=\"xtick_3\">\n     <g id=\"line2d_5\">\n      <path clip-path=\"url(#pedbf6629cd)\" d=\"M 104.965983 247.865371 \nL 104.965983 26.105371 \n\" style=\"fill:none;stroke:#ffffff;\"/>\n     </g>\n     <g id=\"line2d_6\">\n      <path d=\"M 104.965983 247.865371 \n\" style=\"fill:none;stroke:#333333;stroke-width:1.5;\"/>\n      <g>\n       <use style=\"fill:#333333;stroke:#000000;\" x=\"104.965983\" xlink:href=\"#m393e3f3014\" y=\"247.865371\"/>\n      </g>\n     </g>\n     <g id=\"text_3\">\n      <!-- en -->\n      <g style=\"fill:#4d4d4d;\" transform=\"translate(104.320972 265.677818)rotate(-60)scale(0.088 -0.088)\">\n       <defs>\n        <path d=\"M 3597 1894 \nL 3597 1613 \nL 953 1613 \nQ 991 1019 1311 708 \nQ 1631 397 2203 397 \nQ 2534 397 2845 478 \nQ 3156 559 3463 722 \nL 3463 178 \nQ 3153 47 2828 -22 \nQ 2503 -91 2169 -91 \nQ 1331 -91 842 396 \nQ 353 884 353 1716 \nQ 353 2575 817 3079 \nQ 1281 3584 2069 3584 \nQ 2775 3584 3186 3129 \nQ 3597 2675 3597 1894 \nz\nM 3022 2063 \nQ 3016 2534 2758 2815 \nQ 2500 3097 2075 3097 \nQ 1594 3097 1305 2825 \nQ 1016 2553 972 2059 \nL 3022 2063 \nz\n\" id=\"DejaVuSans-65\" transform=\"scale(0.015625)\"/>\n       </defs>\n       <use xlink:href=\"#DejaVuSans-65\"/>\n       <use x=\"61.523438\" xlink:href=\"#DejaVuSans-6e\"/>\n      </g>\n     </g>\n    </g>\n    <g id=\"xtick_4\">\n     <g id=\"line2d_7\">\n      <path clip-path=\"url(#pedbf6629cd)\" d=\"M 126.263693 247.865371 \nL 126.263693 26.105371 \n\" style=\"fill:none;stroke:#ffffff;\"/>\n     </g>\n     <g id=\"line2d_8\">\n      <path d=\"M 126.263693 247.865371 \n\" style=\"fill:none;stroke:#333333;stroke-width:1.5;\"/>\n      <g>\n       <use style=\"fill:#333333;stroke:#000000;\" x=\"126.263693\" xlink:href=\"#m393e3f3014\" y=\"247.865371\"/>\n      </g>\n     </g>\n     <g id=\"text_4\">\n      <!-- en-CA -->\n      <g style=\"fill:#4d4d4d;\" transform=\"translate(121.783807 278.962215)rotate(-60)scale(0.088 -0.088)\">\n       <defs>\n        <path d=\"M 313 2009 \nL 1997 2009 \nL 1997 1497 \nL 313 1497 \nL 313 2009 \nz\n\" id=\"DejaVuSans-2d\" transform=\"scale(0.015625)\"/>\n        <path d=\"M 4122 4306 \nL 4122 3641 \nQ 3803 3938 3442 4084 \nQ 3081 4231 2675 4231 \nQ 1875 4231 1450 3742 \nQ 1025 3253 1025 2328 \nQ 1025 1406 1450 917 \nQ 1875 428 2675 428 \nQ 3081 428 3442 575 \nQ 3803 722 4122 1019 \nL 4122 359 \nQ 3791 134 3420 21 \nQ 3050 -91 2638 -91 \nQ 1578 -91 968 557 \nQ 359 1206 359 2328 \nQ 359 3453 968 4101 \nQ 1578 4750 2638 4750 \nQ 3056 4750 3426 4639 \nQ 3797 4528 4122 4306 \nz\n\" id=\"DejaVuSans-43\" transform=\"scale(0.015625)\"/>\n        <path d=\"M 2188 4044 \nL 1331 1722 \nL 3047 1722 \nL 2188 4044 \nz\nM 1831 4666 \nL 2547 4666 \nL 4325 0 \nL 3669 0 \nL 3244 1197 \nL 1141 1197 \nL 716 0 \nL 50 0 \nL 1831 4666 \nz\n\" id=\"DejaVuSans-41\" transform=\"scale(0.015625)\"/>\n       </defs>\n       <use xlink:href=\"#DejaVuSans-65\"/>\n       <use x=\"61.523438\" xlink:href=\"#DejaVuSans-6e\"/>\n       <use x=\"124.902344\" xlink:href=\"#DejaVuSans-2d\"/>\n       <use x=\"160.986328\" xlink:href=\"#DejaVuSans-43\"/>\n       <use x=\"230.810547\" xlink:href=\"#DejaVuSans-41\"/>\n      </g>\n     </g>\n    </g>\n    <g id=\"xtick_5\">\n     <g id=\"line2d_9\">\n      <path clip-path=\"url(#pedbf6629cd)\" d=\"M 147.561403 247.865371 \nL 147.561403 26.105371 \n\" style=\"fill:none;stroke:#ffffff;\"/>\n     </g>\n     <g id=\"line2d_10\">\n      <path d=\"M 147.561403 247.865371 \n\" style=\"fill:none;stroke:#333333;stroke-width:1.5;\"/>\n      <g>\n       <use style=\"fill:#333333;stroke:#000000;\" x=\"147.561403\" xlink:href=\"#m393e3f3014\" y=\"247.865371\"/>\n      </g>\n     </g>\n     <g id=\"text_5\">\n      <!-- en-GB -->\n      <g style=\"fill:#4d4d4d;\" transform=\"translate(142.828861 279.837442)rotate(-60)scale(0.088 -0.088)\">\n       <defs>\n        <path d=\"M 3809 666 \nL 3809 1919 \nL 2778 1919 \nL 2778 2438 \nL 4434 2438 \nL 4434 434 \nQ 4069 175 3628 42 \nQ 3188 -91 2688 -91 \nQ 1594 -91 976 548 \nQ 359 1188 359 2328 \nQ 359 3472 976 4111 \nQ 1594 4750 2688 4750 \nQ 3144 4750 3555 4637 \nQ 3966 4525 4313 4306 \nL 4313 3634 \nQ 3963 3931 3569 4081 \nQ 3175 4231 2741 4231 \nQ 1884 4231 1454 3753 \nQ 1025 3275 1025 2328 \nQ 1025 1384 1454 906 \nQ 1884 428 2741 428 \nQ 3075 428 3337 486 \nQ 3600 544 3809 666 \nz\n\" id=\"DejaVuSans-47\" transform=\"scale(0.015625)\"/>\n        <path d=\"M 1259 2228 \nL 1259 519 \nL 2272 519 \nQ 2781 519 3026 730 \nQ 3272 941 3272 1375 \nQ 3272 1813 3026 2020 \nQ 2781 2228 2272 2228 \nL 1259 2228 \nz\nM 1259 4147 \nL 1259 2741 \nL 2194 2741 \nQ 2656 2741 2882 2914 \nQ 3109 3088 3109 3444 \nQ 3109 3797 2882 3972 \nQ 2656 4147 2194 4147 \nL 1259 4147 \nz\nM 628 4666 \nL 2241 4666 \nQ 2963 4666 3353 4366 \nQ 3744 4066 3744 3513 \nQ 3744 3084 3544 2831 \nQ 3344 2578 2956 2516 \nQ 3422 2416 3680 2098 \nQ 3938 1781 3938 1306 \nQ 3938 681 3513 340 \nQ 3088 0 2303 0 \nL 628 0 \nL 628 4666 \nz\n\" id=\"DejaVuSans-42\" transform=\"scale(0.015625)\"/>\n       </defs>\n       <use xlink:href=\"#DejaVuSans-65\"/>\n       <use x=\"61.523438\" xlink:href=\"#DejaVuSans-6e\"/>\n       <use x=\"124.902344\" xlink:href=\"#DejaVuSans-2d\"/>\n       <use x=\"164.611328\" xlink:href=\"#DejaVuSans-47\"/>\n       <use x=\"242.101562\" xlink:href=\"#DejaVuSans-42\"/>\n      </g>\n     </g>\n    </g>\n    <g id=\"xtick_6\">\n     <g id=\"line2d_11\">\n      <path clip-path=\"url(#pedbf6629cd)\" d=\"M 168.859113 247.865371 \nL 168.859113 26.105371 \n\" style=\"fill:none;stroke:#ffffff;\"/>\n     </g>\n     <g id=\"line2d_12\">\n      <path d=\"M 168.859113 247.865371 \n\" style=\"fill:none;stroke:#333333;stroke-width:1.5;\"/>\n      <g>\n       <use style=\"fill:#333333;stroke:#000000;\" x=\"168.859113\" xlink:href=\"#m393e3f3014\" y=\"247.865371\"/>\n      </g>\n     </g>\n     <g id=\"text_6\">\n      <!-- en-US -->\n      <g style=\"fill:#4d4d4d;\" transform=\"translate(164.413602 278.843136)rotate(-60)scale(0.088 -0.088)\">\n       <defs>\n        <path d=\"M 556 4666 \nL 1191 4666 \nL 1191 1831 \nQ 1191 1081 1462 751 \nQ 1734 422 2344 422 \nQ 2950 422 3222 751 \nQ 3494 1081 3494 1831 \nL 3494 4666 \nL 4128 4666 \nL 4128 1753 \nQ 4128 841 3676 375 \nQ 3225 -91 2344 -91 \nQ 1459 -91 1007 375 \nQ 556 841 556 1753 \nL 556 4666 \nz\n\" id=\"DejaVuSans-55\" transform=\"scale(0.015625)\"/>\n        <path d=\"M 3425 4513 \nL 3425 3897 \nQ 3066 4069 2747 4153 \nQ 2428 4238 2131 4238 \nQ 1616 4238 1336 4038 \nQ 1056 3838 1056 3469 \nQ 1056 3159 1242 3001 \nQ 1428 2844 1947 2747 \nL 2328 2669 \nQ 3034 2534 3370 2195 \nQ 3706 1856 3706 1288 \nQ 3706 609 3251 259 \nQ 2797 -91 1919 -91 \nQ 1588 -91 1214 -16 \nQ 841 59 441 206 \nL 441 856 \nQ 825 641 1194 531 \nQ 1563 422 1919 422 \nQ 2459 422 2753 634 \nQ 3047 847 3047 1241 \nQ 3047 1584 2836 1778 \nQ 2625 1972 2144 2069 \nL 1759 2144 \nQ 1053 2284 737 2584 \nQ 422 2884 422 3419 \nQ 422 4038 858 4394 \nQ 1294 4750 2059 4750 \nQ 2388 4750 2728 4690 \nQ 3069 4631 3425 4513 \nz\n\" id=\"DejaVuSans-53\" transform=\"scale(0.015625)\"/>\n       </defs>\n       <use xlink:href=\"#DejaVuSans-65\"/>\n       <use x=\"61.523438\" xlink:href=\"#DejaVuSans-6e\"/>\n       <use x=\"124.902344\" xlink:href=\"#DejaVuSans-2d\"/>\n       <use x=\"160.986328\" xlink:href=\"#DejaVuSans-55\"/>\n       <use x=\"234.179688\" xlink:href=\"#DejaVuSans-53\"/>\n      </g>\n     </g>\n    </g>\n    <g id=\"xtick_7\">\n     <g id=\"line2d_13\">\n      <path clip-path=\"url(#pedbf6629cd)\" d=\"M 190.156823 247.865371 \nL 190.156823 26.105371 \n\" style=\"fill:none;stroke:#ffffff;\"/>\n     </g>\n     <g id=\"line2d_14\">\n      <path d=\"M 190.156823 247.865371 \n\" style=\"fill:none;stroke:#333333;stroke-width:1.5;\"/>\n      <g>\n       <use style=\"fill:#333333;stroke:#000000;\" x=\"190.156823\" xlink:href=\"#m393e3f3014\" y=\"247.865371\"/>\n      </g>\n     </g>\n     <g id=\"text_7\">\n      <!-- eng -->\n      <g style=\"fill:#4d4d4d;\" transform=\"translate(188.115155 270.515977)rotate(-60)scale(0.088 -0.088)\">\n       <defs>\n        <path d=\"M 2906 1791 \nQ 2906 2416 2648 2759 \nQ 2391 3103 1925 3103 \nQ 1463 3103 1205 2759 \nQ 947 2416 947 1791 \nQ 947 1169 1205 825 \nQ 1463 481 1925 481 \nQ 2391 481 2648 825 \nQ 2906 1169 2906 1791 \nz\nM 3481 434 \nQ 3481 -459 3084 -895 \nQ 2688 -1331 1869 -1331 \nQ 1566 -1331 1297 -1286 \nQ 1028 -1241 775 -1147 \nL 775 -588 \nQ 1028 -725 1275 -790 \nQ 1522 -856 1778 -856 \nQ 2344 -856 2625 -561 \nQ 2906 -266 2906 331 \nL 2906 616 \nQ 2728 306 2450 153 \nQ 2172 0 1784 0 \nQ 1141 0 747 490 \nQ 353 981 353 1791 \nQ 353 2603 747 3093 \nQ 1141 3584 1784 3584 \nQ 2172 3584 2450 3431 \nQ 2728 3278 2906 2969 \nL 2906 3500 \nL 3481 3500 \nL 3481 434 \nz\n\" id=\"DejaVuSans-67\" transform=\"scale(0.015625)\"/>\n       </defs>\n       <use xlink:href=\"#DejaVuSans-65\"/>\n       <use x=\"61.523438\" xlink:href=\"#DejaVuSans-6e\"/>\n       <use x=\"124.902344\" xlink:href=\"#DejaVuSans-67\"/>\n      </g>\n     </g>\n    </g>\n    <g id=\"xtick_8\">\n     <g id=\"line2d_15\">\n      <path clip-path=\"url(#pedbf6629cd)\" d=\"M 211.454533 247.865371 \nL 211.454533 26.105371 \n\" style=\"fill:none;stroke:#ffffff;\"/>\n     </g>\n     <g id=\"line2d_16\">\n      <path d=\"M 211.454533 247.865371 \n\" style=\"fill:none;stroke:#333333;stroke-width:1.5;\"/>\n      <g>\n       <use style=\"fill:#333333;stroke:#000000;\" x=\"211.454533\" xlink:href=\"#m393e3f3014\" y=\"247.865371\"/>\n      </g>\n     </g>\n     <g id=\"text_8\">\n      <!-- fil -->\n      <g style=\"fill:#4d4d4d;\" transform=\"translate(211.560615 263.075953)rotate(-60)scale(0.088 -0.088)\">\n       <defs>\n        <path d=\"M 2375 4863 \nL 2375 4384 \nL 1825 4384 \nQ 1516 4384 1395 4259 \nQ 1275 4134 1275 3809 \nL 1275 3500 \nL 2222 3500 \nL 2222 3053 \nL 1275 3053 \nL 1275 0 \nL 697 0 \nL 697 3053 \nL 147 3053 \nL 147 3500 \nL 697 3500 \nL 697 3744 \nQ 697 4328 969 4595 \nQ 1241 4863 1831 4863 \nL 2375 4863 \nz\n\" id=\"DejaVuSans-66\" transform=\"scale(0.015625)\"/>\n        <path d=\"M 603 3500 \nL 1178 3500 \nL 1178 0 \nL 603 0 \nL 603 3500 \nz\nM 603 4863 \nL 1178 4863 \nL 1178 4134 \nL 603 4134 \nL 603 4863 \nz\n\" id=\"DejaVuSans-69\" transform=\"scale(0.015625)\"/>\n        <path d=\"M 603 4863 \nL 1178 4863 \nL 1178 0 \nL 603 0 \nL 603 4863 \nz\n\" id=\"DejaVuSans-6c\" transform=\"scale(0.015625)\"/>\n       </defs>\n       <use xlink:href=\"#DejaVuSans-66\"/>\n       <use x=\"35.205078\" xlink:href=\"#DejaVuSans-69\"/>\n       <use x=\"62.988281\" xlink:href=\"#DejaVuSans-6c\"/>\n      </g>\n     </g>\n    </g>\n    <g id=\"xtick_9\">\n     <g id=\"line2d_17\">\n      <path clip-path=\"url(#pedbf6629cd)\" d=\"M 232.752243 247.865371 \nL 232.752243 26.105371 \n\" style=\"fill:none;stroke:#ffffff;\"/>\n     </g>\n     <g id=\"line2d_18\">\n      <path d=\"M 232.752243 247.865371 \n\" style=\"fill:none;stroke:#333333;stroke-width:1.5;\"/>\n      <g>\n       <use style=\"fill:#333333;stroke:#000000;\" x=\"232.752243\" xlink:href=\"#m393e3f3014\" y=\"247.865371\"/>\n      </g>\n     </g>\n     <g id=\"text_9\">\n      <!-- fre -->\n      <g style=\"fill:#4d4d4d;\" transform=\"translate(231.872107 266.492315)rotate(-60)scale(0.088 -0.088)\">\n       <use xlink:href=\"#DejaVuSans-66\"/>\n       <use x=\"35.205078\" xlink:href=\"#DejaVuSans-72\"/>\n       <use x=\"74.068359\" xlink:href=\"#DejaVuSans-65\"/>\n      </g>\n     </g>\n    </g>\n    <g id=\"xtick_10\">\n     <g id=\"line2d_19\">\n      <path clip-path=\"url(#pedbf6629cd)\" d=\"M 254.049953 247.865371 \nL 254.049953 26.105371 \n\" style=\"fill:none;stroke:#ffffff;\"/>\n     </g>\n     <g id=\"line2d_20\">\n      <path d=\"M 254.049953 247.865371 \n\" style=\"fill:none;stroke:#333333;stroke-width:1.5;\"/>\n      <g>\n       <use style=\"fill:#333333;stroke:#000000;\" x=\"254.049953\" xlink:href=\"#m393e3f3014\" y=\"247.865371\"/>\n      </g>\n     </g>\n     <g id=\"text_10\">\n      <!-- ger -->\n      <g style=\"fill:#4d4d4d;\" transform=\"translate(252.498129 268.819109)rotate(-60)scale(0.088 -0.088)\">\n       <use xlink:href=\"#DejaVuSans-67\"/>\n       <use x=\"63.476562\" xlink:href=\"#DejaVuSans-65\"/>\n       <use x=\"125\" xlink:href=\"#DejaVuSans-72\"/>\n      </g>\n     </g>\n    </g>\n    <g id=\"xtick_11\">\n     <g id=\"line2d_21\">\n      <path clip-path=\"url(#pedbf6629cd)\" d=\"M 275.347663 247.865371 \nL 275.347663 26.105371 \n\" style=\"fill:none;stroke:#ffffff;\"/>\n     </g>\n     <g id=\"line2d_22\">\n      <path d=\"M 275.347663 247.865371 \n\" style=\"fill:none;stroke:#333333;stroke-width:1.5;\"/>\n      <g>\n       <use style=\"fill:#333333;stroke:#000000;\" x=\"275.347663\" xlink:href=\"#m393e3f3014\" y=\"247.865371\"/>\n      </g>\n     </g>\n     <g id=\"text_11\">\n      <!-- ind -->\n      <g style=\"fill:#4d4d4d;\" transform=\"translate(274.048495 267.943882)rotate(-60)scale(0.088 -0.088)\">\n       <use xlink:href=\"#DejaVuSans-69\"/>\n       <use x=\"27.783203\" xlink:href=\"#DejaVuSans-6e\"/>\n       <use x=\"91.162109\" xlink:href=\"#DejaVuSans-64\"/>\n      </g>\n     </g>\n    </g>\n    <g id=\"xtick_12\">\n     <g id=\"line2d_23\">\n      <path clip-path=\"url(#pedbf6629cd)\" d=\"M 296.645373 247.865371 \nL 296.645373 26.105371 \n\" style=\"fill:none;stroke:#ffffff;\"/>\n     </g>\n     <g id=\"line2d_24\">\n      <path d=\"M 296.645373 247.865371 \n\" style=\"fill:none;stroke:#333333;stroke-width:1.5;\"/>\n      <g>\n       <use style=\"fill:#333333;stroke:#000000;\" x=\"296.645373\" xlink:href=\"#m393e3f3014\" y=\"247.865371\"/>\n      </g>\n     </g>\n     <g id=\"text_12\">\n      <!-- ita -->\n      <g style=\"fill:#4d4d4d;\" transform=\"translate(295.926455 265.933837)rotate(-60)scale(0.088 -0.088)\">\n       <defs>\n        <path d=\"M 1172 4494 \nL 1172 3500 \nL 2356 3500 \nL 2356 3053 \nL 1172 3053 \nL 1172 1153 \nQ 1172 725 1289 603 \nQ 1406 481 1766 481 \nL 2356 481 \nL 2356 0 \nL 1766 0 \nQ 1100 0 847 248 \nQ 594 497 594 1153 \nL 594 3053 \nL 172 3053 \nL 172 3500 \nL 594 3500 \nL 594 4494 \nL 1172 4494 \nz\n\" id=\"DejaVuSans-74\" transform=\"scale(0.015625)\"/>\n       </defs>\n       <use xlink:href=\"#DejaVuSans-69\"/>\n       <use x=\"27.783203\" xlink:href=\"#DejaVuSans-74\"/>\n       <use x=\"66.992188\" xlink:href=\"#DejaVuSans-61\"/>\n      </g>\n     </g>\n    </g>\n    <g id=\"xtick_13\">\n     <g id=\"line2d_25\">\n      <path clip-path=\"url(#pedbf6629cd)\" d=\"M 317.943083 247.865371 \nL 317.943083 26.105371 \n\" style=\"fill:none;stroke:#ffffff;\"/>\n     </g>\n     <g id=\"line2d_26\">\n      <path d=\"M 317.943083 247.865371 \n\" style=\"fill:none;stroke:#333333;stroke-width:1.5;\"/>\n      <g>\n       <use style=\"fill:#333333;stroke:#000000;\" x=\"317.943083\" xlink:href=\"#m393e3f3014\" y=\"247.865371\"/>\n      </g>\n     </g>\n     <g id=\"text_13\">\n      <!-- jpn -->\n      <g style=\"fill:#4d4d4d;\" transform=\"translate(316.643915 267.943882)rotate(-60)scale(0.088 -0.088)\">\n       <defs>\n        <path d=\"M 603 3500 \nL 1178 3500 \nL 1178 -63 \nQ 1178 -731 923 -1031 \nQ 669 -1331 103 -1331 \nL -116 -1331 \nL -116 -844 \nL 38 -844 \nQ 366 -844 484 -692 \nQ 603 -541 603 -63 \nL 603 3500 \nz\nM 603 4863 \nL 1178 4863 \nL 1178 4134 \nL 603 4134 \nL 603 4863 \nz\n\" id=\"DejaVuSans-6a\" transform=\"scale(0.015625)\"/>\n        <path d=\"M 1159 525 \nL 1159 -1331 \nL 581 -1331 \nL 581 3500 \nL 1159 3500 \nL 1159 2969 \nQ 1341 3281 1617 3432 \nQ 1894 3584 2278 3584 \nQ 2916 3584 3314 3078 \nQ 3713 2572 3713 1747 \nQ 3713 922 3314 415 \nQ 2916 -91 2278 -91 \nQ 1894 -91 1617 61 \nQ 1341 213 1159 525 \nz\nM 3116 1747 \nQ 3116 2381 2855 2742 \nQ 2594 3103 2138 3103 \nQ 1681 3103 1420 2742 \nQ 1159 2381 1159 1747 \nQ 1159 1113 1420 752 \nQ 1681 391 2138 391 \nQ 2594 391 2855 752 \nQ 3116 1113 3116 1747 \nz\n\" id=\"DejaVuSans-70\" transform=\"scale(0.015625)\"/>\n       </defs>\n       <use xlink:href=\"#DejaVuSans-6a\"/>\n       <use x=\"27.783203\" xlink:href=\"#DejaVuSans-70\"/>\n       <use x=\"91.259766\" xlink:href=\"#DejaVuSans-6e\"/>\n      </g>\n     </g>\n    </g>\n    <g id=\"xtick_14\">\n     <g id=\"line2d_27\">\n      <path clip-path=\"url(#pedbf6629cd)\" d=\"M 339.240792 247.865371 \nL 339.240792 26.105371 \n\" style=\"fill:none;stroke:#ffffff;\"/>\n     </g>\n     <g id=\"line2d_28\">\n      <path d=\"M 339.240792 247.865371 \n\" style=\"fill:none;stroke:#333333;stroke-width:1.5;\"/>\n      <g>\n       <use style=\"fill:#333333;stroke:#000000;\" x=\"339.240792\" xlink:href=\"#m393e3f3014\" y=\"247.865371\"/>\n      </g>\n     </g>\n     <g id=\"text_14\">\n      <!-- mul -->\n      <g style=\"fill:#4d4d4d;\" transform=\"translate(337.195344 270.529076)rotate(-60)scale(0.088 -0.088)\">\n       <defs>\n        <path d=\"M 3328 2828 \nQ 3544 3216 3844 3400 \nQ 4144 3584 4550 3584 \nQ 5097 3584 5394 3201 \nQ 5691 2819 5691 2113 \nL 5691 0 \nL 5113 0 \nL 5113 2094 \nQ 5113 2597 4934 2840 \nQ 4756 3084 4391 3084 \nQ 3944 3084 3684 2787 \nQ 3425 2491 3425 1978 \nL 3425 0 \nL 2847 0 \nL 2847 2094 \nQ 2847 2600 2669 2842 \nQ 2491 3084 2119 3084 \nQ 1678 3084 1418 2786 \nQ 1159 2488 1159 1978 \nL 1159 0 \nL 581 0 \nL 581 3500 \nL 1159 3500 \nL 1159 2956 \nQ 1356 3278 1631 3431 \nQ 1906 3584 2284 3584 \nQ 2666 3584 2933 3390 \nQ 3200 3197 3328 2828 \nz\n\" id=\"DejaVuSans-6d\" transform=\"scale(0.015625)\"/>\n        <path d=\"M 544 1381 \nL 544 3500 \nL 1119 3500 \nL 1119 1403 \nQ 1119 906 1312 657 \nQ 1506 409 1894 409 \nQ 2359 409 2629 706 \nQ 2900 1003 2900 1516 \nL 2900 3500 \nL 3475 3500 \nL 3475 0 \nL 2900 0 \nL 2900 538 \nQ 2691 219 2414 64 \nQ 2138 -91 1772 -91 \nQ 1169 -91 856 284 \nQ 544 659 544 1381 \nz\nM 1991 3584 \nL 1991 3584 \nz\n\" id=\"DejaVuSans-75\" transform=\"scale(0.015625)\"/>\n       </defs>\n       <use xlink:href=\"#DejaVuSans-6d\"/>\n       <use x=\"97.412109\" xlink:href=\"#DejaVuSans-75\"/>\n       <use x=\"160.791016\" xlink:href=\"#DejaVuSans-6c\"/>\n      </g>\n     </g>\n    </g>\n    <g id=\"xtick_15\">\n     <g id=\"line2d_29\">\n      <path clip-path=\"url(#pedbf6629cd)\" d=\"M 360.538502 247.865371 \nL 360.538502 26.105371 \n\" style=\"fill:none;stroke:#ffffff;\"/>\n     </g>\n     <g id=\"line2d_30\">\n      <path d=\"M 360.538502 247.865371 \n\" style=\"fill:none;stroke:#333333;stroke-width:1.5;\"/>\n      <g>\n       <use style=\"fill:#333333;stroke:#000000;\" x=\"360.538502\" xlink:href=\"#m393e3f3014\" y=\"247.865371\"/>\n      </g>\n     </g>\n     <g id=\"text_15\">\n      <!-- nl -->\n      <g style=\"fill:#4d4d4d;\" transform=\"translate(360.635991 263.105723)rotate(-60)scale(0.088 -0.088)\">\n       <use xlink:href=\"#DejaVuSans-6e\"/>\n       <use x=\"63.378906\" xlink:href=\"#DejaVuSans-6c\"/>\n      </g>\n     </g>\n    </g>\n    <g id=\"xtick_16\">\n     <g id=\"line2d_31\">\n      <path clip-path=\"url(#pedbf6629cd)\" d=\"M 381.836212 247.865371 \nL 381.836212 26.105371 \n\" style=\"fill:none;stroke:#ffffff;\"/>\n     </g>\n     <g id=\"line2d_32\">\n      <path d=\"M 381.836212 247.865371 \n\" style=\"fill:none;stroke:#333333;stroke-width:1.5;\"/>\n      <g>\n       <use style=\"fill:#333333;stroke:#000000;\" x=\"381.836212\" xlink:href=\"#m393e3f3014\" y=\"247.865371\"/>\n      </g>\n     </g>\n     <g id=\"text_16\">\n      <!-- nor -->\n      <g style=\"fill:#4d4d4d;\" transform=\"translate(380.294357 268.784576)rotate(-60)scale(0.088 -0.088)\">\n       <defs>\n        <path d=\"M 1959 3097 \nQ 1497 3097 1228 2736 \nQ 959 2375 959 1747 \nQ 959 1119 1226 758 \nQ 1494 397 1959 397 \nQ 2419 397 2687 759 \nQ 2956 1122 2956 1747 \nQ 2956 2369 2687 2733 \nQ 2419 3097 1959 3097 \nz\nM 1959 3584 \nQ 2709 3584 3137 3096 \nQ 3566 2609 3566 1747 \nQ 3566 888 3137 398 \nQ 2709 -91 1959 -91 \nQ 1206 -91 779 398 \nQ 353 888 353 1747 \nQ 353 2609 779 3096 \nQ 1206 3584 1959 3584 \nz\n\" id=\"DejaVuSans-6f\" transform=\"scale(0.015625)\"/>\n       </defs>\n       <use xlink:href=\"#DejaVuSans-6e\"/>\n       <use x=\"63.378906\" xlink:href=\"#DejaVuSans-6f\"/>\n       <use x=\"124.560547\" xlink:href=\"#DejaVuSans-72\"/>\n      </g>\n     </g>\n    </g>\n    <g id=\"xtick_17\">\n     <g id=\"line2d_33\">\n      <path clip-path=\"url(#pedbf6629cd)\" d=\"M 403.133922 247.865371 \nL 403.133922 26.105371 \n\" style=\"fill:none;stroke:#ffffff;\"/>\n     </g>\n     <g id=\"line2d_34\">\n      <path d=\"M 403.133922 247.865371 \n\" style=\"fill:none;stroke:#333333;stroke-width:1.5;\"/>\n      <g>\n       <use style=\"fill:#333333;stroke:#000000;\" x=\"403.133922\" xlink:href=\"#m393e3f3014\" y=\"247.865371\"/>\n      </g>\n     </g>\n     <g id=\"text_17\">\n      <!-- per -->\n      <g style=\"fill:#4d4d4d;\" transform=\"translate(401.582098 268.819109)rotate(-60)scale(0.088 -0.088)\">\n       <use xlink:href=\"#DejaVuSans-70\"/>\n       <use x=\"63.476562\" xlink:href=\"#DejaVuSans-65\"/>\n       <use x=\"125\" xlink:href=\"#DejaVuSans-72\"/>\n      </g>\n     </g>\n    </g>\n    <g id=\"xtick_18\">\n     <g id=\"line2d_35\">\n      <path clip-path=\"url(#pedbf6629cd)\" d=\"M 424.431632 247.865371 \nL 424.431632 26.105371 \n\" style=\"fill:none;stroke:#ffffff;\"/>\n     </g>\n     <g id=\"line2d_36\">\n      <path d=\"M 424.431632 247.865371 \n\" style=\"fill:none;stroke:#333333;stroke-width:1.5;\"/>\n      <g>\n       <use style=\"fill:#333333;stroke:#000000;\" x=\"424.431632\" xlink:href=\"#m393e3f3014\" y=\"247.865371\"/>\n      </g>\n     </g>\n     <g id=\"text_18\">\n      <!-- pol -->\n      <g style=\"fill:#4d4d4d;\" transform=\"translate(423.18059 267.777172)rotate(-60)scale(0.088 -0.088)\">\n       <use xlink:href=\"#DejaVuSans-70\"/>\n       <use x=\"63.476562\" xlink:href=\"#DejaVuSans-6f\"/>\n       <use x=\"124.658203\" xlink:href=\"#DejaVuSans-6c\"/>\n      </g>\n     </g>\n    </g>\n    <g id=\"xtick_19\">\n     <g id=\"line2d_37\">\n      <path clip-path=\"url(#pedbf6629cd)\" d=\"M 445.729342 247.865371 \nL 445.729342 26.105371 \n\" style=\"fill:none;stroke:#ffffff;\"/>\n     </g>\n     <g id=\"line2d_38\">\n      <path d=\"M 445.729342 247.865371 \n\" style=\"fill:none;stroke:#333333;stroke-width:1.5;\"/>\n      <g>\n       <use style=\"fill:#333333;stroke:#000000;\" x=\"445.729342\" xlink:href=\"#m393e3f3014\" y=\"247.865371\"/>\n      </g>\n     </g>\n     <g id=\"text_19\">\n      <!-- por -->\n      <g style=\"fill:#4d4d4d;\" transform=\"translate(444.185081 268.792911)rotate(-60)scale(0.088 -0.088)\">\n       <use xlink:href=\"#DejaVuSans-70\"/>\n       <use x=\"63.476562\" xlink:href=\"#DejaVuSans-6f\"/>\n       <use x=\"124.658203\" xlink:href=\"#DejaVuSans-72\"/>\n      </g>\n     </g>\n    </g>\n    <g id=\"xtick_20\">\n     <g id=\"line2d_39\">\n      <path clip-path=\"url(#pedbf6629cd)\" d=\"M 467.027052 247.865371 \nL 467.027052 26.105371 \n\" style=\"fill:none;stroke:#ffffff;\"/>\n     </g>\n     <g id=\"line2d_40\">\n      <path d=\"M 467.027052 247.865371 \n\" style=\"fill:none;stroke:#333333;stroke-width:1.5;\"/>\n      <g>\n       <use style=\"fill:#333333;stroke:#000000;\" x=\"467.027052\" xlink:href=\"#m393e3f3014\" y=\"247.865371\"/>\n      </g>\n     </g>\n     <g id=\"text_20\">\n      <!-- rum -->\n      <g style=\"fill:#4d4d4d;\" transform=\"translate(464.688384 271.544815)rotate(-60)scale(0.088 -0.088)\">\n       <use xlink:href=\"#DejaVuSans-72\"/>\n       <use x=\"41.113281\" xlink:href=\"#DejaVuSans-75\"/>\n       <use x=\"104.492188\" xlink:href=\"#DejaVuSans-6d\"/>\n      </g>\n     </g>\n    </g>\n    <g id=\"xtick_21\">\n     <g id=\"line2d_41\">\n      <path clip-path=\"url(#pedbf6629cd)\" d=\"M 488.324762 247.865371 \nL 488.324762 26.105371 \n\" style=\"fill:none;stroke:#ffffff;\"/>\n     </g>\n     <g id=\"line2d_42\">\n      <path d=\"M 488.324762 247.865371 \n\" style=\"fill:none;stroke:#333333;stroke-width:1.5;\"/>\n      <g>\n       <use style=\"fill:#333333;stroke:#000000;\" x=\"488.324762\" xlink:href=\"#m393e3f3014\" y=\"247.865371\"/>\n      </g>\n     </g>\n     <g id=\"text_21\">\n      <!-- rus -->\n      <g style=\"fill:#4d4d4d;\" transform=\"translate(486.982969 268.091539)rotate(-60)scale(0.088 -0.088)\">\n       <defs>\n        <path d=\"M 2834 3397 \nL 2834 2853 \nQ 2591 2978 2328 3040 \nQ 2066 3103 1784 3103 \nQ 1356 3103 1142 2972 \nQ 928 2841 928 2578 \nQ 928 2378 1081 2264 \nQ 1234 2150 1697 2047 \nL 1894 2003 \nQ 2506 1872 2764 1633 \nQ 3022 1394 3022 966 \nQ 3022 478 2636 193 \nQ 2250 -91 1575 -91 \nQ 1294 -91 989 -36 \nQ 684 19 347 128 \nL 347 722 \nQ 666 556 975 473 \nQ 1284 391 1588 391 \nQ 1994 391 2212 530 \nQ 2431 669 2431 922 \nQ 2431 1156 2273 1281 \nQ 2116 1406 1581 1522 \nL 1381 1569 \nQ 847 1681 609 1914 \nQ 372 2147 372 2553 \nQ 372 3047 722 3315 \nQ 1072 3584 1716 3584 \nQ 2034 3584 2315 3537 \nQ 2597 3491 2834 3397 \nz\n\" id=\"DejaVuSans-73\" transform=\"scale(0.015625)\"/>\n       </defs>\n       <use xlink:href=\"#DejaVuSans-72\"/>\n       <use x=\"41.113281\" xlink:href=\"#DejaVuSans-75\"/>\n       <use x=\"104.492188\" xlink:href=\"#DejaVuSans-73\"/>\n      </g>\n     </g>\n    </g>\n    <g id=\"xtick_22\">\n     <g id=\"line2d_43\">\n      <path clip-path=\"url(#pedbf6629cd)\" d=\"M 509.622472 247.865371 \nL 509.622472 26.105371 \n\" style=\"fill:none;stroke:#ffffff;\"/>\n     </g>\n     <g id=\"line2d_44\">\n      <path d=\"M 509.622472 247.865371 \n\" style=\"fill:none;stroke:#333333;stroke-width:1.5;\"/>\n      <g>\n       <use style=\"fill:#333333;stroke:#000000;\" x=\"509.622472\" xlink:href=\"#m393e3f3014\" y=\"247.865371\"/>\n      </g>\n     </g>\n     <g id=\"text_22\">\n      <!-- spa -->\n      <g style=\"fill:#4d4d4d;\" transform=\"translate(507.834492 269.637178)rotate(-60)scale(0.088 -0.088)\">\n       <use xlink:href=\"#DejaVuSans-73\"/>\n       <use x=\"52.099609\" xlink:href=\"#DejaVuSans-70\"/>\n       <use x=\"115.576172\" xlink:href=\"#DejaVuSans-61\"/>\n      </g>\n     </g>\n    </g>\n    <g id=\"xtick_23\">\n     <g id=\"line2d_45\">\n      <path clip-path=\"url(#pedbf6629cd)\" d=\"M 530.920182 247.865371 \nL 530.920182 26.105371 \n\" style=\"fill:none;stroke:#ffffff;\"/>\n     </g>\n     <g id=\"line2d_46\">\n      <path d=\"M 530.920182 247.865371 \n\" style=\"fill:none;stroke:#333333;stroke-width:1.5;\"/>\n      <g>\n       <use style=\"fill:#333333;stroke:#000000;\" x=\"530.920182\" xlink:href=\"#m393e3f3014\" y=\"247.865371\"/>\n      </g>\n     </g>\n     <g id=\"text_23\">\n      <!-- swe -->\n      <g style=\"fill:#4d4d4d;\" transform=\"translate(528.72417 271.05064)rotate(-60)scale(0.088 -0.088)\">\n       <defs>\n        <path d=\"M 269 3500 \nL 844 3500 \nL 1563 769 \nL 2278 3500 \nL 2956 3500 \nL 3675 769 \nL 4391 3500 \nL 4966 3500 \nL 4050 0 \nL 3372 0 \nL 2619 2869 \nL 1863 0 \nL 1184 0 \nL 269 3500 \nz\n\" id=\"DejaVuSans-77\" transform=\"scale(0.015625)\"/>\n       </defs>\n       <use xlink:href=\"#DejaVuSans-73\"/>\n       <use x=\"52.099609\" xlink:href=\"#DejaVuSans-77\"/>\n       <use x=\"133.886719\" xlink:href=\"#DejaVuSans-65\"/>\n      </g>\n     </g>\n    </g>\n    <g id=\"xtick_24\">\n     <g id=\"line2d_47\">\n      <path clip-path=\"url(#pedbf6629cd)\" d=\"M 552.217892 247.865371 \nL 552.217892 26.105371 \n\" style=\"fill:none;stroke:#ffffff;\"/>\n     </g>\n     <g id=\"line2d_48\">\n      <path d=\"M 552.217892 247.865371 \n\" style=\"fill:none;stroke:#333333;stroke-width:1.5;\"/>\n      <g>\n       <use style=\"fill:#333333;stroke:#000000;\" x=\"552.217892\" xlink:href=\"#m393e3f3014\" y=\"247.865371\"/>\n      </g>\n     </g>\n     <g id=\"text_24\">\n      <!-- tur -->\n      <g style=\"fill:#4d4d4d;\" transform=\"translate(551.159693 267.109141)rotate(-60)scale(0.088 -0.088)\">\n       <use xlink:href=\"#DejaVuSans-74\"/>\n       <use x=\"39.208984\" xlink:href=\"#DejaVuSans-75\"/>\n       <use x=\"102.587891\" xlink:href=\"#DejaVuSans-72\"/>\n      </g>\n     </g>\n    </g>\n    <g id=\"xtick_25\">\n     <g id=\"line2d_49\">\n      <path clip-path=\"url(#pedbf6629cd)\" d=\"M 573.515602 247.865371 \nL 573.515602 26.105371 \n\" style=\"fill:none;stroke:#ffffff;\"/>\n     </g>\n     <g id=\"line2d_50\">\n      <path d=\"M 573.515602 247.865371 \n\" style=\"fill:none;stroke:#333333;stroke-width:1.5;\"/>\n      <g>\n       <use style=\"fill:#333333;stroke:#000000;\" x=\"573.515602\" xlink:href=\"#m393e3f3014\" y=\"247.865371\"/>\n      </g>\n     </g>\n     <g id=\"text_25\">\n      <!-- vie -->\n      <g style=\"fill:#4d4d4d;\" transform=\"translate(572.351528 267.475903)rotate(-60)scale(0.088 -0.088)\">\n       <defs>\n        <path d=\"M 191 3500 \nL 800 3500 \nL 1894 563 \nL 2988 3500 \nL 3597 3500 \nL 2284 0 \nL 1503 0 \nL 191 3500 \nz\n\" id=\"DejaVuSans-76\" transform=\"scale(0.015625)\"/>\n       </defs>\n       <use xlink:href=\"#DejaVuSans-76\"/>\n       <use x=\"59.179688\" xlink:href=\"#DejaVuSans-69\"/>\n       <use x=\"86.962891\" xlink:href=\"#DejaVuSans-65\"/>\n      </g>\n     </g>\n    </g>\n    <g id=\"xtick_26\">\n     <g id=\"line2d_51\">\n      <path clip-path=\"url(#pedbf6629cd)\" d=\"M 594.813312 247.865371 \nL 594.813312 26.105371 \n\" style=\"fill:none;stroke:#ffffff;\"/>\n     </g>\n     <g id=\"line2d_52\">\n      <path d=\"M 594.813312 247.865371 \n\" style=\"fill:none;stroke:#333333;stroke-width:1.5;\"/>\n      <g>\n       <use style=\"fill:#333333;stroke:#000000;\" x=\"594.813312\" xlink:href=\"#m393e3f3014\" y=\"247.865371\"/>\n      </g>\n     </g>\n     <g id=\"text_26\">\n      <!-- nan -->\n      <g style=\"fill:#4d4d4d;\" transform=\"translate(592.77955 270.488589)rotate(-60)scale(0.088 -0.088)\">\n       <use xlink:href=\"#DejaVuSans-6e\"/>\n       <use x=\"63.378906\" xlink:href=\"#DejaVuSans-61\"/>\n       <use x=\"124.658203\" xlink:href=\"#DejaVuSans-6e\"/>\n      </g>\n     </g>\n    </g>\n    <g id=\"text_27\">\n     <!-- Rating Count -->\n     <g transform=\"translate(283.780922 293.510785)scale(0.11 -0.11)\">\n      <defs>\n       <path d=\"M 2841 2188 \nQ 3044 2119 3236 1894 \nQ 3428 1669 3622 1275 \nL 4263 0 \nL 3584 0 \nL 2988 1197 \nQ 2756 1666 2539 1819 \nQ 2322 1972 1947 1972 \nL 1259 1972 \nL 1259 0 \nL 628 0 \nL 628 4666 \nL 2053 4666 \nQ 2853 4666 3247 4331 \nQ 3641 3997 3641 3322 \nQ 3641 2881 3436 2590 \nQ 3231 2300 2841 2188 \nz\nM 1259 4147 \nL 1259 2491 \nL 2053 2491 \nQ 2509 2491 2742 2702 \nQ 2975 2913 2975 3322 \nQ 2975 3731 2742 3939 \nQ 2509 4147 2053 4147 \nL 1259 4147 \nz\n\" id=\"DejaVuSans-52\" transform=\"scale(0.015625)\"/>\n       <path id=\"DejaVuSans-20\" transform=\"scale(0.015625)\"/>\n      </defs>\n      <use xlink:href=\"#DejaVuSans-52\"/>\n      <use x=\"67.232422\" xlink:href=\"#DejaVuSans-61\"/>\n      <use x=\"128.511719\" xlink:href=\"#DejaVuSans-74\"/>\n      <use x=\"167.720703\" xlink:href=\"#DejaVuSans-69\"/>\n      <use x=\"195.503906\" xlink:href=\"#DejaVuSans-6e\"/>\n      <use x=\"258.882812\" xlink:href=\"#DejaVuSans-67\"/>\n      <use x=\"322.359375\" xlink:href=\"#DejaVuSans-20\"/>\n      <use x=\"354.146484\" xlink:href=\"#DejaVuSans-43\"/>\n      <use x=\"423.970703\" xlink:href=\"#DejaVuSans-6f\"/>\n      <use x=\"485.152344\" xlink:href=\"#DejaVuSans-75\"/>\n      <use x=\"548.53125\" xlink:href=\"#DejaVuSans-6e\"/>\n      <use x=\"611.910156\" xlink:href=\"#DejaVuSans-74\"/>\n     </g>\n    </g>\n   </g>\n   <g id=\"matplotlib.axis_2\">\n    <g id=\"ytick_1\">\n     <g id=\"line2d_53\">\n      <path clip-path=\"url(#pedbf6629cd)\" d=\"M 49.591938 237.785371 \nL 607.591937 237.785371 \n\" style=\"fill:none;stroke:#ffffff;\"/>\n     </g>\n     <g id=\"line2d_54\">\n      <path d=\"M 49.591938 237.785371 \n\" style=\"fill:none;stroke:#333333;stroke-width:1.5;\"/>\n      <defs>\n       <path d=\"M 0 0 \nL -2.75 0 \n\" id=\"mf9dd30e5cb\" style=\"stroke:#000000;\"/>\n      </defs>\n      <g>\n       <use style=\"fill:#333333;stroke:#000000;\" x=\"49.591938\" xlink:href=\"#mf9dd30e5cb\" y=\"237.785371\"/>\n      </g>\n     </g>\n     <g id=\"text_28\">\n      <!-- 0 -->\n      <g style=\"fill:#4d4d4d;\" transform=\"translate(39.042937 240.213621)scale(0.088 -0.088)\">\n       <defs>\n        <path d=\"M 2034 4250 \nQ 1547 4250 1301 3770 \nQ 1056 3291 1056 2328 \nQ 1056 1369 1301 889 \nQ 1547 409 2034 409 \nQ 2525 409 2770 889 \nQ 3016 1369 3016 2328 \nQ 3016 3291 2770 3770 \nQ 2525 4250 2034 4250 \nz\nM 2034 4750 \nQ 2819 4750 3233 4129 \nQ 3647 3509 3647 2328 \nQ 3647 1150 3233 529 \nQ 2819 -91 2034 -91 \nQ 1250 -91 836 529 \nQ 422 1150 422 2328 \nQ 422 3509 836 4129 \nQ 1250 4750 2034 4750 \nz\n\" id=\"DejaVuSans-30\" transform=\"scale(0.015625)\"/>\n       </defs>\n       <use xlink:href=\"#DejaVuSans-30\"/>\n      </g>\n     </g>\n    </g>\n    <g id=\"ytick_2\">\n     <g id=\"line2d_55\">\n      <path clip-path=\"url(#pedbf6629cd)\" d=\"M 49.591938 174.199186 \nL 607.591937 174.199186 \n\" style=\"fill:none;stroke:#ffffff;\"/>\n     </g>\n     <g id=\"line2d_56\">\n      <path d=\"M 49.591938 174.199186 \n\" style=\"fill:none;stroke:#333333;stroke-width:1.5;\"/>\n      <g>\n       <use style=\"fill:#333333;stroke:#000000;\" x=\"49.591938\" xlink:href=\"#mf9dd30e5cb\" y=\"174.199186\"/>\n      </g>\n     </g>\n     <g id=\"text_29\">\n      <!-- 2000 -->\n      <g style=\"fill:#4d4d4d;\" transform=\"translate(22.245937 176.627436)scale(0.088 -0.088)\">\n       <defs>\n        <path d=\"M 1228 531 \nL 3431 531 \nL 3431 0 \nL 469 0 \nL 469 531 \nQ 828 903 1448 1529 \nQ 2069 2156 2228 2338 \nQ 2531 2678 2651 2914 \nQ 2772 3150 2772 3378 \nQ 2772 3750 2511 3984 \nQ 2250 4219 1831 4219 \nQ 1534 4219 1204 4116 \nQ 875 4013 500 3803 \nL 500 4441 \nQ 881 4594 1212 4672 \nQ 1544 4750 1819 4750 \nQ 2544 4750 2975 4387 \nQ 3406 4025 3406 3419 \nQ 3406 3131 3298 2873 \nQ 3191 2616 2906 2266 \nQ 2828 2175 2409 1742 \nQ 1991 1309 1228 531 \nz\n\" id=\"DejaVuSans-32\" transform=\"scale(0.015625)\"/>\n       </defs>\n       <use xlink:href=\"#DejaVuSans-32\"/>\n       <use x=\"63.623047\" xlink:href=\"#DejaVuSans-30\"/>\n       <use x=\"127.246094\" xlink:href=\"#DejaVuSans-30\"/>\n       <use x=\"190.869141\" xlink:href=\"#DejaVuSans-30\"/>\n      </g>\n     </g>\n    </g>\n    <g id=\"ytick_3\">\n     <g id=\"line2d_57\">\n      <path clip-path=\"url(#pedbf6629cd)\" d=\"M 49.591938 110.613 \nL 607.591937 110.613 \n\" style=\"fill:none;stroke:#ffffff;\"/>\n     </g>\n     <g id=\"line2d_58\">\n      <path d=\"M 49.591938 110.613 \n\" style=\"fill:none;stroke:#333333;stroke-width:1.5;\"/>\n      <g>\n       <use style=\"fill:#333333;stroke:#000000;\" x=\"49.591938\" xlink:href=\"#mf9dd30e5cb\" y=\"110.613\"/>\n      </g>\n     </g>\n     <g id=\"text_30\">\n      <!-- 4000 -->\n      <g style=\"fill:#4d4d4d;\" transform=\"translate(22.245937 113.04125)scale(0.088 -0.088)\">\n       <defs>\n        <path d=\"M 2419 4116 \nL 825 1625 \nL 2419 1625 \nL 2419 4116 \nz\nM 2253 4666 \nL 3047 4666 \nL 3047 1625 \nL 3713 1625 \nL 3713 1100 \nL 3047 1100 \nL 3047 0 \nL 2419 0 \nL 2419 1100 \nL 313 1100 \nL 313 1709 \nL 2253 4666 \nz\n\" id=\"DejaVuSans-34\" transform=\"scale(0.015625)\"/>\n       </defs>\n       <use xlink:href=\"#DejaVuSans-34\"/>\n       <use x=\"63.623047\" xlink:href=\"#DejaVuSans-30\"/>\n       <use x=\"127.246094\" xlink:href=\"#DejaVuSans-30\"/>\n       <use x=\"190.869141\" xlink:href=\"#DejaVuSans-30\"/>\n      </g>\n     </g>\n    </g>\n    <g id=\"ytick_4\">\n     <g id=\"line2d_59\">\n      <path clip-path=\"url(#pedbf6629cd)\" d=\"M 49.591938 47.026815 \nL 607.591937 47.026815 \n\" style=\"fill:none;stroke:#ffffff;\"/>\n     </g>\n     <g id=\"line2d_60\">\n      <path d=\"M 49.591938 47.026815 \n\" style=\"fill:none;stroke:#333333;stroke-width:1.5;\"/>\n      <g>\n       <use style=\"fill:#333333;stroke:#000000;\" x=\"49.591938\" xlink:href=\"#mf9dd30e5cb\" y=\"47.026815\"/>\n      </g>\n     </g>\n     <g id=\"text_31\">\n      <!-- 6000 -->\n      <g style=\"fill:#4d4d4d;\" transform=\"translate(22.245937 49.455065)scale(0.088 -0.088)\">\n       <defs>\n        <path d=\"M 2113 2584 \nQ 1688 2584 1439 2293 \nQ 1191 2003 1191 1497 \nQ 1191 994 1439 701 \nQ 1688 409 2113 409 \nQ 2538 409 2786 701 \nQ 3034 994 3034 1497 \nQ 3034 2003 2786 2293 \nQ 2538 2584 2113 2584 \nz\nM 3366 4563 \nL 3366 3988 \nQ 3128 4100 2886 4159 \nQ 2644 4219 2406 4219 \nQ 1781 4219 1451 3797 \nQ 1122 3375 1075 2522 \nQ 1259 2794 1537 2939 \nQ 1816 3084 2150 3084 \nQ 2853 3084 3261 2657 \nQ 3669 2231 3669 1497 \nQ 3669 778 3244 343 \nQ 2819 -91 2113 -91 \nQ 1303 -91 875 529 \nQ 447 1150 447 2328 \nQ 447 3434 972 4092 \nQ 1497 4750 2381 4750 \nQ 2619 4750 2861 4703 \nQ 3103 4656 3366 4563 \nz\n\" id=\"DejaVuSans-36\" transform=\"scale(0.015625)\"/>\n       </defs>\n       <use xlink:href=\"#DejaVuSans-36\"/>\n       <use x=\"63.623047\" xlink:href=\"#DejaVuSans-30\"/>\n       <use x=\"127.246094\" xlink:href=\"#DejaVuSans-30\"/>\n       <use x=\"190.869141\" xlink:href=\"#DejaVuSans-30\"/>\n      </g>\n     </g>\n    </g>\n    <g id=\"ytick_5\">\n     <g id=\"line2d_61\">\n      <path clip-path=\"url(#pedbf6629cd)\" d=\"M 49.591938 205.992278 \nL 607.591937 205.992278 \n\" style=\"fill:none;stroke:#ffffff;stroke-width:0.5;\"/>\n     </g>\n    </g>\n    <g id=\"ytick_6\">\n     <g id=\"line2d_62\">\n      <path clip-path=\"url(#pedbf6629cd)\" d=\"M 49.591938 142.406093 \nL 607.591937 142.406093 \n\" style=\"fill:none;stroke:#ffffff;stroke-width:0.5;\"/>\n     </g>\n    </g>\n    <g id=\"ytick_7\">\n     <g id=\"line2d_63\">\n      <path clip-path=\"url(#pedbf6629cd)\" d=\"M 49.591938 78.819908 \nL 607.591937 78.819908 \n\" style=\"fill:none;stroke:#ffffff;stroke-width:0.5;\"/>\n     </g>\n    </g>\n    <g id=\"text_32\">\n     <!-- Book Count -->\n     <g transform=\"translate(15.558281 167.315605)rotate(-90)scale(0.11 -0.11)\">\n      <defs>\n       <path d=\"M 581 4863 \nL 1159 4863 \nL 1159 1991 \nL 2875 3500 \nL 3609 3500 \nL 1753 1863 \nL 3688 0 \nL 2938 0 \nL 1159 1709 \nL 1159 0 \nL 581 0 \nL 581 4863 \nz\n\" id=\"DejaVuSans-6b\" transform=\"scale(0.015625)\"/>\n      </defs>\n      <use xlink:href=\"#DejaVuSans-42\"/>\n      <use x=\"68.603516\" xlink:href=\"#DejaVuSans-6f\"/>\n      <use x=\"129.785156\" xlink:href=\"#DejaVuSans-6f\"/>\n      <use x=\"190.966797\" xlink:href=\"#DejaVuSans-6b\"/>\n      <use x=\"248.876953\" xlink:href=\"#DejaVuSans-20\"/>\n      <use x=\"280.664062\" xlink:href=\"#DejaVuSans-43\"/>\n      <use x=\"350.488281\" xlink:href=\"#DejaVuSans-6f\"/>\n      <use x=\"411.669922\" xlink:href=\"#DejaVuSans-75\"/>\n      <use x=\"475.048828\" xlink:href=\"#DejaVuSans-6e\"/>\n      <use x=\"538.427734\" xlink:href=\"#DejaVuSans-74\"/>\n     </g>\n    </g>\n   </g>\n   <g id=\"PolyCollection_1\">\n    <path clip-path=\"url(#pedbf6629cd)\" d=\"M 52.786594 237.785371 \nL 52.786594 235.750613 \nL 71.954533 235.750613 \nL 71.954533 237.785371 \nz\n\" style=\"fill:#595959;\"/>\n    <path clip-path=\"url(#pedbf6629cd)\" d=\"M 74.084304 237.785371 \nL 74.084304 237.689991 \nL 93.252243 237.689991 \nL 93.252243 237.785371 \nz\n\" style=\"fill:#595959;\"/>\n    <path clip-path=\"url(#pedbf6629cd)\" d=\"M 95.382014 237.785371 \nL 95.382014 237.658198 \nL 114.549953 237.658198 \nL 114.549953 237.785371 \nz\n\" style=\"fill:#595959;\"/>\n    <path clip-path=\"url(#pedbf6629cd)\" d=\"M 116.679724 237.785371 \nL 116.679724 235.941371 \nL 135.847663 235.941371 \nL 135.847663 237.785371 \nz\n\" style=\"fill:#595959;\"/>\n    <path clip-path=\"url(#pedbf6629cd)\" d=\"M 137.977434 237.785371 \nL 137.977434 229.614546 \nL 157.145373 229.614546 \nL 157.145373 237.785371 \nz\n\" style=\"fill:#595959;\"/>\n    <path clip-path=\"url(#pedbf6629cd)\" d=\"M 159.275144 237.785371 \nL 159.275144 171.973669 \nL 178.443083 171.973669 \nL 178.443083 237.785371 \nz\n\" style=\"fill:#595959;\"/>\n    <path clip-path=\"url(#pedbf6629cd)\" d=\"M 180.572854 237.785371 \nL 180.572854 36.185371 \nL 199.740792 36.185371 \nL 199.740792 237.785371 \nz\n\" style=\"fill:#595959;\"/>\n    <path clip-path=\"url(#pedbf6629cd)\" d=\"M 201.870563 237.785371 \nL 201.870563 237.721785 \nL 221.038502 237.721785 \nL 221.038502 237.785371 \nz\n\" style=\"fill:#595959;\"/>\n    <path clip-path=\"url(#pedbf6629cd)\" d=\"M 223.168273 237.785371 \nL 223.168273 236.990543 \nL 242.336212 236.990543 \nL 242.336212 237.785371 \nz\n\" style=\"fill:#595959;\"/>\n    <path clip-path=\"url(#pedbf6629cd)\" d=\"M 244.465983 237.785371 \nL 244.465983 237.372061 \nL 263.633922 237.372061 \nL 263.633922 237.785371 \nz\n\" style=\"fill:#595959;\"/>\n    <path clip-path=\"url(#pedbf6629cd)\" d=\"M 265.763693 237.785371 \nL 265.763693 237.117716 \nL 284.931632 237.117716 \nL 284.931632 237.785371 \nz\n\" style=\"fill:#595959;\"/>\n    <path clip-path=\"url(#pedbf6629cd)\" d=\"M 287.061403 237.785371 \nL 287.061403 237.721785 \nL 306.229342 237.721785 \nL 306.229342 237.785371 \nz\n\" style=\"fill:#595959;\"/>\n    <path clip-path=\"url(#pedbf6629cd)\" d=\"M 308.359113 237.785371 \nL 308.359113 237.562819 \nL 327.527052 237.562819 \nL 327.527052 237.785371 \nz\n\" style=\"fill:#595959;\"/>\n    <path clip-path=\"url(#pedbf6629cd)\" d=\"M 329.656823 237.785371 \nL 329.656823 237.753578 \nL 348.824762 237.753578 \nL 348.824762 237.785371 \nz\n\" style=\"fill:#595959;\"/>\n    <path clip-path=\"url(#pedbf6629cd)\" d=\"M 350.954533 237.785371 \nL 350.954533 237.753578 \nL 370.122472 237.753578 \nL 370.122472 237.785371 \nz\n\" style=\"fill:#595959;\"/>\n    <path clip-path=\"url(#pedbf6629cd)\" d=\"M 372.252243 237.785371 \nL 372.252243 237.689991 \nL 391.420182 237.689991 \nL 391.420182 237.785371 \nz\n\" style=\"fill:#595959;\"/>\n    <path clip-path=\"url(#pedbf6629cd)\" d=\"M 393.549953 237.785371 \nL 393.549953 237.562819 \nL 412.717892 237.562819 \nL 412.717892 237.785371 \nz\n\" style=\"fill:#595959;\"/>\n    <path clip-path=\"url(#pedbf6629cd)\" d=\"M 414.847663 237.785371 \nL 414.847663 237.594612 \nL 434.015602 237.594612 \nL 434.015602 237.785371 \nz\n\" style=\"fill:#595959;\"/>\n    <path clip-path=\"url(#pedbf6629cd)\" d=\"M 436.145373 237.785371 \nL 436.145373 237.594612 \nL 455.313312 237.594612 \nL 455.313312 237.785371 \nz\n\" style=\"fill:#595959;\"/>\n    <path clip-path=\"url(#pedbf6629cd)\" d=\"M 457.443083 237.785371 \nL 457.443083 237.753578 \nL 476.611021 237.753578 \nL 476.611021 237.785371 \nz\n\" style=\"fill:#595959;\"/>\n    <path clip-path=\"url(#pedbf6629cd)\" d=\"M 478.740792 237.785371 \nL 478.740792 237.753578 \nL 497.908731 237.753578 \nL 497.908731 237.785371 \nz\n\" style=\"fill:#595959;\"/>\n    <path clip-path=\"url(#pedbf6629cd)\" d=\"M 500.038502 237.785371 \nL 500.038502 237.149509 \nL 519.206441 237.149509 \nL 519.206441 237.785371 \nz\n\" style=\"fill:#595959;\"/>\n    <path clip-path=\"url(#pedbf6629cd)\" d=\"M 521.336212 237.785371 \nL 521.336212 237.753578 \nL 540.504151 237.753578 \nL 540.504151 237.785371 \nz\n\" style=\"fill:#595959;\"/>\n    <path clip-path=\"url(#pedbf6629cd)\" d=\"M 542.633922 237.785371 \nL 542.633922 237.753578 \nL 561.801861 237.753578 \nL 561.801861 237.785371 \nz\n\" style=\"fill:#595959;\"/>\n    <path clip-path=\"url(#pedbf6629cd)\" d=\"M 563.931632 237.785371 \nL 563.931632 237.753578 \nL 583.099571 237.753578 \nL 583.099571 237.785371 \nz\n\" style=\"fill:#595959;\"/>\n    <path clip-path=\"url(#pedbf6629cd)\" d=\"M 585.229342 237.785371 \nL 585.229342 203.321658 \nL 604.397281 203.321658 \nL 604.397281 237.785371 \nz\n\" style=\"fill:#595959;\"/>\n   </g>\n  </g>\n  <g id=\"text_33\">\n   <!-- Rating Count for each Language Code -->\n   <g transform=\"translate(193.765 17.229938)scale(0.132 -0.132)\">\n    <defs>\n     <path d=\"M 3122 3366 \nL 3122 2828 \nQ 2878 2963 2633 3030 \nQ 2388 3097 2138 3097 \nQ 1578 3097 1268 2742 \nQ 959 2388 959 1747 \nQ 959 1106 1268 751 \nQ 1578 397 2138 397 \nQ 2388 397 2633 464 \nQ 2878 531 3122 666 \nL 3122 134 \nQ 2881 22 2623 -34 \nQ 2366 -91 2075 -91 \nQ 1284 -91 818 406 \nQ 353 903 353 1747 \nQ 353 2603 823 3093 \nQ 1294 3584 2113 3584 \nQ 2378 3584 2631 3529 \nQ 2884 3475 3122 3366 \nz\n\" id=\"DejaVuSans-63\" transform=\"scale(0.015625)\"/>\n     <path d=\"M 3513 2113 \nL 3513 0 \nL 2938 0 \nL 2938 2094 \nQ 2938 2591 2744 2837 \nQ 2550 3084 2163 3084 \nQ 1697 3084 1428 2787 \nQ 1159 2491 1159 1978 \nL 1159 0 \nL 581 0 \nL 581 4863 \nL 1159 4863 \nL 1159 2956 \nQ 1366 3272 1645 3428 \nQ 1925 3584 2291 3584 \nQ 2894 3584 3203 3211 \nQ 3513 2838 3513 2113 \nz\n\" id=\"DejaVuSans-68\" transform=\"scale(0.015625)\"/>\n     <path d=\"M 628 4666 \nL 1259 4666 \nL 1259 531 \nL 3531 531 \nL 3531 0 \nL 628 0 \nL 628 4666 \nz\n\" id=\"DejaVuSans-4c\" transform=\"scale(0.015625)\"/>\n    </defs>\n    <use xlink:href=\"#DejaVuSans-52\"/>\n    <use x=\"67.232422\" xlink:href=\"#DejaVuSans-61\"/>\n    <use x=\"128.511719\" xlink:href=\"#DejaVuSans-74\"/>\n    <use x=\"167.720703\" xlink:href=\"#DejaVuSans-69\"/>\n    <use x=\"195.503906\" xlink:href=\"#DejaVuSans-6e\"/>\n    <use x=\"258.882812\" xlink:href=\"#DejaVuSans-67\"/>\n    <use x=\"322.359375\" xlink:href=\"#DejaVuSans-20\"/>\n    <use x=\"354.146484\" xlink:href=\"#DejaVuSans-43\"/>\n    <use x=\"423.970703\" xlink:href=\"#DejaVuSans-6f\"/>\n    <use x=\"485.152344\" xlink:href=\"#DejaVuSans-75\"/>\n    <use x=\"548.53125\" xlink:href=\"#DejaVuSans-6e\"/>\n    <use x=\"611.910156\" xlink:href=\"#DejaVuSans-74\"/>\n    <use x=\"651.119141\" xlink:href=\"#DejaVuSans-20\"/>\n    <use x=\"682.90625\" xlink:href=\"#DejaVuSans-66\"/>\n    <use x=\"718.111328\" xlink:href=\"#DejaVuSans-6f\"/>\n    <use x=\"779.292969\" xlink:href=\"#DejaVuSans-72\"/>\n    <use x=\"820.40625\" xlink:href=\"#DejaVuSans-20\"/>\n    <use x=\"852.193359\" xlink:href=\"#DejaVuSans-65\"/>\n    <use x=\"913.716797\" xlink:href=\"#DejaVuSans-61\"/>\n    <use x=\"974.996094\" xlink:href=\"#DejaVuSans-63\"/>\n    <use x=\"1029.976562\" xlink:href=\"#DejaVuSans-68\"/>\n    <use x=\"1093.355469\" xlink:href=\"#DejaVuSans-20\"/>\n    <use x=\"1125.142578\" xlink:href=\"#DejaVuSans-4c\"/>\n    <use x=\"1180.855469\" xlink:href=\"#DejaVuSans-61\"/>\n    <use x=\"1242.134766\" xlink:href=\"#DejaVuSans-6e\"/>\n    <use x=\"1305.513672\" xlink:href=\"#DejaVuSans-67\"/>\n    <use x=\"1368.990234\" xlink:href=\"#DejaVuSans-75\"/>\n    <use x=\"1432.369141\" xlink:href=\"#DejaVuSans-61\"/>\n    <use x=\"1493.648438\" xlink:href=\"#DejaVuSans-67\"/>\n    <use x=\"1557.125\" xlink:href=\"#DejaVuSans-65\"/>\n    <use x=\"1618.648438\" xlink:href=\"#DejaVuSans-20\"/>\n    <use x=\"1650.435547\" xlink:href=\"#DejaVuSans-43\"/>\n    <use x=\"1720.259766\" xlink:href=\"#DejaVuSans-6f\"/>\n    <use x=\"1781.441406\" xlink:href=\"#DejaVuSans-64\"/>\n    <use x=\"1844.917969\" xlink:href=\"#DejaVuSans-65\"/>\n   </g>\n  </g>\n </g>\n <defs>\n  <clipPath id=\"pedbf6629cd\">\n   <rect height=\"221.76\" width=\"558\" x=\"49.591938\" y=\"26.105371\"/>\n  </clipPath>\n </defs>\n</svg>\n",
            "image/png": "[encoded data removed]"
          },
          "metadata": {}
        },
        {
          "output_type": "execute_result",
          "data": {
            "text/plain": [
              "<ggplot: (8792954076290)>"
            ]
          },
          "metadata": {},
          "execution_count": 9
        }
      ],
      "metadata": {
        "colab": {
          "base_uri": "https://localhost:8080/",
          "height": 509
        },
        "id": "hXb1HP8ZofT7",
        "outputId": "296d8103-746f-4cb1-e3b8-30a8338a5a0c"
      }
    },
    {
      "cell_type": "markdown",
      "source": [
        "<h2>Tag Name Distribution</h2>\n",
        "\n",
        "From the plot and table below, we can learn that:\n",
        "- The most used tag name is \"to-read\".\n",
        "- There are 34252 tag names.\n",
        "- There are many non-ascii & non-readable & digits-only tag names.\n",
        "\n",
        "<h3>Therefore, there is a huge imbalance in tag name distribution and we have to filter out weird tag names.</h3>"
      ],
      "metadata": {
        "id": "MOf27l3-ofT8"
      }
    },
    {
      "cell_type": "code",
      "execution_count": null,
      "source": [
        "tags.iloc[34000:]"
      ],
      "outputs": [
        {
          "output_type": "execute_result",
          "data": {
            "text/plain": [
              "       tag_id          tag_name\n",
              "34000   34000  قصص-قصيرة-مقالات\n",
              "34001   34001         قصص-قصيره\n",
              "34002   34002      قصص-و-روايات\n",
              "34003   34003       قصص-وروايات\n",
              "34004   34004  قوة-العقل-الباطن\n",
              "...       ...               ...\n",
              "34247   34247         Ｃhildrens\n",
              "34248   34248         Ｆａｖｏｒｉｔｅｓ\n",
              "34249   34249             Ｍａｎｇａ\n",
              "34250   34250            ＳＥＲＩＥＳ\n",
              "34251   34251        ｆａｖｏｕｒｉｔｅｓ\n",
              "\n",
              "[252 rows x 2 columns]"
            ],
            "text/html": [
              "<div>\n",
              "<style scoped>\n",
              "    .dataframe tbody tr th:only-of-type {\n",
              "        vertical-align: middle;\n",
              "    }\n",
              "\n",
              "    .dataframe tbody tr th {\n",
              "        vertical-align: top;\n",
              "    }\n",
              "\n",
              "    .dataframe thead th {\n",
              "        text-align: right;\n",
              "    }\n",
              "</style>\n",
              "<table border=\"1\" class=\"dataframe\">\n",
              "  <thead>\n",
              "    <tr style=\"text-align: right;\">\n",
              "      <th></th>\n",
              "      <th>tag_id</th>\n",
              "      <th>tag_name</th>\n",
              "    </tr>\n",
              "  </thead>\n",
              "  <tbody>\n",
              "    <tr>\n",
              "      <th>34000</th>\n",
              "      <td>34000</td>\n",
              "      <td>قصص-قصيرة-مقالات</td>\n",
              "    </tr>\n",
              "    <tr>\n",
              "      <th>34001</th>\n",
              "      <td>34001</td>\n",
              "      <td>قصص-قصيره</td>\n",
              "    </tr>\n",
              "    <tr>\n",
              "      <th>34002</th>\n",
              "      <td>34002</td>\n",
              "      <td>قصص-و-روايات</td>\n",
              "    </tr>\n",
              "    <tr>\n",
              "      <th>34003</th>\n",
              "      <td>34003</td>\n",
              "      <td>قصص-وروايات</td>\n",
              "    </tr>\n",
              "    <tr>\n",
              "      <th>34004</th>\n",
              "      <td>34004</td>\n",
              "      <td>قوة-العقل-الباطن</td>\n",
              "    </tr>\n",
              "    <tr>\n",
              "      <th>...</th>\n",
              "      <td>...</td>\n",
              "      <td>...</td>\n",
              "    </tr>\n",
              "    <tr>\n",
              "      <th>34247</th>\n",
              "      <td>34247</td>\n",
              "      <td>Ｃhildrens</td>\n",
              "    </tr>\n",
              "    <tr>\n",
              "      <th>34248</th>\n",
              "      <td>34248</td>\n",
              "      <td>Ｆａｖｏｒｉｔｅｓ</td>\n",
              "    </tr>\n",
              "    <tr>\n",
              "      <th>34249</th>\n",
              "      <td>34249</td>\n",
              "      <td>Ｍａｎｇａ</td>\n",
              "    </tr>\n",
              "    <tr>\n",
              "      <th>34250</th>\n",
              "      <td>34250</td>\n",
              "      <td>ＳＥＲＩＥＳ</td>\n",
              "    </tr>\n",
              "    <tr>\n",
              "      <th>34251</th>\n",
              "      <td>34251</td>\n",
              "      <td>ｆａｖｏｕｒｉｔｅｓ</td>\n",
              "    </tr>\n",
              "  </tbody>\n",
              "</table>\n",
              "<p>252 rows × 2 columns</p>\n",
              "</div>"
            ]
          },
          "metadata": {},
          "execution_count": 10
        }
      ],
      "metadata": {
        "colab": {
          "base_uri": "https://localhost:8080/",
          "height": 419
        },
        "id": "h0nhHGdrofT8",
        "outputId": "2e97bdd2-35a9-4577-eb0f-37cfb3ab4642"
      }
    },
    {
      "cell_type": "code",
      "execution_count": null,
      "source": [
        "merged = pd.merge(book_tags, tags, on='tag_id')\n",
        "print('Unique Tag Name Count', len(merged['tag_name'].unique()))\n",
        "grouped = merged.groupby('tag_name')['count'].agg({'sum'})\n",
        "grouped = grouped.sort_values(by='sum', ascending=False).reset_index()\n",
        "grouped = grouped.dropna()\n",
        "(ggplot(data=grouped.loc[:30])\n",
        "    + geom_bar(aes(x='tag_name', y='sum'), stat='identity')\n",
        "    + labs(title='Top 30 Tag Count for each Tag Name', x='Tag Name', y='Tag Count')\n",
        "    + theme(axis_text_x=element_text(rotation=60), figure_size=(10,4))\n",
        ")"
      ],
      "outputs": [
        {
          "output_type": "stream",
          "name": "stdout",
          "text": [
            "Unique Tag Name Count 34252\n"
          ]
        },
        {
          "output_type": "display_data",
          "data": {
            "text/plain": [
              "<Figure size 1000x400 with 1 Axes>"
            ],
            "image/svg+xml": "<?xml version=\"1.0\" encoding=\"utf-8\" standalone=\"no\"?>\n<!DOCTYPE svg PUBLIC \"-//W3C//DTD SVG 1.1//EN\"\n  \"http://www.w3.org/Graphics/SVG/1.1/DTD/svg11.dtd\">\n<svg height=\"344.996235pt\" version=\"1.1\" viewBox=\"0 0 648.983904 344.996235\" width=\"648.983904pt\" xmlns=\"http://www.w3.org/2000/svg\" xmlns:xlink=\"http://www.w3.org/1999/xlink\">\n <metadata>\n  <rdf:RDF xmlns:cc=\"http://creativecommons.org/ns#\" xmlns:dc=\"http://purl.org/dc/elements/1.1/\" xmlns:rdf=\"http://www.w3.org/1999/02/22-rdf-syntax-ns#\">\n   <cc:Work>\n    <dc:type rdf:resource=\"http://purl.org/dc/dcmitype/StillImage\"/>\n    <dc:date>2021-09-01T14:16:39.583519</dc:date>\n    <dc:format>image/svg+xml</dc:format>\n    <dc:creator>\n     <cc:Agent>\n      <dc:title>Matplotlib v3.4.2, https://matplotlib.org/</dc:title>\n     </cc:Agent>\n    </dc:creator>\n   </cc:Work>\n  </rdf:RDF>\n </metadata>\n <defs>\n  <style type=\"text/css\">*{stroke-linecap:butt;stroke-linejoin:round;}</style>\n </defs>\n <g id=\"figure_1\">\n  <g id=\"patch_1\">\n   <path d=\"M 0 344.996235 \nL 648.983904 344.996235 \nL 648.983904 0 \nL 0 0 \nz\n\" style=\"fill:#ffffff;stroke:#ffffff;stroke-linejoin:miter;\"/>\n  </g>\n  <g id=\"axes_1\">\n   <g id=\"patch_2\">\n    <path d=\"M 77.586938 247.865371 \nL 635.586937 247.865371 \nL 635.586937 26.105371 \nL 77.586938 26.105371 \nz\n\" style=\"fill:#ebebeb;\"/>\n   </g>\n   <g id=\"matplotlib.axis_1\">\n    <g id=\"xtick_1\">\n     <g id=\"line2d_1\">\n      <path clip-path=\"url(#pf7de01b0ea)\" d=\"M 88.317707 247.865371 \nL 88.317707 26.105371 \n\" style=\"fill:none;stroke:#ffffff;\"/>\n     </g>\n     <g id=\"line2d_2\">\n      <path d=\"M 88.317707 247.865371 \n\" style=\"fill:none;stroke:#333333;stroke-width:1.5;\"/>\n      <defs>\n       <path d=\"M 0 0 \nL 0 2.75 \n\" id=\"m6e572b15cb\" style=\"stroke:#000000;\"/>\n      </defs>\n      <g>\n       <use style=\"fill:#333333;stroke:#000000;\" x=\"88.317707\" xlink:href=\"#m6e572b15cb\" y=\"247.865371\"/>\n      </g>\n     </g>\n     <g id=\"text_1\">\n      <!-- adult -->\n      <g style=\"fill:#4d4d4d;\" transform=\"translate(84.807883 275.60182)rotate(-60)scale(0.088 -0.088)\">\n       <defs>\n        <path d=\"M 2194 1759 \nQ 1497 1759 1228 1600 \nQ 959 1441 959 1056 \nQ 959 750 1161 570 \nQ 1363 391 1709 391 \nQ 2188 391 2477 730 \nQ 2766 1069 2766 1631 \nL 2766 1759 \nL 2194 1759 \nz\nM 3341 1997 \nL 3341 0 \nL 2766 0 \nL 2766 531 \nQ 2569 213 2275 61 \nQ 1981 -91 1556 -91 \nQ 1019 -91 701 211 \nQ 384 513 384 1019 \nQ 384 1609 779 1909 \nQ 1175 2209 1959 2209 \nL 2766 2209 \nL 2766 2266 \nQ 2766 2663 2505 2880 \nQ 2244 3097 1772 3097 \nQ 1472 3097 1187 3025 \nQ 903 2953 641 2809 \nL 641 3341 \nQ 956 3463 1253 3523 \nQ 1550 3584 1831 3584 \nQ 2591 3584 2966 3190 \nQ 3341 2797 3341 1997 \nz\n\" id=\"DejaVuSans-61\" transform=\"scale(0.015625)\"/>\n        <path d=\"M 2906 2969 \nL 2906 4863 \nL 3481 4863 \nL 3481 0 \nL 2906 0 \nL 2906 525 \nQ 2725 213 2448 61 \nQ 2172 -91 1784 -91 \nQ 1150 -91 751 415 \nQ 353 922 353 1747 \nQ 353 2572 751 3078 \nQ 1150 3584 1784 3584 \nQ 2172 3584 2448 3432 \nQ 2725 3281 2906 2969 \nz\nM 947 1747 \nQ 947 1113 1208 752 \nQ 1469 391 1925 391 \nQ 2381 391 2643 752 \nQ 2906 1113 2906 1747 \nQ 2906 2381 2643 2742 \nQ 2381 3103 1925 3103 \nQ 1469 3103 1208 2742 \nQ 947 2381 947 1747 \nz\n\" id=\"DejaVuSans-64\" transform=\"scale(0.015625)\"/>\n        <path d=\"M 544 1381 \nL 544 3500 \nL 1119 3500 \nL 1119 1403 \nQ 1119 906 1312 657 \nQ 1506 409 1894 409 \nQ 2359 409 2629 706 \nQ 2900 1003 2900 1516 \nL 2900 3500 \nL 3475 3500 \nL 3475 0 \nL 2900 0 \nL 2900 538 \nQ 2691 219 2414 64 \nQ 2138 -91 1772 -91 \nQ 1169 -91 856 284 \nQ 544 659 544 1381 \nz\nM 1991 3584 \nL 1991 3584 \nz\n\" id=\"DejaVuSans-75\" transform=\"scale(0.015625)\"/>\n        <path d=\"M 603 4863 \nL 1178 4863 \nL 1178 0 \nL 603 0 \nL 603 4863 \nz\n\" id=\"DejaVuSans-6c\" transform=\"scale(0.015625)\"/>\n        <path d=\"M 1172 4494 \nL 1172 3500 \nL 2356 3500 \nL 2356 3053 \nL 1172 3053 \nL 1172 1153 \nQ 1172 725 1289 603 \nQ 1406 481 1766 481 \nL 2356 481 \nL 2356 0 \nL 1766 0 \nQ 1100 0 847 248 \nQ 594 497 594 1153 \nL 594 3053 \nL 172 3053 \nL 172 3500 \nL 594 3500 \nL 594 4494 \nL 1172 4494 \nz\n\" id=\"DejaVuSans-74\" transform=\"scale(0.015625)\"/>\n       </defs>\n       <use xlink:href=\"#DejaVuSans-61\"/>\n       <use x=\"61.279297\" xlink:href=\"#DejaVuSans-64\"/>\n       <use x=\"124.755859\" xlink:href=\"#DejaVuSans-75\"/>\n       <use x=\"188.134766\" xlink:href=\"#DejaVuSans-6c\"/>\n       <use x=\"215.917969\" xlink:href=\"#DejaVuSans-74\"/>\n      </g>\n     </g>\n    </g>\n    <g id=\"xtick_2\">\n     <g id=\"line2d_3\">\n      <path clip-path=\"url(#pf7de01b0ea)\" d=\"M 106.202322 247.865371 \nL 106.202322 26.105371 \n\" style=\"fill:none;stroke:#ffffff;\"/>\n     </g>\n     <g id=\"line2d_4\">\n      <path d=\"M 106.202322 247.865371 \n\" style=\"fill:none;stroke:#333333;stroke-width:1.5;\"/>\n      <g>\n       <use style=\"fill:#333333;stroke:#000000;\" x=\"106.202322\" xlink:href=\"#m6e572b15cb\" y=\"247.865371\"/>\n      </g>\n     </g>\n     <g id=\"text_2\">\n      <!-- audiobook -->\n      <g style=\"fill:#4d4d4d;\" transform=\"translate(96.845998 295.85469)rotate(-60)scale(0.088 -0.088)\">\n       <defs>\n        <path d=\"M 603 3500 \nL 1178 3500 \nL 1178 0 \nL 603 0 \nL 603 3500 \nz\nM 603 4863 \nL 1178 4863 \nL 1178 4134 \nL 603 4134 \nL 603 4863 \nz\n\" id=\"DejaVuSans-69\" transform=\"scale(0.015625)\"/>\n        <path d=\"M 1959 3097 \nQ 1497 3097 1228 2736 \nQ 959 2375 959 1747 \nQ 959 1119 1226 758 \nQ 1494 397 1959 397 \nQ 2419 397 2687 759 \nQ 2956 1122 2956 1747 \nQ 2956 2369 2687 2733 \nQ 2419 3097 1959 3097 \nz\nM 1959 3584 \nQ 2709 3584 3137 3096 \nQ 3566 2609 3566 1747 \nQ 3566 888 3137 398 \nQ 2709 -91 1959 -91 \nQ 1206 -91 779 398 \nQ 353 888 353 1747 \nQ 353 2609 779 3096 \nQ 1206 3584 1959 3584 \nz\n\" id=\"DejaVuSans-6f\" transform=\"scale(0.015625)\"/>\n        <path d=\"M 3116 1747 \nQ 3116 2381 2855 2742 \nQ 2594 3103 2138 3103 \nQ 1681 3103 1420 2742 \nQ 1159 2381 1159 1747 \nQ 1159 1113 1420 752 \nQ 1681 391 2138 391 \nQ 2594 391 2855 752 \nQ 3116 1113 3116 1747 \nz\nM 1159 2969 \nQ 1341 3281 1617 3432 \nQ 1894 3584 2278 3584 \nQ 2916 3584 3314 3078 \nQ 3713 2572 3713 1747 \nQ 3713 922 3314 415 \nQ 2916 -91 2278 -91 \nQ 1894 -91 1617 61 \nQ 1341 213 1159 525 \nL 1159 0 \nL 581 0 \nL 581 4863 \nL 1159 4863 \nL 1159 2969 \nz\n\" id=\"DejaVuSans-62\" transform=\"scale(0.015625)\"/>\n        <path d=\"M 581 4863 \nL 1159 4863 \nL 1159 1991 \nL 2875 3500 \nL 3609 3500 \nL 1753 1863 \nL 3688 0 \nL 2938 0 \nL 1159 1709 \nL 1159 0 \nL 581 0 \nL 581 4863 \nz\n\" id=\"DejaVuSans-6b\" transform=\"scale(0.015625)\"/>\n       </defs>\n       <use xlink:href=\"#DejaVuSans-61\"/>\n       <use x=\"61.279297\" xlink:href=\"#DejaVuSans-75\"/>\n       <use x=\"124.658203\" xlink:href=\"#DejaVuSans-64\"/>\n       <use x=\"188.134766\" xlink:href=\"#DejaVuSans-69\"/>\n       <use x=\"215.917969\" xlink:href=\"#DejaVuSans-6f\"/>\n       <use x=\"277.099609\" xlink:href=\"#DejaVuSans-62\"/>\n       <use x=\"340.576172\" xlink:href=\"#DejaVuSans-6f\"/>\n       <use x=\"401.757812\" xlink:href=\"#DejaVuSans-6f\"/>\n       <use x=\"462.939453\" xlink:href=\"#DejaVuSans-6b\"/>\n      </g>\n     </g>\n    </g>\n    <g id=\"xtick_3\">\n     <g id=\"line2d_5\">\n      <path clip-path=\"url(#pf7de01b0ea)\" d=\"M 124.086937 247.865371 \nL 124.086937 26.105371 \n\" style=\"fill:none;stroke:#ffffff;\"/>\n     </g>\n     <g id=\"line2d_6\">\n      <path d=\"M 124.086937 247.865371 \n\" style=\"fill:none;stroke:#333333;stroke-width:1.5;\"/>\n      <g>\n       <use style=\"fill:#333333;stroke:#000000;\" x=\"124.086937\" xlink:href=\"#m6e572b15cb\" y=\"247.865371\"/>\n      </g>\n     </g>\n     <g id=\"text_3\">\n      <!-- book-club -->\n      <g style=\"fill:#4d4d4d;\" transform=\"translate(115.421551 293.461212)rotate(-60)scale(0.088 -0.088)\">\n       <defs>\n        <path d=\"M 313 2009 \nL 1997 2009 \nL 1997 1497 \nL 313 1497 \nL 313 2009 \nz\n\" id=\"DejaVuSans-2d\" transform=\"scale(0.015625)\"/>\n        <path d=\"M 3122 3366 \nL 3122 2828 \nQ 2878 2963 2633 3030 \nQ 2388 3097 2138 3097 \nQ 1578 3097 1268 2742 \nQ 959 2388 959 1747 \nQ 959 1106 1268 751 \nQ 1578 397 2138 397 \nQ 2388 397 2633 464 \nQ 2878 531 3122 666 \nL 3122 134 \nQ 2881 22 2623 -34 \nQ 2366 -91 2075 -91 \nQ 1284 -91 818 406 \nQ 353 903 353 1747 \nQ 353 2603 823 3093 \nQ 1294 3584 2113 3584 \nQ 2378 3584 2631 3529 \nQ 2884 3475 3122 3366 \nz\n\" id=\"DejaVuSans-63\" transform=\"scale(0.015625)\"/>\n       </defs>\n       <use xlink:href=\"#DejaVuSans-62\"/>\n       <use x=\"63.476562\" xlink:href=\"#DejaVuSans-6f\"/>\n       <use x=\"124.658203\" xlink:href=\"#DejaVuSans-6f\"/>\n       <use x=\"185.839844\" xlink:href=\"#DejaVuSans-6b\"/>\n       <use x=\"243.75\" xlink:href=\"#DejaVuSans-2d\"/>\n       <use x=\"279.833984\" xlink:href=\"#DejaVuSans-63\"/>\n       <use x=\"334.814453\" xlink:href=\"#DejaVuSans-6c\"/>\n       <use x=\"362.597656\" xlink:href=\"#DejaVuSans-75\"/>\n       <use x=\"425.976562\" xlink:href=\"#DejaVuSans-62\"/>\n      </g>\n     </g>\n    </g>\n    <g id=\"xtick_4\">\n     <g id=\"line2d_7\">\n      <path clip-path=\"url(#pf7de01b0ea)\" d=\"M 141.971553 247.865371 \nL 141.971553 26.105371 \n\" style=\"fill:none;stroke:#ffffff;\"/>\n     </g>\n     <g id=\"line2d_8\">\n      <path d=\"M 141.971553 247.865371 \n\" style=\"fill:none;stroke:#333333;stroke-width:1.5;\"/>\n      <g>\n       <use style=\"fill:#333333;stroke:#000000;\" x=\"141.971553\" xlink:href=\"#m6e572b15cb\" y=\"247.865371\"/>\n      </g>\n     </g>\n     <g id=\"text_4\">\n      <!-- books-i-own -->\n      <g style=\"fill:#4d4d4d;\" transform=\"translate(130.786135 302.190856)rotate(-60)scale(0.088 -0.088)\">\n       <defs>\n        <path d=\"M 2834 3397 \nL 2834 2853 \nQ 2591 2978 2328 3040 \nQ 2066 3103 1784 3103 \nQ 1356 3103 1142 2972 \nQ 928 2841 928 2578 \nQ 928 2378 1081 2264 \nQ 1234 2150 1697 2047 \nL 1894 2003 \nQ 2506 1872 2764 1633 \nQ 3022 1394 3022 966 \nQ 3022 478 2636 193 \nQ 2250 -91 1575 -91 \nQ 1294 -91 989 -36 \nQ 684 19 347 128 \nL 347 722 \nQ 666 556 975 473 \nQ 1284 391 1588 391 \nQ 1994 391 2212 530 \nQ 2431 669 2431 922 \nQ 2431 1156 2273 1281 \nQ 2116 1406 1581 1522 \nL 1381 1569 \nQ 847 1681 609 1914 \nQ 372 2147 372 2553 \nQ 372 3047 722 3315 \nQ 1072 3584 1716 3584 \nQ 2034 3584 2315 3537 \nQ 2597 3491 2834 3397 \nz\n\" id=\"DejaVuSans-73\" transform=\"scale(0.015625)\"/>\n        <path d=\"M 269 3500 \nL 844 3500 \nL 1563 769 \nL 2278 3500 \nL 2956 3500 \nL 3675 769 \nL 4391 3500 \nL 4966 3500 \nL 4050 0 \nL 3372 0 \nL 2619 2869 \nL 1863 0 \nL 1184 0 \nL 269 3500 \nz\n\" id=\"DejaVuSans-77\" transform=\"scale(0.015625)\"/>\n        <path d=\"M 3513 2113 \nL 3513 0 \nL 2938 0 \nL 2938 2094 \nQ 2938 2591 2744 2837 \nQ 2550 3084 2163 3084 \nQ 1697 3084 1428 2787 \nQ 1159 2491 1159 1978 \nL 1159 0 \nL 581 0 \nL 581 3500 \nL 1159 3500 \nL 1159 2956 \nQ 1366 3272 1645 3428 \nQ 1925 3584 2291 3584 \nQ 2894 3584 3203 3211 \nQ 3513 2838 3513 2113 \nz\n\" id=\"DejaVuSans-6e\" transform=\"scale(0.015625)\"/>\n       </defs>\n       <use xlink:href=\"#DejaVuSans-62\"/>\n       <use x=\"63.476562\" xlink:href=\"#DejaVuSans-6f\"/>\n       <use x=\"124.658203\" xlink:href=\"#DejaVuSans-6f\"/>\n       <use x=\"185.839844\" xlink:href=\"#DejaVuSans-6b\"/>\n       <use x=\"243.75\" xlink:href=\"#DejaVuSans-73\"/>\n       <use x=\"295.849609\" xlink:href=\"#DejaVuSans-2d\"/>\n       <use x=\"331.933594\" xlink:href=\"#DejaVuSans-69\"/>\n       <use x=\"359.716797\" xlink:href=\"#DejaVuSans-2d\"/>\n       <use x=\"397.675781\" xlink:href=\"#DejaVuSans-6f\"/>\n       <use x=\"458.857422\" xlink:href=\"#DejaVuSans-77\"/>\n       <use x=\"540.644531\" xlink:href=\"#DejaVuSans-6e\"/>\n      </g>\n     </g>\n    </g>\n    <g id=\"xtick_5\">\n     <g id=\"line2d_9\">\n      <path clip-path=\"url(#pf7de01b0ea)\" d=\"M 159.856168 247.865371 \nL 159.856168 26.105371 \n\" style=\"fill:none;stroke:#ffffff;\"/>\n     </g>\n     <g id=\"line2d_10\">\n      <path d=\"M 159.856168 247.865371 \n\" style=\"fill:none;stroke:#333333;stroke-width:1.5;\"/>\n      <g>\n       <use style=\"fill:#333333;stroke:#000000;\" x=\"159.856168\" xlink:href=\"#m6e572b15cb\" y=\"247.865371\"/>\n      </g>\n     </g>\n     <g id=\"text_5\">\n      <!-- classics -->\n      <g style=\"fill:#4d4d4d;\" transform=\"translate(153.531032 285.354348)rotate(-60)scale(0.088 -0.088)\">\n       <use xlink:href=\"#DejaVuSans-63\"/>\n       <use x=\"54.980469\" xlink:href=\"#DejaVuSans-6c\"/>\n       <use x=\"82.763672\" xlink:href=\"#DejaVuSans-61\"/>\n       <use x=\"144.042969\" xlink:href=\"#DejaVuSans-73\"/>\n       <use x=\"196.142578\" xlink:href=\"#DejaVuSans-73\"/>\n       <use x=\"248.242188\" xlink:href=\"#DejaVuSans-69\"/>\n       <use x=\"276.025391\" xlink:href=\"#DejaVuSans-63\"/>\n       <use x=\"331.005859\" xlink:href=\"#DejaVuSans-73\"/>\n      </g>\n     </g>\n    </g>\n    <g id=\"xtick_6\">\n     <g id=\"line2d_11\">\n      <path clip-path=\"url(#pf7de01b0ea)\" d=\"M 177.740784 247.865371 \nL 177.740784 26.105371 \n\" style=\"fill:none;stroke:#ffffff;\"/>\n     </g>\n     <g id=\"line2d_12\">\n      <path d=\"M 177.740784 247.865371 \n\" style=\"fill:none;stroke:#333333;stroke-width:1.5;\"/>\n      <g>\n       <use style=\"fill:#333333;stroke:#000000;\" x=\"177.740784\" xlink:href=\"#m6e572b15cb\" y=\"247.865371\"/>\n      </g>\n     </g>\n     <g id=\"text_6\">\n      <!-- contemporary -->\n      <g style=\"fill:#4d4d4d;\" transform=\"translate(164.332679 309.890472)rotate(-60)scale(0.088 -0.088)\">\n       <defs>\n        <path d=\"M 3597 1894 \nL 3597 1613 \nL 953 1613 \nQ 991 1019 1311 708 \nQ 1631 397 2203 397 \nQ 2534 397 2845 478 \nQ 3156 559 3463 722 \nL 3463 178 \nQ 3153 47 2828 -22 \nQ 2503 -91 2169 -91 \nQ 1331 -91 842 396 \nQ 353 884 353 1716 \nQ 353 2575 817 3079 \nQ 1281 3584 2069 3584 \nQ 2775 3584 3186 3129 \nQ 3597 2675 3597 1894 \nz\nM 3022 2063 \nQ 3016 2534 2758 2815 \nQ 2500 3097 2075 3097 \nQ 1594 3097 1305 2825 \nQ 1016 2553 972 2059 \nL 3022 2063 \nz\n\" id=\"DejaVuSans-65\" transform=\"scale(0.015625)\"/>\n        <path d=\"M 3328 2828 \nQ 3544 3216 3844 3400 \nQ 4144 3584 4550 3584 \nQ 5097 3584 5394 3201 \nQ 5691 2819 5691 2113 \nL 5691 0 \nL 5113 0 \nL 5113 2094 \nQ 5113 2597 4934 2840 \nQ 4756 3084 4391 3084 \nQ 3944 3084 3684 2787 \nQ 3425 2491 3425 1978 \nL 3425 0 \nL 2847 0 \nL 2847 2094 \nQ 2847 2600 2669 2842 \nQ 2491 3084 2119 3084 \nQ 1678 3084 1418 2786 \nQ 1159 2488 1159 1978 \nL 1159 0 \nL 581 0 \nL 581 3500 \nL 1159 3500 \nL 1159 2956 \nQ 1356 3278 1631 3431 \nQ 1906 3584 2284 3584 \nQ 2666 3584 2933 3390 \nQ 3200 3197 3328 2828 \nz\n\" id=\"DejaVuSans-6d\" transform=\"scale(0.015625)\"/>\n        <path d=\"M 1159 525 \nL 1159 -1331 \nL 581 -1331 \nL 581 3500 \nL 1159 3500 \nL 1159 2969 \nQ 1341 3281 1617 3432 \nQ 1894 3584 2278 3584 \nQ 2916 3584 3314 3078 \nQ 3713 2572 3713 1747 \nQ 3713 922 3314 415 \nQ 2916 -91 2278 -91 \nQ 1894 -91 1617 61 \nQ 1341 213 1159 525 \nz\nM 3116 1747 \nQ 3116 2381 2855 2742 \nQ 2594 3103 2138 3103 \nQ 1681 3103 1420 2742 \nQ 1159 2381 1159 1747 \nQ 1159 1113 1420 752 \nQ 1681 391 2138 391 \nQ 2594 391 2855 752 \nQ 3116 1113 3116 1747 \nz\n\" id=\"DejaVuSans-70\" transform=\"scale(0.015625)\"/>\n        <path d=\"M 2631 2963 \nQ 2534 3019 2420 3045 \nQ 2306 3072 2169 3072 \nQ 1681 3072 1420 2755 \nQ 1159 2438 1159 1844 \nL 1159 0 \nL 581 0 \nL 581 3500 \nL 1159 3500 \nL 1159 2956 \nQ 1341 3275 1631 3429 \nQ 1922 3584 2338 3584 \nQ 2397 3584 2469 3576 \nQ 2541 3569 2628 3553 \nL 2631 2963 \nz\n\" id=\"DejaVuSans-72\" transform=\"scale(0.015625)\"/>\n        <path d=\"M 2059 -325 \nQ 1816 -950 1584 -1140 \nQ 1353 -1331 966 -1331 \nL 506 -1331 \nL 506 -850 \nL 844 -850 \nQ 1081 -850 1212 -737 \nQ 1344 -625 1503 -206 \nL 1606 56 \nL 191 3500 \nL 800 3500 \nL 1894 763 \nL 2988 3500 \nL 3597 3500 \nL 2059 -325 \nz\n\" id=\"DejaVuSans-79\" transform=\"scale(0.015625)\"/>\n       </defs>\n       <use xlink:href=\"#DejaVuSans-63\"/>\n       <use x=\"54.980469\" xlink:href=\"#DejaVuSans-6f\"/>\n       <use x=\"116.162109\" xlink:href=\"#DejaVuSans-6e\"/>\n       <use x=\"179.541016\" xlink:href=\"#DejaVuSans-74\"/>\n       <use x=\"218.75\" xlink:href=\"#DejaVuSans-65\"/>\n       <use x=\"280.273438\" xlink:href=\"#DejaVuSans-6d\"/>\n       <use x=\"377.685547\" xlink:href=\"#DejaVuSans-70\"/>\n       <use x=\"441.162109\" xlink:href=\"#DejaVuSans-6f\"/>\n       <use x=\"502.34375\" xlink:href=\"#DejaVuSans-72\"/>\n       <use x=\"543.457031\" xlink:href=\"#DejaVuSans-61\"/>\n       <use x=\"604.736328\" xlink:href=\"#DejaVuSans-72\"/>\n       <use x=\"645.849609\" xlink:href=\"#DejaVuSans-79\"/>\n      </g>\n     </g>\n    </g>\n    <g id=\"xtick_7\">\n     <g id=\"line2d_13\">\n      <path clip-path=\"url(#pf7de01b0ea)\" d=\"M 195.625399 247.865371 \nL 195.625399 26.105371 \n\" style=\"fill:none;stroke:#ffffff;\"/>\n     </g>\n     <g id=\"line2d_14\">\n      <path d=\"M 195.625399 247.865371 \n\" style=\"fill:none;stroke:#333333;stroke-width:1.5;\"/>\n      <g>\n       <use style=\"fill:#333333;stroke:#000000;\" x=\"195.625399\" xlink:href=\"#m6e572b15cb\" y=\"247.865371\"/>\n      </g>\n     </g>\n     <g id=\"text_7\">\n      <!-- currently-reading -->\n      <g style=\"fill:#4d4d4d;\" transform=\"translate(178.769138 321.835235)rotate(-60)scale(0.088 -0.088)\">\n       <defs>\n        <path d=\"M 2906 1791 \nQ 2906 2416 2648 2759 \nQ 2391 3103 1925 3103 \nQ 1463 3103 1205 2759 \nQ 947 2416 947 1791 \nQ 947 1169 1205 825 \nQ 1463 481 1925 481 \nQ 2391 481 2648 825 \nQ 2906 1169 2906 1791 \nz\nM 3481 434 \nQ 3481 -459 3084 -895 \nQ 2688 -1331 1869 -1331 \nQ 1566 -1331 1297 -1286 \nQ 1028 -1241 775 -1147 \nL 775 -588 \nQ 1028 -725 1275 -790 \nQ 1522 -856 1778 -856 \nQ 2344 -856 2625 -561 \nQ 2906 -266 2906 331 \nL 2906 616 \nQ 2728 306 2450 153 \nQ 2172 0 1784 0 \nQ 1141 0 747 490 \nQ 353 981 353 1791 \nQ 353 2603 747 3093 \nQ 1141 3584 1784 3584 \nQ 2172 3584 2450 3431 \nQ 2728 3278 2906 2969 \nL 2906 3500 \nL 3481 3500 \nL 3481 434 \nz\n\" id=\"DejaVuSans-67\" transform=\"scale(0.015625)\"/>\n       </defs>\n       <use xlink:href=\"#DejaVuSans-63\"/>\n       <use x=\"54.980469\" xlink:href=\"#DejaVuSans-75\"/>\n       <use x=\"118.359375\" xlink:href=\"#DejaVuSans-72\"/>\n       <use x=\"157.722656\" xlink:href=\"#DejaVuSans-72\"/>\n       <use x=\"196.585938\" xlink:href=\"#DejaVuSans-65\"/>\n       <use x=\"258.109375\" xlink:href=\"#DejaVuSans-6e\"/>\n       <use x=\"321.488281\" xlink:href=\"#DejaVuSans-74\"/>\n       <use x=\"360.697266\" xlink:href=\"#DejaVuSans-6c\"/>\n       <use x=\"388.480469\" xlink:href=\"#DejaVuSans-79\"/>\n       <use x=\"445.910156\" xlink:href=\"#DejaVuSans-2d\"/>\n       <use x=\"481.994141\" xlink:href=\"#DejaVuSans-72\"/>\n       <use x=\"520.857422\" xlink:href=\"#DejaVuSans-65\"/>\n       <use x=\"582.380859\" xlink:href=\"#DejaVuSans-61\"/>\n       <use x=\"643.660156\" xlink:href=\"#DejaVuSans-64\"/>\n       <use x=\"707.136719\" xlink:href=\"#DejaVuSans-69\"/>\n       <use x=\"734.919922\" xlink:href=\"#DejaVuSans-6e\"/>\n       <use x=\"798.298828\" xlink:href=\"#DejaVuSans-67\"/>\n      </g>\n     </g>\n    </g>\n    <g id=\"xtick_8\">\n     <g id=\"line2d_15\">\n      <path clip-path=\"url(#pf7de01b0ea)\" d=\"M 213.510014 247.865371 \nL 213.510014 26.105371 \n\" style=\"fill:none;stroke:#ffffff;\"/>\n     </g>\n     <g id=\"line2d_16\">\n      <path d=\"M 213.510014 247.865371 \n\" style=\"fill:none;stroke:#333333;stroke-width:1.5;\"/>\n      <g>\n       <use style=\"fill:#333333;stroke:#000000;\" x=\"213.510014\" xlink:href=\"#m6e572b15cb\" y=\"247.865371\"/>\n      </g>\n     </g>\n     <g id=\"text_8\">\n      <!-- default -->\n      <g style=\"fill:#4d4d4d;\" transform=\"translate(207.872034 282.973969)rotate(-60)scale(0.088 -0.088)\">\n       <defs>\n        <path d=\"M 2375 4863 \nL 2375 4384 \nL 1825 4384 \nQ 1516 4384 1395 4259 \nQ 1275 4134 1275 3809 \nL 1275 3500 \nL 2222 3500 \nL 2222 3053 \nL 1275 3053 \nL 1275 0 \nL 697 0 \nL 697 3053 \nL 147 3053 \nL 147 3500 \nL 697 3500 \nL 697 3744 \nQ 697 4328 969 4595 \nQ 1241 4863 1831 4863 \nL 2375 4863 \nz\n\" id=\"DejaVuSans-66\" transform=\"scale(0.015625)\"/>\n       </defs>\n       <use xlink:href=\"#DejaVuSans-64\"/>\n       <use x=\"63.476562\" xlink:href=\"#DejaVuSans-65\"/>\n       <use x=\"125\" xlink:href=\"#DejaVuSans-66\"/>\n       <use x=\"160.205078\" xlink:href=\"#DejaVuSans-61\"/>\n       <use x=\"221.484375\" xlink:href=\"#DejaVuSans-75\"/>\n       <use x=\"284.863281\" xlink:href=\"#DejaVuSans-6c\"/>\n       <use x=\"312.646484\" xlink:href=\"#DejaVuSans-74\"/>\n      </g>\n     </g>\n    </g>\n    <g id=\"xtick_9\">\n     <g id=\"line2d_17\">\n      <path clip-path=\"url(#pf7de01b0ea)\" d=\"M 231.39463 247.865371 \nL 231.39463 26.105371 \n\" style=\"fill:none;stroke:#ffffff;\"/>\n     </g>\n     <g id=\"line2d_18\">\n      <path d=\"M 231.39463 247.865371 \n\" style=\"fill:none;stroke:#333333;stroke-width:1.5;\"/>\n      <g>\n       <use style=\"fill:#333333;stroke:#000000;\" x=\"231.39463\" xlink:href=\"#m6e572b15cb\" y=\"247.865371\"/>\n      </g>\n     </g>\n     <g id=\"text_9\">\n      <!-- fantasy -->\n      <g style=\"fill:#4d4d4d;\" transform=\"translate(225.321806 284.480312)rotate(-60)scale(0.088 -0.088)\">\n       <use xlink:href=\"#DejaVuSans-66\"/>\n       <use x=\"35.205078\" xlink:href=\"#DejaVuSans-61\"/>\n       <use x=\"96.484375\" xlink:href=\"#DejaVuSans-6e\"/>\n       <use x=\"159.863281\" xlink:href=\"#DejaVuSans-74\"/>\n       <use x=\"199.072266\" xlink:href=\"#DejaVuSans-61\"/>\n       <use x=\"260.351562\" xlink:href=\"#DejaVuSans-73\"/>\n       <use x=\"312.451172\" xlink:href=\"#DejaVuSans-79\"/>\n      </g>\n     </g>\n    </g>\n    <g id=\"xtick_10\">\n     <g id=\"line2d_19\">\n      <path clip-path=\"url(#pf7de01b0ea)\" d=\"M 249.279245 247.865371 \nL 249.279245 26.105371 \n\" style=\"fill:none;stroke:#ffffff;\"/>\n     </g>\n     <g id=\"line2d_20\">\n      <path d=\"M 249.279245 247.865371 \n\" style=\"fill:none;stroke:#333333;stroke-width:1.5;\"/>\n      <g>\n       <use style=\"fill:#333333;stroke:#000000;\" x=\"249.279245\" xlink:href=\"#m6e572b15cb\" y=\"247.865371\"/>\n      </g>\n     </g>\n     <g id=\"text_10\">\n      <!-- favorites -->\n      <g style=\"fill:#4d4d4d;\" transform=\"translate(241.733453 289.582825)rotate(-60)scale(0.088 -0.088)\">\n       <defs>\n        <path d=\"M 191 3500 \nL 800 3500 \nL 1894 563 \nL 2988 3500 \nL 3597 3500 \nL 2284 0 \nL 1503 0 \nL 191 3500 \nz\n\" id=\"DejaVuSans-76\" transform=\"scale(0.015625)\"/>\n       </defs>\n       <use xlink:href=\"#DejaVuSans-66\"/>\n       <use x=\"35.205078\" xlink:href=\"#DejaVuSans-61\"/>\n       <use x=\"96.484375\" xlink:href=\"#DejaVuSans-76\"/>\n       <use x=\"155.664062\" xlink:href=\"#DejaVuSans-6f\"/>\n       <use x=\"216.845703\" xlink:href=\"#DejaVuSans-72\"/>\n       <use x=\"257.958984\" xlink:href=\"#DejaVuSans-69\"/>\n       <use x=\"285.742188\" xlink:href=\"#DejaVuSans-74\"/>\n       <use x=\"324.951172\" xlink:href=\"#DejaVuSans-65\"/>\n       <use x=\"386.474609\" xlink:href=\"#DejaVuSans-73\"/>\n      </g>\n     </g>\n    </g>\n    <g id=\"xtick_11\">\n     <g id=\"line2d_21\">\n      <path clip-path=\"url(#pf7de01b0ea)\" d=\"M 267.163861 247.865371 \nL 267.163861 26.105371 \n\" style=\"fill:none;stroke:#ffffff;\"/>\n     </g>\n     <g id=\"line2d_22\">\n      <path d=\"M 267.163861 247.865371 \n\" style=\"fill:none;stroke:#333333;stroke-width:1.5;\"/>\n      <g>\n       <use style=\"fill:#333333;stroke:#000000;\" x=\"267.163861\" xlink:href=\"#m6e572b15cb\" y=\"247.865371\"/>\n      </g>\n     </g>\n     <g id=\"text_11\">\n      <!-- favourites -->\n      <g style=\"fill:#4d4d4d;\" transform=\"translate(258.223818 294.412649)rotate(-60)scale(0.088 -0.088)\">\n       <use xlink:href=\"#DejaVuSans-66\"/>\n       <use x=\"35.205078\" xlink:href=\"#DejaVuSans-61\"/>\n       <use x=\"96.484375\" xlink:href=\"#DejaVuSans-76\"/>\n       <use x=\"155.664062\" xlink:href=\"#DejaVuSans-6f\"/>\n       <use x=\"216.845703\" xlink:href=\"#DejaVuSans-75\"/>\n       <use x=\"280.224609\" xlink:href=\"#DejaVuSans-72\"/>\n       <use x=\"321.337891\" xlink:href=\"#DejaVuSans-69\"/>\n       <use x=\"349.121094\" xlink:href=\"#DejaVuSans-74\"/>\n       <use x=\"388.330078\" xlink:href=\"#DejaVuSans-65\"/>\n       <use x=\"449.853516\" xlink:href=\"#DejaVuSans-73\"/>\n      </g>\n     </g>\n    </g>\n    <g id=\"xtick_12\">\n     <g id=\"line2d_23\">\n      <path clip-path=\"url(#pf7de01b0ea)\" d=\"M 285.048476 247.865371 \nL 285.048476 26.105371 \n\" style=\"fill:none;stroke:#ffffff;\"/>\n     </g>\n     <g id=\"line2d_24\">\n      <path d=\"M 285.048476 247.865371 \n\" style=\"fill:none;stroke:#333333;stroke-width:1.5;\"/>\n      <g>\n       <use style=\"fill:#333333;stroke:#000000;\" x=\"285.048476\" xlink:href=\"#m6e572b15cb\" y=\"247.865371\"/>\n      </g>\n     </g>\n     <g id=\"text_12\">\n      <!-- fiction -->\n      <g style=\"fill:#4d4d4d;\" transform=\"translate(280.342058 279.746942)rotate(-60)scale(0.088 -0.088)\">\n       <use xlink:href=\"#DejaVuSans-66\"/>\n       <use x=\"35.205078\" xlink:href=\"#DejaVuSans-69\"/>\n       <use x=\"62.988281\" xlink:href=\"#DejaVuSans-63\"/>\n       <use x=\"117.96875\" xlink:href=\"#DejaVuSans-74\"/>\n       <use x=\"157.177734\" xlink:href=\"#DejaVuSans-69\"/>\n       <use x=\"184.960938\" xlink:href=\"#DejaVuSans-6f\"/>\n       <use x=\"246.142578\" xlink:href=\"#DejaVuSans-6e\"/>\n      </g>\n     </g>\n    </g>\n    <g id=\"xtick_13\">\n     <g id=\"line2d_25\">\n      <path clip-path=\"url(#pf7de01b0ea)\" d=\"M 302.933091 247.865371 \nL 302.933091 26.105371 \n\" style=\"fill:none;stroke:#ffffff;\"/>\n     </g>\n     <g id=\"line2d_26\">\n      <path d=\"M 302.933091 247.865371 \n\" style=\"fill:none;stroke:#333333;stroke-width:1.5;\"/>\n      <g>\n       <use style=\"fill:#333333;stroke:#000000;\" x=\"302.933091\" xlink:href=\"#m6e572b15cb\" y=\"247.865371\"/>\n      </g>\n     </g>\n     <g id=\"text_13\">\n      <!-- historical-fiction -->\n      <g style=\"fill:#4d4d4d;\" transform=\"translate(287.388236 317.292391)rotate(-60)scale(0.088 -0.088)\">\n       <defs>\n        <path d=\"M 3513 2113 \nL 3513 0 \nL 2938 0 \nL 2938 2094 \nQ 2938 2591 2744 2837 \nQ 2550 3084 2163 3084 \nQ 1697 3084 1428 2787 \nQ 1159 2491 1159 1978 \nL 1159 0 \nL 581 0 \nL 581 4863 \nL 1159 4863 \nL 1159 2956 \nQ 1366 3272 1645 3428 \nQ 1925 3584 2291 3584 \nQ 2894 3584 3203 3211 \nQ 3513 2838 3513 2113 \nz\n\" id=\"DejaVuSans-68\" transform=\"scale(0.015625)\"/>\n       </defs>\n       <use xlink:href=\"#DejaVuSans-68\"/>\n       <use x=\"63.378906\" xlink:href=\"#DejaVuSans-69\"/>\n       <use x=\"91.162109\" xlink:href=\"#DejaVuSans-73\"/>\n       <use x=\"143.261719\" xlink:href=\"#DejaVuSans-74\"/>\n       <use x=\"182.470703\" xlink:href=\"#DejaVuSans-6f\"/>\n       <use x=\"243.652344\" xlink:href=\"#DejaVuSans-72\"/>\n       <use x=\"284.765625\" xlink:href=\"#DejaVuSans-69\"/>\n       <use x=\"312.548828\" xlink:href=\"#DejaVuSans-63\"/>\n       <use x=\"367.529297\" xlink:href=\"#DejaVuSans-61\"/>\n       <use x=\"428.808594\" xlink:href=\"#DejaVuSans-6c\"/>\n       <use x=\"456.591797\" xlink:href=\"#DejaVuSans-2d\"/>\n       <use x=\"492.675781\" xlink:href=\"#DejaVuSans-66\"/>\n       <use x=\"527.880859\" xlink:href=\"#DejaVuSans-69\"/>\n       <use x=\"555.664062\" xlink:href=\"#DejaVuSans-63\"/>\n       <use x=\"610.644531\" xlink:href=\"#DejaVuSans-74\"/>\n       <use x=\"649.853516\" xlink:href=\"#DejaVuSans-69\"/>\n       <use x=\"677.636719\" xlink:href=\"#DejaVuSans-6f\"/>\n       <use x=\"738.818359\" xlink:href=\"#DejaVuSans-6e\"/>\n      </g>\n     </g>\n    </g>\n    <g id=\"xtick_14\">\n     <g id=\"line2d_27\">\n      <path clip-path=\"url(#pf7de01b0ea)\" d=\"M 320.817707 247.865371 \nL 320.817707 26.105371 \n\" style=\"fill:none;stroke:#ffffff;\"/>\n     </g>\n     <g id=\"line2d_28\">\n      <path d=\"M 320.817707 247.865371 \n\" style=\"fill:none;stroke:#333333;stroke-width:1.5;\"/>\n      <g>\n       <use style=\"fill:#333333;stroke:#000000;\" x=\"320.817707\" xlink:href=\"#m6e572b15cb\" y=\"247.865371\"/>\n      </g>\n     </g>\n     <g id=\"text_14\">\n      <!-- horror -->\n      <g style=\"fill:#4d4d4d;\" transform=\"translate(316.208914 279.408759)rotate(-60)scale(0.088 -0.088)\">\n       <use xlink:href=\"#DejaVuSans-68\"/>\n       <use x=\"63.378906\" xlink:href=\"#DejaVuSans-6f\"/>\n       <use x=\"124.560547\" xlink:href=\"#DejaVuSans-72\"/>\n       <use x=\"163.923828\" xlink:href=\"#DejaVuSans-72\"/>\n       <use x=\"202.787109\" xlink:href=\"#DejaVuSans-6f\"/>\n       <use x=\"263.96875\" xlink:href=\"#DejaVuSans-72\"/>\n      </g>\n     </g>\n    </g>\n    <g id=\"xtick_15\">\n     <g id=\"line2d_29\">\n      <path clip-path=\"url(#pf7de01b0ea)\" d=\"M 338.702322 247.865371 \nL 338.702322 26.105371 \n\" style=\"fill:none;stroke:#ffffff;\"/>\n     </g>\n     <g id=\"line2d_30\">\n      <path d=\"M 338.702322 247.865371 \n\" style=\"fill:none;stroke:#333333;stroke-width:1.5;\"/>\n      <g>\n       <use style=\"fill:#333333;stroke:#000000;\" x=\"338.702322\" xlink:href=\"#m6e572b15cb\" y=\"247.865371\"/>\n      </g>\n     </g>\n     <g id=\"text_15\">\n      <!-- kindle -->\n      <g style=\"fill:#4d4d4d;\" transform=\"translate(334.164342 279.163457)rotate(-60)scale(0.088 -0.088)\">\n       <use xlink:href=\"#DejaVuSans-6b\"/>\n       <use x=\"57.910156\" xlink:href=\"#DejaVuSans-69\"/>\n       <use x=\"85.693359\" xlink:href=\"#DejaVuSans-6e\"/>\n       <use x=\"149.072266\" xlink:href=\"#DejaVuSans-64\"/>\n       <use x=\"212.548828\" xlink:href=\"#DejaVuSans-6c\"/>\n       <use x=\"240.332031\" xlink:href=\"#DejaVuSans-65\"/>\n      </g>\n     </g>\n    </g>\n    <g id=\"xtick_16\">\n     <g id=\"line2d_31\">\n      <path clip-path=\"url(#pf7de01b0ea)\" d=\"M 356.586937 247.865371 \nL 356.586937 26.105371 \n\" style=\"fill:none;stroke:#ffffff;\"/>\n     </g>\n     <g id=\"line2d_32\">\n      <path d=\"M 356.586937 247.865371 \n\" style=\"fill:none;stroke:#333333;stroke-width:1.5;\"/>\n      <g>\n       <use style=\"fill:#333333;stroke:#000000;\" x=\"356.586937\" xlink:href=\"#m6e572b15cb\" y=\"247.865371\"/>\n      </g>\n     </g>\n     <g id=\"text_16\">\n      <!-- library -->\n      <g style=\"fill:#4d4d4d;\" transform=\"translate(351.611707 280.678136)rotate(-60)scale(0.088 -0.088)\">\n       <use xlink:href=\"#DejaVuSans-6c\"/>\n       <use x=\"27.783203\" xlink:href=\"#DejaVuSans-69\"/>\n       <use x=\"55.566406\" xlink:href=\"#DejaVuSans-62\"/>\n       <use x=\"119.042969\" xlink:href=\"#DejaVuSans-72\"/>\n       <use x=\"160.15625\" xlink:href=\"#DejaVuSans-61\"/>\n       <use x=\"221.435547\" xlink:href=\"#DejaVuSans-72\"/>\n       <use x=\"262.548828\" xlink:href=\"#DejaVuSans-79\"/>\n      </g>\n     </g>\n    </g>\n    <g id=\"xtick_17\">\n     <g id=\"line2d_33\">\n      <path clip-path=\"url(#pf7de01b0ea)\" d=\"M 374.471553 247.865371 \nL 374.471553 26.105371 \n\" style=\"fill:none;stroke:#ffffff;\"/>\n     </g>\n     <g id=\"line2d_34\">\n      <path d=\"M 374.471553 247.865371 \n\" style=\"fill:none;stroke:#333333;stroke-width:1.5;\"/>\n      <g>\n       <use style=\"fill:#333333;stroke:#000000;\" x=\"374.471553\" xlink:href=\"#m6e572b15cb\" y=\"247.865371\"/>\n      </g>\n     </g>\n     <g id=\"text_17\">\n      <!-- mystery -->\n      <g style=\"fill:#4d4d4d;\" transform=\"translate(367.560667 287.383446)rotate(-60)scale(0.088 -0.088)\">\n       <use xlink:href=\"#DejaVuSans-6d\"/>\n       <use x=\"97.412109\" xlink:href=\"#DejaVuSans-79\"/>\n       <use x=\"156.591797\" xlink:href=\"#DejaVuSans-73\"/>\n       <use x=\"208.691406\" xlink:href=\"#DejaVuSans-74\"/>\n       <use x=\"247.900391\" xlink:href=\"#DejaVuSans-65\"/>\n       <use x=\"309.423828\" xlink:href=\"#DejaVuSans-72\"/>\n       <use x=\"350.537109\" xlink:href=\"#DejaVuSans-79\"/>\n      </g>\n     </g>\n    </g>\n    <g id=\"xtick_18\">\n     <g id=\"line2d_35\">\n      <path clip-path=\"url(#pf7de01b0ea)\" d=\"M 392.356168 247.865371 \nL 392.356168 26.105371 \n\" style=\"fill:none;stroke:#ffffff;\"/>\n     </g>\n     <g id=\"line2d_36\">\n      <path d=\"M 392.356168 247.865371 \n\" style=\"fill:none;stroke:#333333;stroke-width:1.5;\"/>\n      <g>\n       <use style=\"fill:#333333;stroke:#000000;\" x=\"392.356168\" xlink:href=\"#m6e572b15cb\" y=\"247.865371\"/>\n      </g>\n     </g>\n     <g id=\"text_18\">\n      <!-- non-fiction -->\n      <g style=\"fill:#4d4d4d;\" transform=\"translate(382.721407 296.819225)rotate(-60)scale(0.088 -0.088)\">\n       <use xlink:href=\"#DejaVuSans-6e\"/>\n       <use x=\"63.378906\" xlink:href=\"#DejaVuSans-6f\"/>\n       <use x=\"124.560547\" xlink:href=\"#DejaVuSans-6e\"/>\n       <use x=\"187.939453\" xlink:href=\"#DejaVuSans-2d\"/>\n       <use x=\"224.023438\" xlink:href=\"#DejaVuSans-66\"/>\n       <use x=\"259.228516\" xlink:href=\"#DejaVuSans-69\"/>\n       <use x=\"287.011719\" xlink:href=\"#DejaVuSans-63\"/>\n       <use x=\"341.992188\" xlink:href=\"#DejaVuSans-74\"/>\n       <use x=\"381.201172\" xlink:href=\"#DejaVuSans-69\"/>\n       <use x=\"408.984375\" xlink:href=\"#DejaVuSans-6f\"/>\n       <use x=\"470.166016\" xlink:href=\"#DejaVuSans-6e\"/>\n      </g>\n     </g>\n    </g>\n    <g id=\"xtick_19\">\n     <g id=\"line2d_37\">\n      <path clip-path=\"url(#pf7de01b0ea)\" d=\"M 410.240784 247.865371 \nL 410.240784 26.105371 \n\" style=\"fill:none;stroke:#ffffff;\"/>\n     </g>\n     <g id=\"line2d_38\">\n      <path d=\"M 410.240784 247.865371 \n\" style=\"fill:none;stroke:#333333;stroke-width:1.5;\"/>\n      <g>\n       <use style=\"fill:#333333;stroke:#000000;\" x=\"410.240784\" xlink:href=\"#m6e572b15cb\" y=\"247.865371\"/>\n      </g>\n     </g>\n     <g id=\"text_19\">\n      <!-- nonfiction -->\n      <g style=\"fill:#4d4d4d;\" transform=\"translate(401.399741 294.069703)rotate(-60)scale(0.088 -0.088)\">\n       <use xlink:href=\"#DejaVuSans-6e\"/>\n       <use x=\"63.378906\" xlink:href=\"#DejaVuSans-6f\"/>\n       <use x=\"124.560547\" xlink:href=\"#DejaVuSans-6e\"/>\n       <use x=\"187.939453\" xlink:href=\"#DejaVuSans-66\"/>\n       <use x=\"223.144531\" xlink:href=\"#DejaVuSans-69\"/>\n       <use x=\"250.927734\" xlink:href=\"#DejaVuSans-63\"/>\n       <use x=\"305.908203\" xlink:href=\"#DejaVuSans-74\"/>\n       <use x=\"345.117188\" xlink:href=\"#DejaVuSans-69\"/>\n       <use x=\"372.900391\" xlink:href=\"#DejaVuSans-6f\"/>\n       <use x=\"434.082031\" xlink:href=\"#DejaVuSans-6e\"/>\n      </g>\n     </g>\n    </g>\n    <g id=\"xtick_20\">\n     <g id=\"line2d_39\">\n      <path clip-path=\"url(#pf7de01b0ea)\" d=\"M 428.125399 247.865371 \nL 428.125399 26.105371 \n\" style=\"fill:none;stroke:#ffffff;\"/>\n     </g>\n     <g id=\"line2d_40\">\n      <path d=\"M 428.125399 247.865371 \n\" style=\"fill:none;stroke:#333333;stroke-width:1.5;\"/>\n      <g>\n       <use style=\"fill:#333333;stroke:#000000;\" x=\"428.125399\" xlink:href=\"#m6e572b15cb\" y=\"247.865371\"/>\n      </g>\n     </g>\n     <g id=\"text_20\">\n      <!-- owned -->\n      <g style=\"fill:#4d4d4d;\" transform=\"translate(422.938419 281.411659)rotate(-60)scale(0.088 -0.088)\">\n       <use xlink:href=\"#DejaVuSans-6f\"/>\n       <use x=\"61.181641\" xlink:href=\"#DejaVuSans-77\"/>\n       <use x=\"142.96875\" xlink:href=\"#DejaVuSans-6e\"/>\n       <use x=\"206.347656\" xlink:href=\"#DejaVuSans-65\"/>\n       <use x=\"267.871094\" xlink:href=\"#DejaVuSans-64\"/>\n      </g>\n     </g>\n    </g>\n    <g id=\"xtick_21\">\n     <g id=\"line2d_41\">\n      <path clip-path=\"url(#pf7de01b0ea)\" d=\"M 446.010014 247.865371 \nL 446.010014 26.105371 \n\" style=\"fill:none;stroke:#ffffff;\"/>\n     </g>\n     <g id=\"line2d_42\">\n      <path d=\"M 446.010014 247.865371 \n\" style=\"fill:none;stroke:#333333;stroke-width:1.5;\"/>\n      <g>\n       <use style=\"fill:#333333;stroke:#000000;\" x=\"446.010014\" xlink:href=\"#m6e572b15cb\" y=\"247.865371\"/>\n      </g>\n     </g>\n     <g id=\"text_21\">\n      <!-- owned-books -->\n      <g style=\"fill:#4d4d4d;\" transform=\"translate(433.520409 306.708694)rotate(-60)scale(0.088 -0.088)\">\n       <use xlink:href=\"#DejaVuSans-6f\"/>\n       <use x=\"61.181641\" xlink:href=\"#DejaVuSans-77\"/>\n       <use x=\"142.96875\" xlink:href=\"#DejaVuSans-6e\"/>\n       <use x=\"206.347656\" xlink:href=\"#DejaVuSans-65\"/>\n       <use x=\"267.871094\" xlink:href=\"#DejaVuSans-64\"/>\n       <use x=\"331.347656\" xlink:href=\"#DejaVuSans-2d\"/>\n       <use x=\"367.431641\" xlink:href=\"#DejaVuSans-62\"/>\n       <use x=\"430.908203\" xlink:href=\"#DejaVuSans-6f\"/>\n       <use x=\"492.089844\" xlink:href=\"#DejaVuSans-6f\"/>\n       <use x=\"553.271484\" xlink:href=\"#DejaVuSans-6b\"/>\n       <use x=\"611.181641\" xlink:href=\"#DejaVuSans-73\"/>\n      </g>\n     </g>\n    </g>\n    <g id=\"xtick_22\">\n     <g id=\"line2d_43\">\n      <path clip-path=\"url(#pf7de01b0ea)\" d=\"M 463.89463 247.865371 \nL 463.89463 26.105371 \n\" style=\"fill:none;stroke:#ffffff;\"/>\n     </g>\n     <g id=\"line2d_44\">\n      <path d=\"M 463.89463 247.865371 \n\" style=\"fill:none;stroke:#333333;stroke-width:1.5;\"/>\n      <g>\n       <use style=\"fill:#333333;stroke:#000000;\" x=\"463.89463\" xlink:href=\"#m6e572b15cb\" y=\"247.865371\"/>\n      </g>\n     </g>\n     <g id=\"text_22\">\n      <!-- paranormal -->\n      <g style=\"fill:#4d4d4d;\" transform=\"translate(453.291525 300.173667)rotate(-60)scale(0.088 -0.088)\">\n       <use xlink:href=\"#DejaVuSans-70\"/>\n       <use x=\"63.476562\" xlink:href=\"#DejaVuSans-61\"/>\n       <use x=\"124.755859\" xlink:href=\"#DejaVuSans-72\"/>\n       <use x=\"165.869141\" xlink:href=\"#DejaVuSans-61\"/>\n       <use x=\"227.148438\" xlink:href=\"#DejaVuSans-6e\"/>\n       <use x=\"290.527344\" xlink:href=\"#DejaVuSans-6f\"/>\n       <use x=\"351.708984\" xlink:href=\"#DejaVuSans-72\"/>\n       <use x=\"391.072266\" xlink:href=\"#DejaVuSans-6d\"/>\n       <use x=\"488.484375\" xlink:href=\"#DejaVuSans-61\"/>\n       <use x=\"549.763672\" xlink:href=\"#DejaVuSans-6c\"/>\n      </g>\n     </g>\n    </g>\n    <g id=\"xtick_23\">\n     <g id=\"line2d_45\">\n      <path clip-path=\"url(#pf7de01b0ea)\" d=\"M 481.779245 247.865371 \nL 481.779245 26.105371 \n\" style=\"fill:none;stroke:#ffffff;\"/>\n     </g>\n     <g id=\"line2d_46\">\n      <path d=\"M 481.779245 247.865371 \n\" style=\"fill:none;stroke:#333333;stroke-width:1.5;\"/>\n      <g>\n       <use style=\"fill:#333333;stroke:#000000;\" x=\"481.779245\" xlink:href=\"#m6e572b15cb\" y=\"247.865371\"/>\n      </g>\n     </g>\n     <g id=\"text_23\">\n      <!-- romance -->\n      <g style=\"fill:#4d4d4d;\" transform=\"translate(474.232421 289.586398)rotate(-60)scale(0.088 -0.088)\">\n       <use xlink:href=\"#DejaVuSans-72\"/>\n       <use x=\"38.863281\" xlink:href=\"#DejaVuSans-6f\"/>\n       <use x=\"100.044922\" xlink:href=\"#DejaVuSans-6d\"/>\n       <use x=\"197.457031\" xlink:href=\"#DejaVuSans-61\"/>\n       <use x=\"258.736328\" xlink:href=\"#DejaVuSans-6e\"/>\n       <use x=\"322.115234\" xlink:href=\"#DejaVuSans-63\"/>\n       <use x=\"377.095703\" xlink:href=\"#DejaVuSans-65\"/>\n      </g>\n     </g>\n    </g>\n    <g id=\"xtick_24\">\n     <g id=\"line2d_47\">\n      <path clip-path=\"url(#pf7de01b0ea)\" d=\"M 499.663861 247.865371 \nL 499.663861 26.105371 \n\" style=\"fill:none;stroke:#ffffff;\"/>\n     </g>\n     <g id=\"line2d_48\">\n      <path d=\"M 499.663861 247.865371 \n\" style=\"fill:none;stroke:#333333;stroke-width:1.5;\"/>\n      <g>\n       <use style=\"fill:#333333;stroke:#000000;\" x=\"499.663861\" xlink:href=\"#m6e572b15cb\" y=\"247.865371\"/>\n      </g>\n     </g>\n     <g id=\"text_24\">\n      <!-- sci-fi -->\n      <g style=\"fill:#4d4d4d;\" transform=\"translate(496.620506 273.985924)rotate(-60)scale(0.088 -0.088)\">\n       <use xlink:href=\"#DejaVuSans-73\"/>\n       <use x=\"52.099609\" xlink:href=\"#DejaVuSans-63\"/>\n       <use x=\"107.080078\" xlink:href=\"#DejaVuSans-69\"/>\n       <use x=\"134.863281\" xlink:href=\"#DejaVuSans-2d\"/>\n       <use x=\"170.947266\" xlink:href=\"#DejaVuSans-66\"/>\n       <use x=\"206.152344\" xlink:href=\"#DejaVuSans-69\"/>\n      </g>\n     </g>\n    </g>\n    <g id=\"xtick_25\">\n     <g id=\"line2d_49\">\n      <path clip-path=\"url(#pf7de01b0ea)\" d=\"M 517.548476 247.865371 \nL 517.548476 26.105371 \n\" style=\"fill:none;stroke:#ffffff;\"/>\n     </g>\n     <g id=\"line2d_50\">\n      <path d=\"M 517.548476 247.865371 \n\" style=\"fill:none;stroke:#333333;stroke-width:1.5;\"/>\n      <g>\n       <use style=\"fill:#333333;stroke:#000000;\" x=\"517.548476\" xlink:href=\"#m6e572b15cb\" y=\"247.865371\"/>\n      </g>\n     </g>\n     <g id=\"text_25\">\n      <!-- science-fiction -->\n      <g style=\"fill:#4d4d4d;\" transform=\"translate(503.770152 311.172947)rotate(-60)scale(0.088 -0.088)\">\n       <use xlink:href=\"#DejaVuSans-73\"/>\n       <use x=\"52.099609\" xlink:href=\"#DejaVuSans-63\"/>\n       <use x=\"107.080078\" xlink:href=\"#DejaVuSans-69\"/>\n       <use x=\"134.863281\" xlink:href=\"#DejaVuSans-65\"/>\n       <use x=\"196.386719\" xlink:href=\"#DejaVuSans-6e\"/>\n       <use x=\"259.765625\" xlink:href=\"#DejaVuSans-63\"/>\n       <use x=\"314.746094\" xlink:href=\"#DejaVuSans-65\"/>\n       <use x=\"376.269531\" xlink:href=\"#DejaVuSans-2d\"/>\n       <use x=\"412.353516\" xlink:href=\"#DejaVuSans-66\"/>\n       <use x=\"447.558594\" xlink:href=\"#DejaVuSans-69\"/>\n       <use x=\"475.341797\" xlink:href=\"#DejaVuSans-63\"/>\n       <use x=\"530.322266\" xlink:href=\"#DejaVuSans-74\"/>\n       <use x=\"569.53125\" xlink:href=\"#DejaVuSans-69\"/>\n       <use x=\"597.314453\" xlink:href=\"#DejaVuSans-6f\"/>\n       <use x=\"658.496094\" xlink:href=\"#DejaVuSans-6e\"/>\n      </g>\n     </g>\n    </g>\n    <g id=\"xtick_26\">\n     <g id=\"line2d_51\">\n      <path clip-path=\"url(#pf7de01b0ea)\" d=\"M 535.433091 247.865371 \nL 535.433091 26.105371 \n\" style=\"fill:none;stroke:#ffffff;\"/>\n     </g>\n     <g id=\"line2d_52\">\n      <path d=\"M 535.433091 247.865371 \n\" style=\"fill:none;stroke:#333333;stroke-width:1.5;\"/>\n      <g>\n       <use style=\"fill:#333333;stroke:#000000;\" x=\"535.433091\" xlink:href=\"#m6e572b15cb\" y=\"247.865371\"/>\n      </g>\n     </g>\n     <g id=\"text_26\">\n      <!-- series -->\n      <g style=\"fill:#4d4d4d;\" transform=\"translate(531.020924 278.72763)rotate(-60)scale(0.088 -0.088)\">\n       <use xlink:href=\"#DejaVuSans-73\"/>\n       <use x=\"52.099609\" xlink:href=\"#DejaVuSans-65\"/>\n       <use x=\"113.623047\" xlink:href=\"#DejaVuSans-72\"/>\n       <use x=\"154.736328\" xlink:href=\"#DejaVuSans-69\"/>\n       <use x=\"182.519531\" xlink:href=\"#DejaVuSans-65\"/>\n       <use x=\"244.042969\" xlink:href=\"#DejaVuSans-73\"/>\n      </g>\n     </g>\n    </g>\n    <g id=\"xtick_27\">\n     <g id=\"line2d_53\">\n      <path clip-path=\"url(#pf7de01b0ea)\" d=\"M 553.317707 247.865371 \nL 553.317707 26.105371 \n\" style=\"fill:none;stroke:#ffffff;\"/>\n     </g>\n     <g id=\"line2d_54\">\n      <path d=\"M 553.317707 247.865371 \n\" style=\"fill:none;stroke:#333333;stroke-width:1.5;\"/>\n      <g>\n       <use style=\"fill:#333333;stroke:#000000;\" x=\"553.317707\" xlink:href=\"#m6e572b15cb\" y=\"247.865371\"/>\n      </g>\n     </g>\n     <g id=\"text_27\">\n      <!-- to-buy -->\n      <g style=\"fill:#4d4d4d;\" transform=\"translate(548.284039 280.880569)rotate(-60)scale(0.088 -0.088)\">\n       <use xlink:href=\"#DejaVuSans-74\"/>\n       <use x=\"39.208984\" xlink:href=\"#DejaVuSans-6f\"/>\n       <use x=\"102.265625\" xlink:href=\"#DejaVuSans-2d\"/>\n       <use x=\"138.349609\" xlink:href=\"#DejaVuSans-62\"/>\n       <use x=\"201.826172\" xlink:href=\"#DejaVuSans-75\"/>\n       <use x=\"265.205078\" xlink:href=\"#DejaVuSans-79\"/>\n      </g>\n     </g>\n    </g>\n    <g id=\"xtick_28\">\n     <g id=\"line2d_55\">\n      <path clip-path=\"url(#pf7de01b0ea)\" d=\"M 571.202322 247.865371 \nL 571.202322 26.105371 \n\" style=\"fill:none;stroke:#ffffff;\"/>\n     </g>\n     <g id=\"line2d_56\">\n      <path d=\"M 571.202322 247.865371 \n\" style=\"fill:none;stroke:#333333;stroke-width:1.5;\"/>\n      <g>\n       <use style=\"fill:#333333;stroke:#000000;\" x=\"571.202322\" xlink:href=\"#m6e572b15cb\" y=\"247.865371\"/>\n      </g>\n     </g>\n     <g id=\"text_28\">\n      <!-- to-read -->\n      <g style=\"fill:#4d4d4d;\" transform=\"translate(565.308248 283.861104)rotate(-60)scale(0.088 -0.088)\">\n       <use xlink:href=\"#DejaVuSans-74\"/>\n       <use x=\"39.208984\" xlink:href=\"#DejaVuSans-6f\"/>\n       <use x=\"102.265625\" xlink:href=\"#DejaVuSans-2d\"/>\n       <use x=\"138.349609\" xlink:href=\"#DejaVuSans-72\"/>\n       <use x=\"177.212891\" xlink:href=\"#DejaVuSans-65\"/>\n       <use x=\"238.736328\" xlink:href=\"#DejaVuSans-61\"/>\n       <use x=\"300.015625\" xlink:href=\"#DejaVuSans-64\"/>\n      </g>\n     </g>\n    </g>\n    <g id=\"xtick_29\">\n     <g id=\"line2d_57\">\n      <path clip-path=\"url(#pf7de01b0ea)\" d=\"M 589.086937 247.865371 \nL 589.086937 26.105371 \n\" style=\"fill:none;stroke:#ffffff;\"/>\n     </g>\n     <g id=\"line2d_58\">\n      <path d=\"M 589.086937 247.865371 \n\" style=\"fill:none;stroke:#333333;stroke-width:1.5;\"/>\n      <g>\n       <use style=\"fill:#333333;stroke:#000000;\" x=\"589.086937\" xlink:href=\"#m6e572b15cb\" y=\"247.865371\"/>\n      </g>\n     </g>\n     <g id=\"text_29\">\n      <!-- urban-fantasy -->\n      <g style=\"fill:#4d4d4d;\" transform=\"translate(575.782645 309.530855)rotate(-60)scale(0.088 -0.088)\">\n       <use xlink:href=\"#DejaVuSans-75\"/>\n       <use x=\"63.378906\" xlink:href=\"#DejaVuSans-72\"/>\n       <use x=\"104.492188\" xlink:href=\"#DejaVuSans-62\"/>\n       <use x=\"167.96875\" xlink:href=\"#DejaVuSans-61\"/>\n       <use x=\"229.248047\" xlink:href=\"#DejaVuSans-6e\"/>\n       <use x=\"292.626953\" xlink:href=\"#DejaVuSans-2d\"/>\n       <use x=\"328.710938\" xlink:href=\"#DejaVuSans-66\"/>\n       <use x=\"363.916016\" xlink:href=\"#DejaVuSans-61\"/>\n       <use x=\"425.195312\" xlink:href=\"#DejaVuSans-6e\"/>\n       <use x=\"488.574219\" xlink:href=\"#DejaVuSans-74\"/>\n       <use x=\"527.783203\" xlink:href=\"#DejaVuSans-61\"/>\n       <use x=\"589.0625\" xlink:href=\"#DejaVuSans-73\"/>\n       <use x=\"641.162109\" xlink:href=\"#DejaVuSans-79\"/>\n      </g>\n     </g>\n    </g>\n    <g id=\"xtick_30\">\n     <g id=\"line2d_59\">\n      <path clip-path=\"url(#pf7de01b0ea)\" d=\"M 606.971553 247.865371 \nL 606.971553 26.105371 \n\" style=\"fill:none;stroke:#ffffff;\"/>\n     </g>\n     <g id=\"line2d_60\">\n      <path d=\"M 606.971553 247.865371 \n\" style=\"fill:none;stroke:#333333;stroke-width:1.5;\"/>\n      <g>\n       <use style=\"fill:#333333;stroke:#000000;\" x=\"606.971553\" xlink:href=\"#m6e572b15cb\" y=\"247.865371\"/>\n      </g>\n     </g>\n     <g id=\"text_30\">\n      <!-- ya -->\n      <g style=\"fill:#4d4d4d;\" transform=\"translate(606.424167 265.339635)rotate(-60)scale(0.088 -0.088)\">\n       <use xlink:href=\"#DejaVuSans-79\"/>\n       <use x=\"59.179688\" xlink:href=\"#DejaVuSans-61\"/>\n      </g>\n     </g>\n    </g>\n    <g id=\"xtick_31\">\n     <g id=\"line2d_61\">\n      <path clip-path=\"url(#pf7de01b0ea)\" d=\"M 624.856168 247.865371 \nL 624.856168 26.105371 \n\" style=\"fill:none;stroke:#ffffff;\"/>\n     </g>\n     <g id=\"line2d_62\">\n      <path d=\"M 624.856168 247.865371 \n\" style=\"fill:none;stroke:#333333;stroke-width:1.5;\"/>\n      <g>\n       <use style=\"fill:#333333;stroke:#000000;\" x=\"624.856168\" xlink:href=\"#m6e572b15cb\" y=\"247.865371\"/>\n      </g>\n     </g>\n     <g id=\"text_31\">\n      <!-- young-adult -->\n      <g style=\"fill:#4d4d4d;\" transform=\"translate(613.719219 302.022956)rotate(-60)scale(0.088 -0.088)\">\n       <use xlink:href=\"#DejaVuSans-79\"/>\n       <use x=\"59.179688\" xlink:href=\"#DejaVuSans-6f\"/>\n       <use x=\"120.361328\" xlink:href=\"#DejaVuSans-75\"/>\n       <use x=\"183.740234\" xlink:href=\"#DejaVuSans-6e\"/>\n       <use x=\"247.119141\" xlink:href=\"#DejaVuSans-67\"/>\n       <use x=\"310.595703\" xlink:href=\"#DejaVuSans-2d\"/>\n       <use x=\"346.679688\" xlink:href=\"#DejaVuSans-61\"/>\n       <use x=\"407.958984\" xlink:href=\"#DejaVuSans-64\"/>\n       <use x=\"471.435547\" xlink:href=\"#DejaVuSans-75\"/>\n       <use x=\"534.814453\" xlink:href=\"#DejaVuSans-6c\"/>\n       <use x=\"562.597656\" xlink:href=\"#DejaVuSans-74\"/>\n      </g>\n     </g>\n    </g>\n    <g id=\"text_32\">\n     <!-- Tag Name -->\n     <g transform=\"translate(320.298344 335.508579)scale(0.11 -0.11)\">\n      <defs>\n       <path d=\"M -19 4666 \nL 3928 4666 \nL 3928 4134 \nL 2272 4134 \nL 2272 0 \nL 1638 0 \nL 1638 4134 \nL -19 4134 \nL -19 4666 \nz\n\" id=\"DejaVuSans-54\" transform=\"scale(0.015625)\"/>\n       <path id=\"DejaVuSans-20\" transform=\"scale(0.015625)\"/>\n       <path d=\"M 628 4666 \nL 1478 4666 \nL 3547 763 \nL 3547 4666 \nL 4159 4666 \nL 4159 0 \nL 3309 0 \nL 1241 3903 \nL 1241 0 \nL 628 0 \nL 628 4666 \nz\n\" id=\"DejaVuSans-4e\" transform=\"scale(0.015625)\"/>\n      </defs>\n      <use xlink:href=\"#DejaVuSans-54\"/>\n      <use x=\"44.583984\" xlink:href=\"#DejaVuSans-61\"/>\n      <use x=\"105.863281\" xlink:href=\"#DejaVuSans-67\"/>\n      <use x=\"169.339844\" xlink:href=\"#DejaVuSans-20\"/>\n      <use x=\"201.126953\" xlink:href=\"#DejaVuSans-4e\"/>\n      <use x=\"275.931641\" xlink:href=\"#DejaVuSans-61\"/>\n      <use x=\"337.210938\" xlink:href=\"#DejaVuSans-6d\"/>\n      <use x=\"434.623047\" xlink:href=\"#DejaVuSans-65\"/>\n     </g>\n    </g>\n   </g>\n   <g id=\"matplotlib.axis_2\">\n    <g id=\"ytick_1\">\n     <g id=\"line2d_63\">\n      <path clip-path=\"url(#pf7de01b0ea)\" d=\"M 77.586938 237.785371 \nL 635.586937 237.785371 \n\" style=\"fill:none;stroke:#ffffff;\"/>\n     </g>\n     <g id=\"line2d_64\">\n      <path d=\"M 77.586938 237.785371 \n\" style=\"fill:none;stroke:#333333;stroke-width:1.5;\"/>\n      <defs>\n       <path d=\"M 0 0 \nL -2.75 0 \n\" id=\"m922aba9063\" style=\"stroke:#000000;\"/>\n      </defs>\n      <g>\n       <use style=\"fill:#333333;stroke:#000000;\" x=\"77.586938\" xlink:href=\"#m922aba9063\" y=\"237.785371\"/>\n      </g>\n     </g>\n     <g id=\"text_33\">\n      <!-- 0 -->\n      <g style=\"fill:#4d4d4d;\" transform=\"translate(67.037937 240.213621)scale(0.088 -0.088)\">\n       <defs>\n        <path d=\"M 2034 4250 \nQ 1547 4250 1301 3770 \nQ 1056 3291 1056 2328 \nQ 1056 1369 1301 889 \nQ 1547 409 2034 409 \nQ 2525 409 2770 889 \nQ 3016 1369 3016 2328 \nQ 3016 3291 2770 3770 \nQ 2525 4250 2034 4250 \nz\nM 2034 4750 \nQ 2819 4750 3233 4129 \nQ 3647 3509 3647 2328 \nQ 3647 1150 3233 529 \nQ 2819 -91 2034 -91 \nQ 1250 -91 836 529 \nQ 422 1150 422 2328 \nQ 422 3509 836 4129 \nQ 1250 4750 2034 4750 \nz\n\" id=\"DejaVuSans-30\" transform=\"scale(0.015625)\"/>\n       </defs>\n       <use xlink:href=\"#DejaVuSans-30\"/>\n      </g>\n     </g>\n    </g>\n    <g id=\"ytick_2\">\n     <g id=\"line2d_65\">\n      <path clip-path=\"url(#pf7de01b0ea)\" d=\"M 77.586938 166.153131 \nL 635.586937 166.153131 \n\" style=\"fill:none;stroke:#ffffff;\"/>\n     </g>\n     <g id=\"line2d_66\">\n      <path d=\"M 77.586938 166.153131 \n\" style=\"fill:none;stroke:#333333;stroke-width:1.5;\"/>\n      <g>\n       <use style=\"fill:#333333;stroke:#000000;\" x=\"77.586938\" xlink:href=\"#m922aba9063\" y=\"166.153131\"/>\n      </g>\n     </g>\n     <g id=\"text_34\">\n      <!-- 50000000 -->\n      <g style=\"fill:#4d4d4d;\" transform=\"translate(27.844938 168.581381)scale(0.088 -0.088)\">\n       <defs>\n        <path d=\"M 691 4666 \nL 3169 4666 \nL 3169 4134 \nL 1269 4134 \nL 1269 2991 \nQ 1406 3038 1543 3061 \nQ 1681 3084 1819 3084 \nQ 2600 3084 3056 2656 \nQ 3513 2228 3513 1497 \nQ 3513 744 3044 326 \nQ 2575 -91 1722 -91 \nQ 1428 -91 1123 -41 \nQ 819 9 494 109 \nL 494 744 \nQ 775 591 1075 516 \nQ 1375 441 1709 441 \nQ 2250 441 2565 725 \nQ 2881 1009 2881 1497 \nQ 2881 1984 2565 2268 \nQ 2250 2553 1709 2553 \nQ 1456 2553 1204 2497 \nQ 953 2441 691 2322 \nL 691 4666 \nz\n\" id=\"DejaVuSans-35\" transform=\"scale(0.015625)\"/>\n       </defs>\n       <use xlink:href=\"#DejaVuSans-35\"/>\n       <use x=\"63.623047\" xlink:href=\"#DejaVuSans-30\"/>\n       <use x=\"127.246094\" xlink:href=\"#DejaVuSans-30\"/>\n       <use x=\"190.869141\" xlink:href=\"#DejaVuSans-30\"/>\n       <use x=\"254.492188\" xlink:href=\"#DejaVuSans-30\"/>\n       <use x=\"318.115234\" xlink:href=\"#DejaVuSans-30\"/>\n       <use x=\"381.738281\" xlink:href=\"#DejaVuSans-30\"/>\n       <use x=\"445.361328\" xlink:href=\"#DejaVuSans-30\"/>\n      </g>\n     </g>\n    </g>\n    <g id=\"ytick_3\">\n     <g id=\"line2d_67\">\n      <path clip-path=\"url(#pf7de01b0ea)\" d=\"M 77.586938 94.520892 \nL 635.586937 94.520892 \n\" style=\"fill:none;stroke:#ffffff;\"/>\n     </g>\n     <g id=\"line2d_68\">\n      <path d=\"M 77.586938 94.520892 \n\" style=\"fill:none;stroke:#333333;stroke-width:1.5;\"/>\n      <g>\n       <use style=\"fill:#333333;stroke:#000000;\" x=\"77.586938\" xlink:href=\"#m922aba9063\" y=\"94.520892\"/>\n      </g>\n     </g>\n     <g id=\"text_35\">\n      <!-- 100000000 -->\n      <g style=\"fill:#4d4d4d;\" transform=\"translate(22.245937 96.949142)scale(0.088 -0.088)\">\n       <defs>\n        <path d=\"M 794 531 \nL 1825 531 \nL 1825 4091 \nL 703 3866 \nL 703 4441 \nL 1819 4666 \nL 2450 4666 \nL 2450 531 \nL 3481 531 \nL 3481 0 \nL 794 0 \nL 794 531 \nz\n\" id=\"DejaVuSans-31\" transform=\"scale(0.015625)\"/>\n       </defs>\n       <use xlink:href=\"#DejaVuSans-31\"/>\n       <use x=\"63.623047\" xlink:href=\"#DejaVuSans-30\"/>\n       <use x=\"127.246094\" xlink:href=\"#DejaVuSans-30\"/>\n       <use x=\"190.869141\" xlink:href=\"#DejaVuSans-30\"/>\n       <use x=\"254.492188\" xlink:href=\"#DejaVuSans-30\"/>\n       <use x=\"318.115234\" xlink:href=\"#DejaVuSans-30\"/>\n       <use x=\"381.738281\" xlink:href=\"#DejaVuSans-30\"/>\n       <use x=\"445.361328\" xlink:href=\"#DejaVuSans-30\"/>\n       <use x=\"508.984375\" xlink:href=\"#DejaVuSans-30\"/>\n      </g>\n     </g>\n    </g>\n    <g id=\"ytick_4\">\n     <g id=\"line2d_69\">\n      <path clip-path=\"url(#pf7de01b0ea)\" d=\"M 77.586938 201.969251 \nL 635.586937 201.969251 \n\" style=\"fill:none;stroke:#ffffff;stroke-width:0.5;\"/>\n     </g>\n    </g>\n    <g id=\"ytick_5\">\n     <g id=\"line2d_70\">\n      <path clip-path=\"url(#pf7de01b0ea)\" d=\"M 77.586938 130.337011 \nL 635.586937 130.337011 \n\" style=\"fill:none;stroke:#ffffff;stroke-width:0.5;\"/>\n     </g>\n    </g>\n    <g id=\"ytick_6\">\n     <g id=\"line2d_71\">\n      <path clip-path=\"url(#pf7de01b0ea)\" d=\"M 77.586938 58.704772 \nL 635.586937 58.704772 \n\" style=\"fill:none;stroke:#ffffff;stroke-width:0.5;\"/>\n     </g>\n    </g>\n    <g id=\"text_36\">\n     <!-- Tag Count -->\n     <g transform=\"translate(15.558281 162.940527)rotate(-90)scale(0.11 -0.11)\">\n      <defs>\n       <path d=\"M 4122 4306 \nL 4122 3641 \nQ 3803 3938 3442 4084 \nQ 3081 4231 2675 4231 \nQ 1875 4231 1450 3742 \nQ 1025 3253 1025 2328 \nQ 1025 1406 1450 917 \nQ 1875 428 2675 428 \nQ 3081 428 3442 575 \nQ 3803 722 4122 1019 \nL 4122 359 \nQ 3791 134 3420 21 \nQ 3050 -91 2638 -91 \nQ 1578 -91 968 557 \nQ 359 1206 359 2328 \nQ 359 3453 968 4101 \nQ 1578 4750 2638 4750 \nQ 3056 4750 3426 4639 \nQ 3797 4528 4122 4306 \nz\n\" id=\"DejaVuSans-43\" transform=\"scale(0.015625)\"/>\n      </defs>\n      <use xlink:href=\"#DejaVuSans-54\"/>\n      <use x=\"44.583984\" xlink:href=\"#DejaVuSans-61\"/>\n      <use x=\"105.863281\" xlink:href=\"#DejaVuSans-67\"/>\n      <use x=\"169.339844\" xlink:href=\"#DejaVuSans-20\"/>\n      <use x=\"201.126953\" xlink:href=\"#DejaVuSans-43\"/>\n      <use x=\"270.951172\" xlink:href=\"#DejaVuSans-6f\"/>\n      <use x=\"332.132812\" xlink:href=\"#DejaVuSans-75\"/>\n      <use x=\"395.511719\" xlink:href=\"#DejaVuSans-6e\"/>\n      <use x=\"458.890625\" xlink:href=\"#DejaVuSans-74\"/>\n     </g>\n    </g>\n   </g>\n   <g id=\"PolyCollection_1\">\n    <path clip-path=\"url(#pf7de01b0ea)\" d=\"M 80.26963 237.785371 \nL 80.26963 237.302251 \nL 96.365784 237.302251 \nL 96.365784 237.785371 \nz\n\" style=\"fill:#595959;\"/>\n    <path clip-path=\"url(#pf7de01b0ea)\" d=\"M 98.154245 237.785371 \nL 98.154245 237.228085 \nL 114.250399 237.228085 \nL 114.250399 237.785371 \nz\n\" style=\"fill:#595959;\"/>\n    <path clip-path=\"url(#pf7de01b0ea)\" d=\"M 116.038861 237.785371 \nL 116.038861 237.14543 \nL 132.135014 237.14543 \nL 132.135014 237.785371 \nz\n\" style=\"fill:#595959;\"/>\n    <path clip-path=\"url(#pf7de01b0ea)\" d=\"M 133.923476 237.785371 \nL 133.923476 235.898241 \nL 150.01963 235.898241 \nL 150.01963 237.785371 \nz\n\" style=\"fill:#595959;\"/>\n    <path clip-path=\"url(#pf7de01b0ea)\" d=\"M 151.808091 237.785371 \nL 151.808091 235.268328 \nL 167.904245 235.268328 \nL 167.904245 237.785371 \nz\n\" style=\"fill:#595959;\"/>\n    <path clip-path=\"url(#pf7de01b0ea)\" d=\"M 169.692707 237.785371 \nL 169.692707 237.089104 \nL 185.788861 237.089104 \nL 185.788861 237.785371 \nz\n\" style=\"fill:#595959;\"/>\n    <path clip-path=\"url(#pf7de01b0ea)\" d=\"M 187.577322 237.785371 \nL 187.577322 227.029134 \nL 203.673476 227.029134 \nL 203.673476 237.785371 \nz\n\" style=\"fill:#595959;\"/>\n    <path clip-path=\"url(#pf7de01b0ea)\" d=\"M 205.461937 237.785371 \nL 205.461937 237.204683 \nL 221.558091 237.204683 \nL 221.558091 237.785371 \nz\n\" style=\"fill:#595959;\"/>\n    <path clip-path=\"url(#pf7de01b0ea)\" d=\"M 223.346553 237.785371 \nL 223.346553 232.702122 \nL 239.442707 232.702122 \nL 239.442707 237.785371 \nz\n\" style=\"fill:#595959;\"/>\n    <path clip-path=\"url(#pf7de01b0ea)\" d=\"M 241.231168 237.785371 \nL 241.231168 231.333923 \nL 257.327322 231.333923 \nL 257.327322 237.785371 \nz\n\" style=\"fill:#595959;\"/>\n    <path clip-path=\"url(#pf7de01b0ea)\" d=\"M 259.115784 237.785371 \nL 259.115784 237.178948 \nL 275.211937 237.178948 \nL 275.211937 237.785371 \nz\n\" style=\"fill:#595959;\"/>\n    <path clip-path=\"url(#pf7de01b0ea)\" d=\"M 277.000399 237.785371 \nL 277.000399 232.500603 \nL 293.096553 232.500603 \nL 293.096553 237.785371 \nz\n\" style=\"fill:#595959;\"/>\n    <path clip-path=\"url(#pf7de01b0ea)\" d=\"M 294.885014 237.785371 \nL 294.885014 236.617162 \nL 310.981168 236.617162 \nL 310.981168 237.785371 \nz\n\" style=\"fill:#595959;\"/>\n    <path clip-path=\"url(#pf7de01b0ea)\" d=\"M 312.76963 237.785371 \nL 312.76963 237.190154 \nL 328.865784 237.190154 \nL 328.865784 237.785371 \nz\n\" style=\"fill:#595959;\"/>\n    <path clip-path=\"url(#pf7de01b0ea)\" d=\"M 330.654245 237.785371 \nL 330.654245 237.059189 \nL 346.750399 237.059189 \nL 346.750399 237.785371 \nz\n\" style=\"fill:#595959;\"/>\n    <path clip-path=\"url(#pf7de01b0ea)\" d=\"M 348.538861 237.785371 \nL 348.538861 237.170521 \nL 364.635014 237.170521 \nL 364.635014 237.785371 \nz\n\" style=\"fill:#595959;\"/>\n    <path clip-path=\"url(#pf7de01b0ea)\" d=\"M 366.423476 237.785371 \nL 366.423476 236.5357 \nL 382.51963 236.5357 \nL 382.51963 237.785371 \nz\n\" style=\"fill:#595959;\"/>\n    <path clip-path=\"url(#pf7de01b0ea)\" d=\"M 384.308091 237.785371 \nL 384.308091 236.556303 \nL 400.404245 236.556303 \nL 400.404245 237.785371 \nz\n\" style=\"fill:#595959;\"/>\n    <path clip-path=\"url(#pf7de01b0ea)\" d=\"M 402.192707 237.785371 \nL 402.192707 237.253789 \nL 418.288861 237.253789 \nL 418.288861 237.785371 \nz\n\" style=\"fill:#595959;\"/>\n    <path clip-path=\"url(#pf7de01b0ea)\" d=\"M 420.077322 237.785371 \nL 420.077322 236.031414 \nL 436.173476 236.031414 \nL 436.173476 237.785371 \nz\n\" style=\"fill:#595959;\"/>\n    <path clip-path=\"url(#pf7de01b0ea)\" d=\"M 437.961937 237.785371 \nL 437.961937 237.187408 \nL 454.058091 237.187408 \nL 454.058091 237.785371 \nz\n\" style=\"fill:#595959;\"/>\n    <path clip-path=\"url(#pf7de01b0ea)\" d=\"M 455.846553 237.785371 \nL 455.846553 237.008076 \nL 471.942707 237.008076 \nL 471.942707 237.785371 \nz\n\" style=\"fill:#595959;\"/>\n    <path clip-path=\"url(#pf7de01b0ea)\" d=\"M 473.731168 237.785371 \nL 473.731168 236.020458 \nL 489.827322 236.020458 \nL 489.827322 237.785371 \nz\n\" style=\"fill:#595959;\"/>\n    <path clip-path=\"url(#pf7de01b0ea)\" d=\"M 491.615784 237.785371 \nL 491.615784 236.929616 \nL 507.711937 236.929616 \nL 507.711937 237.785371 \nz\n\" style=\"fill:#595959;\"/>\n    <path clip-path=\"url(#pf7de01b0ea)\" d=\"M 509.500399 237.785371 \nL 509.500399 236.776981 \nL 525.596553 236.776981 \nL 525.596553 237.785371 \nz\n\" style=\"fill:#595959;\"/>\n    <path clip-path=\"url(#pf7de01b0ea)\" d=\"M 527.385014 237.785371 \nL 527.385014 236.66413 \nL 543.481168 236.66413 \nL 543.481168 237.785371 \nz\n\" style=\"fill:#595959;\"/>\n    <path clip-path=\"url(#pf7de01b0ea)\" d=\"M 545.26963 237.785371 \nL 545.26963 237.264925 \nL 561.365784 237.264925 \nL 561.365784 237.785371 \nz\n\" style=\"fill:#595959;\"/>\n    <path clip-path=\"url(#pf7de01b0ea)\" d=\"M 563.154245 237.785371 \nL 563.154245 36.185371 \nL 579.250399 36.185371 \nL 579.250399 237.785371 \nz\n\" style=\"fill:#595959;\"/>\n    <path clip-path=\"url(#pf7de01b0ea)\" d=\"M 581.038861 237.785371 \nL 581.038861 237.248574 \nL 597.135014 237.248574 \nL 597.135014 237.785371 \nz\n\" style=\"fill:#595959;\"/>\n    <path clip-path=\"url(#pf7de01b0ea)\" d=\"M 598.923476 237.785371 \nL 598.923476 236.498377 \nL 615.01963 236.498377 \nL 615.01963 237.785371 \nz\n\" style=\"fill:#595959;\"/>\n    <path clip-path=\"url(#pf7de01b0ea)\" d=\"M 616.808091 237.785371 \nL 616.808091 235.137405 \nL 632.904245 235.137405 \nL 632.904245 237.785371 \nz\n\" style=\"fill:#595959;\"/>\n   </g>\n  </g>\n  <g id=\"text_37\">\n   <!-- Top 30 Tag Count for each Tag Name -->\n   <g transform=\"translate(226.950281 17.229938)scale(0.132 -0.132)\">\n    <defs>\n     <path d=\"M 2597 2516 \nQ 3050 2419 3304 2112 \nQ 3559 1806 3559 1356 \nQ 3559 666 3084 287 \nQ 2609 -91 1734 -91 \nQ 1441 -91 1130 -33 \nQ 819 25 488 141 \nL 488 750 \nQ 750 597 1062 519 \nQ 1375 441 1716 441 \nQ 2309 441 2620 675 \nQ 2931 909 2931 1356 \nQ 2931 1769 2642 2001 \nQ 2353 2234 1838 2234 \nL 1294 2234 \nL 1294 2753 \nL 1863 2753 \nQ 2328 2753 2575 2939 \nQ 2822 3125 2822 3475 \nQ 2822 3834 2567 4026 \nQ 2313 4219 1838 4219 \nQ 1578 4219 1281 4162 \nQ 984 4106 628 3988 \nL 628 4550 \nQ 988 4650 1302 4700 \nQ 1616 4750 1894 4750 \nQ 2613 4750 3031 4423 \nQ 3450 4097 3450 3541 \nQ 3450 3153 3228 2886 \nQ 3006 2619 2597 2516 \nz\n\" id=\"DejaVuSans-33\" transform=\"scale(0.015625)\"/>\n    </defs>\n    <use xlink:href=\"#DejaVuSans-54\"/>\n    <use x=\"44.083984\" xlink:href=\"#DejaVuSans-6f\"/>\n    <use x=\"105.265625\" xlink:href=\"#DejaVuSans-70\"/>\n    <use x=\"168.742188\" xlink:href=\"#DejaVuSans-20\"/>\n    <use x=\"200.529297\" xlink:href=\"#DejaVuSans-33\"/>\n    <use x=\"264.152344\" xlink:href=\"#DejaVuSans-30\"/>\n    <use x=\"327.775391\" xlink:href=\"#DejaVuSans-20\"/>\n    <use x=\"359.5625\" xlink:href=\"#DejaVuSans-54\"/>\n    <use x=\"404.146484\" xlink:href=\"#DejaVuSans-61\"/>\n    <use x=\"465.425781\" xlink:href=\"#DejaVuSans-67\"/>\n    <use x=\"528.902344\" xlink:href=\"#DejaVuSans-20\"/>\n    <use x=\"560.689453\" xlink:href=\"#DejaVuSans-43\"/>\n    <use x=\"630.513672\" xlink:href=\"#DejaVuSans-6f\"/>\n    <use x=\"691.695312\" xlink:href=\"#DejaVuSans-75\"/>\n    <use x=\"755.074219\" xlink:href=\"#DejaVuSans-6e\"/>\n    <use x=\"818.453125\" xlink:href=\"#DejaVuSans-74\"/>\n    <use x=\"857.662109\" xlink:href=\"#DejaVuSans-20\"/>\n    <use x=\"889.449219\" xlink:href=\"#DejaVuSans-66\"/>\n    <use x=\"924.654297\" xlink:href=\"#DejaVuSans-6f\"/>\n    <use x=\"985.835938\" xlink:href=\"#DejaVuSans-72\"/>\n    <use x=\"1026.949219\" xlink:href=\"#DejaVuSans-20\"/>\n    <use x=\"1058.736328\" xlink:href=\"#DejaVuSans-65\"/>\n    <use x=\"1120.259766\" xlink:href=\"#DejaVuSans-61\"/>\n    <use x=\"1181.539062\" xlink:href=\"#DejaVuSans-63\"/>\n    <use x=\"1236.519531\" xlink:href=\"#DejaVuSans-68\"/>\n    <use x=\"1299.898438\" xlink:href=\"#DejaVuSans-20\"/>\n    <use x=\"1331.685547\" xlink:href=\"#DejaVuSans-54\"/>\n    <use x=\"1376.269531\" xlink:href=\"#DejaVuSans-61\"/>\n    <use x=\"1437.548828\" xlink:href=\"#DejaVuSans-67\"/>\n    <use x=\"1501.025391\" xlink:href=\"#DejaVuSans-20\"/>\n    <use x=\"1532.8125\" xlink:href=\"#DejaVuSans-4e\"/>\n    <use x=\"1607.617188\" xlink:href=\"#DejaVuSans-61\"/>\n    <use x=\"1668.896484\" xlink:href=\"#DejaVuSans-6d\"/>\n    <use x=\"1766.308594\" xlink:href=\"#DejaVuSans-65\"/>\n   </g>\n  </g>\n </g>\n <defs>\n  <clipPath id=\"pf7de01b0ea\">\n   <rect height=\"221.76\" width=\"558\" x=\"77.586938\" y=\"26.105371\"/>\n  </clipPath>\n </defs>\n</svg>\n",
            "image/png": "[encoded data removed]"
          },
          "metadata": {}
        },
        {
          "output_type": "execute_result",
          "data": {
            "text/plain": [
              "<ggplot: (8792954379460)>"
            ]
          },
          "metadata": {},
          "execution_count": 11
        }
      ],
      "metadata": {
        "colab": {
          "base_uri": "https://localhost:8080/",
          "height": 585
        },
        "id": "Tis_EwAYofT9",
        "outputId": "23f1eb0d-7ed1-49db-a3b5-b0b45ba55a45"
      }
    },
    {
      "cell_type": "markdown",
      "source": [
        "<h2>Average Number of Seen Books</h2>\n",
        "\n",
        "From the table below, we can learn that:\n",
        "- On average, each user has read around 110 books."
      ],
      "metadata": {
        "id": "geVjliwGofT9"
      }
    },
    {
      "cell_type": "code",
      "execution_count": null,
      "source": [
        "grouped = ratings.groupby(['user_id'])['book_id'].agg({'count'})\n",
        "pd.DataFrame(grouped['count'].describe()).T"
      ],
      "outputs": [
        {
          "output_type": "execute_result",
          "data": {
            "text/plain": [
              "         count        mean        std   min   25%    50%    75%    max\n",
              "count  53424.0  111.868804  26.071224  19.0  96.0  111.0  128.0  200.0"
            ],
            "text/html": [
              "<div>\n",
              "<style scoped>\n",
              "    .dataframe tbody tr th:only-of-type {\n",
              "        vertical-align: middle;\n",
              "    }\n",
              "\n",
              "    .dataframe tbody tr th {\n",
              "        vertical-align: top;\n",
              "    }\n",
              "\n",
              "    .dataframe thead th {\n",
              "        text-align: right;\n",
              "    }\n",
              "</style>\n",
              "<table border=\"1\" class=\"dataframe\">\n",
              "  <thead>\n",
              "    <tr style=\"text-align: right;\">\n",
              "      <th></th>\n",
              "      <th>count</th>\n",
              "      <th>mean</th>\n",
              "      <th>std</th>\n",
              "      <th>min</th>\n",
              "      <th>25%</th>\n",
              "      <th>50%</th>\n",
              "      <th>75%</th>\n",
              "      <th>max</th>\n",
              "    </tr>\n",
              "  </thead>\n",
              "  <tbody>\n",
              "    <tr>\n",
              "      <th>count</th>\n",
              "      <td>53424.0</td>\n",
              "      <td>111.868804</td>\n",
              "      <td>26.071224</td>\n",
              "      <td>19.0</td>\n",
              "      <td>96.0</td>\n",
              "      <td>111.0</td>\n",
              "      <td>128.0</td>\n",
              "      <td>200.0</td>\n",
              "    </tr>\n",
              "  </tbody>\n",
              "</table>\n",
              "</div>"
            ]
          },
          "metadata": {},
          "execution_count": 12
        }
      ],
      "metadata": {
        "colab": {
          "base_uri": "https://localhost:8080/",
          "height": 80
        },
        "id": "5xdFloLpofT9",
        "outputId": "f4295aa5-7a45-41d2-8621-8e4ff76285fb"
      }
    },
    {
      "cell_type": "markdown",
      "source": [
        "---\n",
        "<h1>Exploratory Data Analysis Summary</h1>"
      ],
      "metadata": {
        "id": "79nRTPV0ofT9"
      }
    },
    {
      "cell_type": "markdown",
      "source": [
        "- Keep English books only.\n",
        "- Recommend books only if their \"IMDB\" weighted rating is greater than 3.2.\n",
        "- Remove weird tags like non-ascii & non-readable & digits-only tags."
      ],
      "metadata": {
        "id": "NNJktUskofT-"
      }
    },
    {
      "cell_type": "markdown",
      "source": [
        "---\n",
        "<h1>Data Processing</h1> "
      ],
      "metadata": {
        "id": "kLB6qWUhofT-"
      }
    },
    {
      "cell_type": "code",
      "execution_count": null,
      "source": [
        "books.head()"
      ],
      "outputs": [
        {
          "output_type": "execute_result",
          "data": {
            "text/plain": [
              "   book_id  goodreads_book_id  best_book_id  work_id  books_count       isbn  \\\n",
              "0        1            2767052       2767052  2792775          272  439023483   \n",
              "1        2                  3             3  4640799          491  439554934   \n",
              "2        3              41865         41865  3212258          226  316015849   \n",
              "3        4               2657          2657  3275794          487   61120081   \n",
              "4        5               4671          4671   245494         1356  743273567   \n",
              "\n",
              "         isbn13                      authors  original_publication_year  \\\n",
              "0  9.780439e+12              Suzanne Collins                     2008.0   \n",
              "1  9.780440e+12  J.K. Rowling, Mary GrandPré                     1997.0   \n",
              "2  9.780316e+12              Stephenie Meyer                     2005.0   \n",
              "3  9.780061e+12                   Harper Lee                     1960.0   \n",
              "4  9.780743e+12          F. Scott Fitzgerald                     1925.0   \n",
              "\n",
              "                             original_title  ... ratings_count  \\\n",
              "0                          The Hunger Games  ...       4780653   \n",
              "1  Harry Potter and the Philosopher's Stone  ...       4602479   \n",
              "2                                  Twilight  ...       3866839   \n",
              "3                     To Kill a Mockingbird  ...       3198671   \n",
              "4                          The Great Gatsby  ...       2683664   \n",
              "\n",
              "  work_ratings_count  work_text_reviews_count  ratings_1  ratings_2  \\\n",
              "0            4942365                   155254      66715     127936   \n",
              "1            4800065                    75867      75504     101676   \n",
              "2            3916824                    95009     456191     436802   \n",
              "3            3340896                    72586      60427     117415   \n",
              "4            2773745                    51992      86236     197621   \n",
              "\n",
              "   ratings_3  ratings_4  ratings_5  \\\n",
              "0     560092    1481305    2706317   \n",
              "1     455024    1156318    3011543   \n",
              "2     793319     875073    1355439   \n",
              "3     446835    1001952    1714267   \n",
              "4     606158     936012     947718   \n",
              "\n",
              "                                           image_url  \\\n",
              "0  https://images.gr-assets.com/books/1447303603m...   \n",
              "1  https://images.gr-assets.com/books/1474154022m...   \n",
              "2  https://images.gr-assets.com/books/1361039443m...   \n",
              "3  https://images.gr-assets.com/books/1361975680m...   \n",
              "4  https://images.gr-assets.com/books/1490528560m...   \n",
              "\n",
              "                                     small_image_url  \n",
              "0  https://images.gr-assets.com/books/1447303603s...  \n",
              "1  https://images.gr-assets.com/books/1474154022s...  \n",
              "2  https://images.gr-assets.com/books/1361039443s...  \n",
              "3  https://images.gr-assets.com/books/1361975680s...  \n",
              "4  https://images.gr-assets.com/books/1490528560s...  \n",
              "\n",
              "[5 rows x 23 columns]"
            ],
            "text/html": [
              "<div>\n",
              "<style scoped>\n",
              "    .dataframe tbody tr th:only-of-type {\n",
              "        vertical-align: middle;\n",
              "    }\n",
              "\n",
              "    .dataframe tbody tr th {\n",
              "        vertical-align: top;\n",
              "    }\n",
              "\n",
              "    .dataframe thead th {\n",
              "        text-align: right;\n",
              "    }\n",
              "</style>\n",
              "<table border=\"1\" class=\"dataframe\">\n",
              "  <thead>\n",
              "    <tr style=\"text-align: right;\">\n",
              "      <th></th>\n",
              "      <th>book_id</th>\n",
              "      <th>goodreads_book_id</th>\n",
              "      <th>best_book_id</th>\n",
              "      <th>work_id</th>\n",
              "      <th>books_count</th>\n",
              "      <th>isbn</th>\n",
              "      <th>isbn13</th>\n",
              "      <th>authors</th>\n",
              "      <th>original_publication_year</th>\n",
              "      <th>original_title</th>\n",
              "      <th>...</th>\n",
              "      <th>ratings_count</th>\n",
              "      <th>work_ratings_count</th>\n",
              "      <th>work_text_reviews_count</th>\n",
              "      <th>ratings_1</th>\n",
              "      <th>ratings_2</th>\n",
              "      <th>ratings_3</th>\n",
              "      <th>ratings_4</th>\n",
              "      <th>ratings_5</th>\n",
              "      <th>image_url</th>\n",
              "      <th>small_image_url</th>\n",
              "    </tr>\n",
              "  </thead>\n",
              "  <tbody>\n",
              "    <tr>\n",
              "      <th>0</th>\n",
              "      <td>1</td>\n",
              "      <td>2767052</td>\n",
              "      <td>2767052</td>\n",
              "      <td>2792775</td>\n",
              "      <td>272</td>\n",
              "      <td>439023483</td>\n",
              "      <td>9.780439e+12</td>\n",
              "      <td>Suzanne Collins</td>\n",
              "      <td>2008.0</td>\n",
              "      <td>The Hunger Games</td>\n",
              "      <td>...</td>\n",
              "      <td>4780653</td>\n",
              "      <td>4942365</td>\n",
              "      <td>155254</td>\n",
              "      <td>66715</td>\n",
              "      <td>127936</td>\n",
              "      <td>560092</td>\n",
              "      <td>1481305</td>\n",
              "      <td>2706317</td>\n",
              "      <td>https://images.gr-assets.com/books/1447303603m...</td>\n",
              "      <td>https://images.gr-assets.com/books/1447303603s...</td>\n",
              "    </tr>\n",
              "    <tr>\n",
              "      <th>1</th>\n",
              "      <td>2</td>\n",
              "      <td>3</td>\n",
              "      <td>3</td>\n",
              "      <td>4640799</td>\n",
              "      <td>491</td>\n",
              "      <td>439554934</td>\n",
              "      <td>9.780440e+12</td>\n",
              "      <td>J.K. Rowling, Mary GrandPré</td>\n",
              "      <td>1997.0</td>\n",
              "      <td>Harry Potter and the Philosopher's Stone</td>\n",
              "      <td>...</td>\n",
              "      <td>4602479</td>\n",
              "      <td>4800065</td>\n",
              "      <td>75867</td>\n",
              "      <td>75504</td>\n",
              "      <td>101676</td>\n",
              "      <td>455024</td>\n",
              "      <td>1156318</td>\n",
              "      <td>3011543</td>\n",
              "      <td>https://images.gr-assets.com/books/1474154022m...</td>\n",
              "      <td>https://images.gr-assets.com/books/1474154022s...</td>\n",
              "    </tr>\n",
              "    <tr>\n",
              "      <th>2</th>\n",
              "      <td>3</td>\n",
              "      <td>41865</td>\n",
              "      <td>41865</td>\n",
              "      <td>3212258</td>\n",
              "      <td>226</td>\n",
              "      <td>316015849</td>\n",
              "      <td>9.780316e+12</td>\n",
              "      <td>Stephenie Meyer</td>\n",
              "      <td>2005.0</td>\n",
              "      <td>Twilight</td>\n",
              "      <td>...</td>\n",
              "      <td>3866839</td>\n",
              "      <td>3916824</td>\n",
              "      <td>95009</td>\n",
              "      <td>456191</td>\n",
              "      <td>436802</td>\n",
              "      <td>793319</td>\n",
              "      <td>875073</td>\n",
              "      <td>1355439</td>\n",
              "      <td>https://images.gr-assets.com/books/1361039443m...</td>\n",
              "      <td>https://images.gr-assets.com/books/1361039443s...</td>\n",
              "    </tr>\n",
              "    <tr>\n",
              "      <th>3</th>\n",
              "      <td>4</td>\n",
              "      <td>2657</td>\n",
              "      <td>2657</td>\n",
              "      <td>3275794</td>\n",
              "      <td>487</td>\n",
              "      <td>61120081</td>\n",
              "      <td>9.780061e+12</td>\n",
              "      <td>Harper Lee</td>\n",
              "      <td>1960.0</td>\n",
              "      <td>To Kill a Mockingbird</td>\n",
              "      <td>...</td>\n",
              "      <td>3198671</td>\n",
              "      <td>3340896</td>\n",
              "      <td>72586</td>\n",
              "      <td>60427</td>\n",
              "      <td>117415</td>\n",
              "      <td>446835</td>\n",
              "      <td>1001952</td>\n",
              "      <td>1714267</td>\n",
              "      <td>https://images.gr-assets.com/books/1361975680m...</td>\n",
              "      <td>https://images.gr-assets.com/books/1361975680s...</td>\n",
              "    </tr>\n",
              "    <tr>\n",
              "      <th>4</th>\n",
              "      <td>5</td>\n",
              "      <td>4671</td>\n",
              "      <td>4671</td>\n",
              "      <td>245494</td>\n",
              "      <td>1356</td>\n",
              "      <td>743273567</td>\n",
              "      <td>9.780743e+12</td>\n",
              "      <td>F. Scott Fitzgerald</td>\n",
              "      <td>1925.0</td>\n",
              "      <td>The Great Gatsby</td>\n",
              "      <td>...</td>\n",
              "      <td>2683664</td>\n",
              "      <td>2773745</td>\n",
              "      <td>51992</td>\n",
              "      <td>86236</td>\n",
              "      <td>197621</td>\n",
              "      <td>606158</td>\n",
              "      <td>936012</td>\n",
              "      <td>947718</td>\n",
              "      <td>https://images.gr-assets.com/books/1490528560m...</td>\n",
              "      <td>https://images.gr-assets.com/books/1490528560s...</td>\n",
              "    </tr>\n",
              "  </tbody>\n",
              "</table>\n",
              "<p>5 rows × 23 columns</p>\n",
              "</div>"
            ]
          },
          "metadata": {},
          "execution_count": 13
        }
      ],
      "metadata": {
        "colab": {
          "base_uri": "https://localhost:8080/",
          "height": 428
        },
        "id": "4T40slTmMkTJ",
        "outputId": "d2a5efc3-10c4-4ca0-8575-2e675a9e3a66"
      }
    },
    {
      "cell_type": "code",
      "execution_count": null,
      "source": [
        "books.columns"
      ],
      "outputs": [
        {
          "output_type": "execute_result",
          "data": {
            "text/plain": [
              "Index(['book_id', 'goodreads_book_id', 'best_book_id', 'work_id',\n",
              "       'books_count', 'isbn', 'isbn13', 'authors', 'original_publication_year',\n",
              "       'original_title', 'title', 'language_code', 'average_rating',\n",
              "       'ratings_count', 'work_ratings_count', 'work_text_reviews_count',\n",
              "       'ratings_1', 'ratings_2', 'ratings_3', 'ratings_4', 'ratings_5',\n",
              "       'image_url', 'small_image_url'],\n",
              "      dtype='object')"
            ]
          },
          "metadata": {},
          "execution_count": 14
        }
      ],
      "metadata": {
        "colab": {
          "base_uri": "https://localhost:8080/"
        },
        "id": "7--YefHYUTdk",
        "outputId": "2e47c46f-5471-4bd5-c65b-3686f0d539fa"
      }
    },
    {
      "cell_type": "code",
      "execution_count": null,
      "source": [
        "# checking any inappropirate data\n",
        "print(books['book_id'].isna().sum())\n",
        "print(books['title'].isna().sum())\n",
        "print(books['authors'].isna().sum())\n",
        "print(tags.isna().sum())"
      ],
      "outputs": [
        {
          "output_type": "stream",
          "name": "stdout",
          "text": [
            "0\n",
            "0\n",
            "0\n",
            "tag_id      0\n",
            "tag_name    0\n",
            "dtype: int64\n"
          ]
        }
      ],
      "metadata": {
        "colab": {
          "base_uri": "https://localhost:8080/"
        },
        "id": "1UWUbaWTURrf",
        "outputId": "e46032ce-02c7-4aec-c3b6-a456366db5cf"
      }
    },
    {
      "cell_type": "markdown",
      "source": [
        "<h2>Removing weird tags like non-ascii & non-readable & digits-only tags</h2>\n",
        "\n",
        "- We serach if the tag is an English word of not using nltk.words.words()"
      ],
      "metadata": {
        "id": "uDr5_8VeofT_"
      }
    },
    {
      "cell_type": "code",
      "execution_count": null,
      "source": [
        "indices = []\n",
        "_tags = tags[tags['tag_name'].str.contains('[A-Za-z]')].reset_index(drop=True)\n",
        "\n",
        "set_of_words = set(words.words())\n",
        "# special_characters = ['~', ':', \"'\", '+', '[', '\\\\', '@', '^', '{', '%', '(', '\"', '*', '|', ',', '&', '<', '`', '}', '.', '=', ']', '!', '>', ';', '?', '#', '$', ')', '/']\n",
        "\n",
        "for i, row in _tags.iterrows():\n",
        "    tag_name = row['tag_name']\n",
        "    if tag_name.isascii():\n",
        "        tag_name_list = tag_name.split('-')\n",
        "        is_word = True\n",
        "        for _tag in tag_name_list:\n",
        "            if _tag.isdigit() or _tag not in set_of_words: # or _tag in special_characters:\n",
        "                is_word = False\n",
        "        if is_word:\n",
        "            indices.append(i)\n",
        "\n",
        "_tags = _tags.drop_duplicates(ignore_index=True)\n",
        "_tags = _tags.iloc[indices, :].reset_index(drop=True)\n",
        "\n",
        "print(_tags.shape)\n",
        "_tags.head()"
      ],
      "outputs": [
        {
          "output_type": "stream",
          "name": "stdout",
          "text": [
            "(11357, 2)\n"
          ]
        },
        {
          "output_type": "execute_result",
          "data": {
            "text/plain": [
              "   tag_id                  tag_name\n",
              "0    1291                         a\n",
              "1    1293               a-a-fiction\n",
              "2    1297       a-baker-s-education\n",
              "3    1298          a-beautiful-dark\n",
              "4    1305  a-corner-of-the-universe"
            ],
            "text/html": [
              "<div>\n",
              "<style scoped>\n",
              "    .dataframe tbody tr th:only-of-type {\n",
              "        vertical-align: middle;\n",
              "    }\n",
              "\n",
              "    .dataframe tbody tr th {\n",
              "        vertical-align: top;\n",
              "    }\n",
              "\n",
              "    .dataframe thead th {\n",
              "        text-align: right;\n",
              "    }\n",
              "</style>\n",
              "<table border=\"1\" class=\"dataframe\">\n",
              "  <thead>\n",
              "    <tr style=\"text-align: right;\">\n",
              "      <th></th>\n",
              "      <th>tag_id</th>\n",
              "      <th>tag_name</th>\n",
              "    </tr>\n",
              "  </thead>\n",
              "  <tbody>\n",
              "    <tr>\n",
              "      <th>0</th>\n",
              "      <td>1291</td>\n",
              "      <td>a</td>\n",
              "    </tr>\n",
              "    <tr>\n",
              "      <th>1</th>\n",
              "      <td>1293</td>\n",
              "      <td>a-a-fiction</td>\n",
              "    </tr>\n",
              "    <tr>\n",
              "      <th>2</th>\n",
              "      <td>1297</td>\n",
              "      <td>a-baker-s-education</td>\n",
              "    </tr>\n",
              "    <tr>\n",
              "      <th>3</th>\n",
              "      <td>1298</td>\n",
              "      <td>a-beautiful-dark</td>\n",
              "    </tr>\n",
              "    <tr>\n",
              "      <th>4</th>\n",
              "      <td>1305</td>\n",
              "      <td>a-corner-of-the-universe</td>\n",
              "    </tr>\n",
              "  </tbody>\n",
              "</table>\n",
              "</div>"
            ]
          },
          "metadata": {},
          "execution_count": 16
        }
      ],
      "metadata": {
        "colab": {
          "base_uri": "https://localhost:8080/",
          "height": 221
        },
        "id": "R5j2VPRmofT_",
        "outputId": "1cdadd49-98a1-436f-b7f4-de5e9430ff38"
      }
    },
    {
      "cell_type": "code",
      "execution_count": null,
      "source": [
        "_book_tags = pd.merge(_tags, book_tags, on='tag_id')\n",
        "\n",
        "_book_tags = _book_tags.sort_values(by='count', ascending=False)\n",
        "_book_tags = _book_tags.groupby('goodreads_book_id')['tag_name'].agg({'unique'}).reset_index()\n",
        "_book_tags.columns = ['goodreads_book_id', 'tag_name']\n",
        "\n",
        "_book_tags.head()"
      ],
      "outputs": [
        {
          "output_type": "execute_result",
          "data": {
            "text/plain": [
              "   goodreads_book_id                                           tag_name\n",
              "0                  1  [to-read, fantasy, currently-reading, young-ad...\n",
              "1                  2  [to-read, currently-reading, fantasy, default,...\n",
              "2                  3  [to-read, fantasy, currently-reading, young-ad...\n",
              "3                  5  [fantasy, currently-reading, young-adult, to-r...\n",
              "4                  6  [fantasy, young-adult, fiction, harry-potter, ..."
            ],
            "text/html": [
              "<div>\n",
              "<style scoped>\n",
              "    .dataframe tbody tr th:only-of-type {\n",
              "        vertical-align: middle;\n",
              "    }\n",
              "\n",
              "    .dataframe tbody tr th {\n",
              "        vertical-align: top;\n",
              "    }\n",
              "\n",
              "    .dataframe thead th {\n",
              "        text-align: right;\n",
              "    }\n",
              "</style>\n",
              "<table border=\"1\" class=\"dataframe\">\n",
              "  <thead>\n",
              "    <tr style=\"text-align: right;\">\n",
              "      <th></th>\n",
              "      <th>goodreads_book_id</th>\n",
              "      <th>tag_name</th>\n",
              "    </tr>\n",
              "  </thead>\n",
              "  <tbody>\n",
              "    <tr>\n",
              "      <th>0</th>\n",
              "      <td>1</td>\n",
              "      <td>[to-read, fantasy, currently-reading, young-ad...</td>\n",
              "    </tr>\n",
              "    <tr>\n",
              "      <th>1</th>\n",
              "      <td>2</td>\n",
              "      <td>[to-read, currently-reading, fantasy, default,...</td>\n",
              "    </tr>\n",
              "    <tr>\n",
              "      <th>2</th>\n",
              "      <td>3</td>\n",
              "      <td>[to-read, fantasy, currently-reading, young-ad...</td>\n",
              "    </tr>\n",
              "    <tr>\n",
              "      <th>3</th>\n",
              "      <td>5</td>\n",
              "      <td>[fantasy, currently-reading, young-adult, to-r...</td>\n",
              "    </tr>\n",
              "    <tr>\n",
              "      <th>4</th>\n",
              "      <td>6</td>\n",
              "      <td>[fantasy, young-adult, fiction, harry-potter, ...</td>\n",
              "    </tr>\n",
              "  </tbody>\n",
              "</table>\n",
              "</div>"
            ]
          },
          "metadata": {},
          "execution_count": 17
        }
      ],
      "metadata": {
        "colab": {
          "base_uri": "https://localhost:8080/",
          "height": 204
        },
        "id": "YraHXo1RcJpa",
        "outputId": "872c512f-4abf-4e5a-e59b-183e7f2c9249"
      }
    },
    {
      "cell_type": "markdown",
      "source": [
        "<h2>Keeping English books only and Generating a new string column to use for TF-IDF</h2>\n",
        "\n",
        "- Since we are going to take any type of a string query to search recommendable books, we are going to concatenate the book's authors & title & tag names into one string.\n",
        "    - This string will be used for generating a TF-IDF matrix.\n",
        "    - TF-IDF computes a weight to each word which reflects the importance of the word in the corpus.\n",
        "    - TF-IDF will work better than count vectorization because there is a huge imbalance in the tag name distribution.\n",
        "\n",
        "<h2>Sorting the books table by ratings count and average rating</h2>"
      ],
      "metadata": {
        "id": "S3-vbNPvofUA"
      }
    },
    {
      "cell_type": "code",
      "execution_count": null,
      "source": [
        "_books = books[['book_id', 'goodreads_book_id', 'authors', 'title', 'ratings_count', 'average_rating', 'language_code']]\n",
        "_books = pd.merge(_books, _book_tags, on='goodreads_book_id')\n",
        "_books['tag_name'] = _books['tag_name'].apply(lambda x: ' '.join(map(str, x)))\n",
        "\n",
        "_books = _books.assign(authors=_books['authors'].str.replace(',', ' '))\n",
        "_books['name'] = _books['authors'] + ' ' + _books['title'] + ' ' + _books['tag_name']\n",
        "\n",
        "language_codes = ['en-CA', 'en-GB', 'en-US', 'eng', 'en']\n",
        "_books = _books[_books['language_code'].isin(language_codes)]\n",
        "\n",
        "_books = _books.sort_values(by=['ratings_count', 'average_rating'], ascending=False)\n",
        "_books = _books.reset_index(drop=True)\n",
        "\n",
        "print('Books shape', books.shape)\n",
        "_books.head()"
      ],
      "outputs": [
        {
          "output_type": "stream",
          "name": "stdout",
          "text": [
            "Books shape (10000, 23)\n"
          ]
        },
        {
          "output_type": "execute_result",
          "data": {
            "text/plain": [
              "   book_id  goodreads_book_id                      authors  \\\n",
              "0        1            2767052              Suzanne Collins   \n",
              "1        2                  3  J.K. Rowling  Mary GrandPré   \n",
              "2        3              41865              Stephenie Meyer   \n",
              "3        4               2657                   Harper Lee   \n",
              "4        5               4671          F. Scott Fitzgerald   \n",
              "\n",
              "                                               title  ratings_count  \\\n",
              "0            The Hunger Games (The Hunger Games, #1)        4780653   \n",
              "1  Harry Potter and the Sorcerer's Stone (Harry P...        4602479   \n",
              "2                            Twilight (Twilight, #1)        3866839   \n",
              "3                              To Kill a Mockingbird        3198671   \n",
              "4                                   The Great Gatsby        2683664   \n",
              "\n",
              "   average_rating language_code  \\\n",
              "0            4.34           eng   \n",
              "1            4.44           eng   \n",
              "2            3.57         en-US   \n",
              "3            4.25           eng   \n",
              "4            3.89           eng   \n",
              "\n",
              "                                            tag_name  \\\n",
              "0  currently-reading young-adult fiction to-read ...   \n",
              "1  to-read fantasy currently-reading young-adult ...   \n",
              "2  young-adult fantasy ya fiction to-read paranor...   \n",
              "3  to-read classic historical-fiction school lite...   \n",
              "4  fiction classic literature school historical-f...   \n",
              "\n",
              "                                                name  \n",
              "0  Suzanne Collins The Hunger Games (The Hunger G...  \n",
              "1  J.K. Rowling  Mary GrandPré Harry Potter and t...  \n",
              "2  Stephenie Meyer Twilight (Twilight, #1) young-...  \n",
              "3  Harper Lee To Kill a Mockingbird to-read class...  \n",
              "4  F. Scott Fitzgerald The Great Gatsby fiction c...  "
            ],
            "text/html": [
              "<div>\n",
              "<style scoped>\n",
              "    .dataframe tbody tr th:only-of-type {\n",
              "        vertical-align: middle;\n",
              "    }\n",
              "\n",
              "    .dataframe tbody tr th {\n",
              "        vertical-align: top;\n",
              "    }\n",
              "\n",
              "    .dataframe thead th {\n",
              "        text-align: right;\n",
              "    }\n",
              "</style>\n",
              "<table border=\"1\" class=\"dataframe\">\n",
              "  <thead>\n",
              "    <tr style=\"text-align: right;\">\n",
              "      <th></th>\n",
              "      <th>book_id</th>\n",
              "      <th>goodreads_book_id</th>\n",
              "      <th>authors</th>\n",
              "      <th>title</th>\n",
              "      <th>ratings_count</th>\n",
              "      <th>average_rating</th>\n",
              "      <th>language_code</th>\n",
              "      <th>tag_name</th>\n",
              "      <th>name</th>\n",
              "    </tr>\n",
              "  </thead>\n",
              "  <tbody>\n",
              "    <tr>\n",
              "      <th>0</th>\n",
              "      <td>1</td>\n",
              "      <td>2767052</td>\n",
              "      <td>Suzanne Collins</td>\n",
              "      <td>The Hunger Games (The Hunger Games, #1)</td>\n",
              "      <td>4780653</td>\n",
              "      <td>4.34</td>\n",
              "      <td>eng</td>\n",
              "      <td>currently-reading young-adult fiction to-read ...</td>\n",
              "      <td>Suzanne Collins The Hunger Games (The Hunger G...</td>\n",
              "    </tr>\n",
              "    <tr>\n",
              "      <th>1</th>\n",
              "      <td>2</td>\n",
              "      <td>3</td>\n",
              "      <td>J.K. Rowling  Mary GrandPré</td>\n",
              "      <td>Harry Potter and the Sorcerer's Stone (Harry P...</td>\n",
              "      <td>4602479</td>\n",
              "      <td>4.44</td>\n",
              "      <td>eng</td>\n",
              "      <td>to-read fantasy currently-reading young-adult ...</td>\n",
              "      <td>J.K. Rowling  Mary GrandPré Harry Potter and t...</td>\n",
              "    </tr>\n",
              "    <tr>\n",
              "      <th>2</th>\n",
              "      <td>3</td>\n",
              "      <td>41865</td>\n",
              "      <td>Stephenie Meyer</td>\n",
              "      <td>Twilight (Twilight, #1)</td>\n",
              "      <td>3866839</td>\n",
              "      <td>3.57</td>\n",
              "      <td>en-US</td>\n",
              "      <td>young-adult fantasy ya fiction to-read paranor...</td>\n",
              "      <td>Stephenie Meyer Twilight (Twilight, #1) young-...</td>\n",
              "    </tr>\n",
              "    <tr>\n",
              "      <th>3</th>\n",
              "      <td>4</td>\n",
              "      <td>2657</td>\n",
              "      <td>Harper Lee</td>\n",
              "      <td>To Kill a Mockingbird</td>\n",
              "      <td>3198671</td>\n",
              "      <td>4.25</td>\n",
              "      <td>eng</td>\n",
              "      <td>to-read classic historical-fiction school lite...</td>\n",
              "      <td>Harper Lee To Kill a Mockingbird to-read class...</td>\n",
              "    </tr>\n",
              "    <tr>\n",
              "      <th>4</th>\n",
              "      <td>5</td>\n",
              "      <td>4671</td>\n",
              "      <td>F. Scott Fitzgerald</td>\n",
              "      <td>The Great Gatsby</td>\n",
              "      <td>2683664</td>\n",
              "      <td>3.89</td>\n",
              "      <td>eng</td>\n",
              "      <td>fiction classic literature school historical-f...</td>\n",
              "      <td>F. Scott Fitzgerald The Great Gatsby fiction c...</td>\n",
              "    </tr>\n",
              "  </tbody>\n",
              "</table>\n",
              "</div>"
            ]
          },
          "metadata": {},
          "execution_count": 18
        }
      ],
      "metadata": {
        "colab": {
          "base_uri": "https://localhost:8080/",
          "height": 306
        },
        "id": "Hty_QDVGUXRO",
        "outputId": "c60d8557-4288-4403-859f-edd402eb2e90"
      }
    },
    {
      "cell_type": "markdown",
      "source": [
        "<h2>New string for TF-IDF concatnating the book's authors & title & tag names</h2>"
      ],
      "metadata": {
        "id": "ciasdUq6ofUA"
      }
    },
    {
      "cell_type": "code",
      "execution_count": null,
      "source": [
        "_books.loc[0, 'name']"
      ],
      "outputs": [
        {
          "output_type": "execute_result",
          "data": {
            "text/plain": [
              "'Suzanne Collins The Hunger Games (The Hunger Games, #1) currently-reading young-adult fiction to-read fantasy ya science-fiction series romance adventure book-club kindle teen post-apocalyptic action re-read ya-fiction survival favorite i-own young-adult-fiction thriller futuristic default library suspense reread my-library audio favorite-series teen-fiction ya-lit own-it finished action-adventure love love-triangle coming-of-age to-buy novel read-more-than-once ya-fantasy future contemporary trilogy e-book speculative-fiction finished-series drama'"
            ]
          },
          "metadata": {},
          "execution_count": 19
        }
      ],
      "metadata": {
        "colab": {
          "base_uri": "https://localhost:8080/",
          "height": 86
        },
        "id": "rIc4lzmPdFzc",
        "outputId": "76bd7b39-9041-4fbb-ae26-5271db615d94"
      }
    },
    {
      "cell_type": "markdown",
      "source": [
        "---\n",
        "<h1>TF-IDF & Cosine Similarity - Item-based Book Recommendation</h1>"
      ],
      "metadata": {
        "id": "Anfwh7e-ofUA"
      }
    },
    {
      "cell_type": "markdown",
      "source": [
        "<h2>Generating TF-IDF matrix & Computing the cosine similarity</h2>"
      ],
      "metadata": {
        "id": "Ox3qglprofUB"
      }
    },
    {
      "cell_type": "code",
      "execution_count": null,
      "source": [
        "tfidf = TfidfVectorizer(stop_words='english', lowercase=True, token_pattern=r'\\S+')\n",
        "tfidf_matrix = tfidf.fit_transform(_books['name'])\n",
        "# print(tfidf.get_feature_names())\n",
        "tfidf_matrix.shape"
      ],
      "outputs": [
        {
          "output_type": "execute_result",
          "data": {
            "text/plain": [
              "(8730, 23969)"
            ]
          },
          "metadata": {},
          "execution_count": 20
        }
      ],
      "metadata": {
        "colab": {
          "base_uri": "https://localhost:8080/"
        },
        "id": "Ymh0uJMpofUB",
        "outputId": "01c45fcf-3326-4269-e1f4-417de7597408"
      }
    },
    {
      "cell_type": "code",
      "execution_count": null,
      "source": [
        "cosine_matrix = cosine_similarity(tfidf_matrix, tfidf_matrix)\n",
        "\n",
        "cosine_matrix.shape"
      ],
      "outputs": [
        {
          "output_type": "execute_result",
          "data": {
            "text/plain": [
              "(8730, 8730)"
            ]
          },
          "metadata": {},
          "execution_count": 21
        }
      ],
      "metadata": {
        "colab": {
          "base_uri": "https://localhost:8080/"
        },
        "id": "zjMA6amyofUB",
        "outputId": "6fecf251-2f1f-4191-9f1b-52293e5f3d77"
      }
    },
    {
      "cell_type": "markdown",
      "source": [
        "---\n",
        "<h1>KNN - Item-based Collaborative Filtering</h1>"
      ],
      "metadata": {
        "id": "BeYBvITSofUB"
      }
    },
    {
      "cell_type": "markdown",
      "source": [
        "- Since we are providing a personalized recommendation system, we should also utilize a collaborative filtering algorithm where the user's ratings are taken into account.\n",
        "    - We want to find neighboring/ similar books to the user's query.\n",
        "        - Therefore, we are going to use item-based collaborative filtering using KNN.\n",
        "- To evaluate the performance of KNN, train and test sets are created.\n",
        "    - Evaluation metric: RMSE.\n",
        "- User-based collaborative filtering methods not chosen.\n",
        "    - Because Neeva prioritizes user privacy, item-based collaborative filtering would be more appropriate.\n",
        "    - Since we are taking a query, an item-based approach is, once again, more appropriate.\n",
        "- The train and test datasets are simply for the evaluation purpose. For the final recommendation system, the entire dataset will be used."
      ],
      "metadata": {
        "id": "ygYZou9HofUB"
      }
    },
    {
      "cell_type": "markdown",
      "source": [
        "<h2>Creating train & test sets for evaluation</h2>"
      ],
      "metadata": {
        "id": "id5rUyTeofUB"
      }
    },
    {
      "cell_type": "code",
      "execution_count": null,
      "source": [
        "_ratings = pd.merge(ratings, _books['book_id'], on='book_id')\n",
        "_ratings = _ratings[['user_id', 'book_id', 'rating']]\n",
        "train, test = sklearn.model_selection.train_test_split(_ratings, test_size=0.1, shuffle=True, random_state=0)\n",
        "train = train.sort_values(by=['rating', 'book_id'], ascending=[False, True])\n",
        "train = train.reset_index(drop=True)\n",
        "test = test.sort_values(by=['rating', 'book_id'], ascending=[False, True])\n",
        "test = test.reset_index(drop=True)"
      ],
      "outputs": [],
      "metadata": {
        "id": "zvnBcszBofUB"
      }
    },
    {
      "cell_type": "code",
      "execution_count": null,
      "source": [
        "train.groupby('user_id')['book_id'].agg({'unique'}).head()"
      ],
      "outputs": [
        {
          "output_type": "execute_result",
          "data": {
            "text/plain": [
              "                                                    unique\n",
              "user_id                                                   \n",
              "1        [4, 11, 35, 70, 81, 102, 128, 136, 143, 258, 4...\n",
              "2        [2, 5, 10, 15, 18, 23, 24, 25, 27, 54, 80, 82,...\n",
              "3        [4090, 7401, 4, 15, 59, 118, 247, 410, 715, 76...\n",
              "4        [2, 10, 21, 23, 24, 25, 27, 35, 36, 42, 81, 85...\n",
              "5        [164, 451, 458, 623, 794, 852, 1182, 1345, 134..."
            ],
            "text/html": [
              "<div>\n",
              "<style scoped>\n",
              "    .dataframe tbody tr th:only-of-type {\n",
              "        vertical-align: middle;\n",
              "    }\n",
              "\n",
              "    .dataframe tbody tr th {\n",
              "        vertical-align: top;\n",
              "    }\n",
              "\n",
              "    .dataframe thead th {\n",
              "        text-align: right;\n",
              "    }\n",
              "</style>\n",
              "<table border=\"1\" class=\"dataframe\">\n",
              "  <thead>\n",
              "    <tr style=\"text-align: right;\">\n",
              "      <th></th>\n",
              "      <th>unique</th>\n",
              "    </tr>\n",
              "    <tr>\n",
              "      <th>user_id</th>\n",
              "      <th></th>\n",
              "    </tr>\n",
              "  </thead>\n",
              "  <tbody>\n",
              "    <tr>\n",
              "      <th>1</th>\n",
              "      <td>[4, 11, 35, 70, 81, 102, 128, 136, 143, 258, 4...</td>\n",
              "    </tr>\n",
              "    <tr>\n",
              "      <th>2</th>\n",
              "      <td>[2, 5, 10, 15, 18, 23, 24, 25, 27, 54, 80, 82,...</td>\n",
              "    </tr>\n",
              "    <tr>\n",
              "      <th>3</th>\n",
              "      <td>[4090, 7401, 4, 15, 59, 118, 247, 410, 715, 76...</td>\n",
              "    </tr>\n",
              "    <tr>\n",
              "      <th>4</th>\n",
              "      <td>[2, 10, 21, 23, 24, 25, 27, 35, 36, 42, 81, 85...</td>\n",
              "    </tr>\n",
              "    <tr>\n",
              "      <th>5</th>\n",
              "      <td>[164, 451, 458, 623, 794, 852, 1182, 1345, 134...</td>\n",
              "    </tr>\n",
              "  </tbody>\n",
              "</table>\n",
              "</div>"
            ]
          },
          "metadata": {},
          "execution_count": 23
        }
      ],
      "metadata": {
        "colab": {
          "base_uri": "https://localhost:8080/",
          "height": 235
        },
        "id": "ovsho6DEofUB",
        "outputId": "4dd1417e-a473-46d0-b680-3a50c615eda7"
      }
    },
    {
      "cell_type": "code",
      "execution_count": null,
      "source": [
        "test.groupby('user_id')['book_id'].agg({'unique'}).head()"
      ],
      "outputs": [
        {
          "output_type": "execute_result",
          "data": {
            "text/plain": [
              "                                                    unique\n",
              "user_id                                                   \n",
              "1        [177, 2133, 36, 100, 54, 111, 115, 119, 268, 3...\n",
              "2                             [21, 160, 630, 8, 125, 7341]\n",
              "3        [659, 1929, 427, 55, 660, 2235, 2615, 4057, 9966]\n",
              "4        [18, 8, 11, 58, 62, 70, 101, 129, 221, 297, 33...\n",
              "5        [1195, 5117, 1742, 3378, 4380, 4942, 1744, 281..."
            ],
            "text/html": [
              "<div>\n",
              "<style scoped>\n",
              "    .dataframe tbody tr th:only-of-type {\n",
              "        vertical-align: middle;\n",
              "    }\n",
              "\n",
              "    .dataframe tbody tr th {\n",
              "        vertical-align: top;\n",
              "    }\n",
              "\n",
              "    .dataframe thead th {\n",
              "        text-align: right;\n",
              "    }\n",
              "</style>\n",
              "<table border=\"1\" class=\"dataframe\">\n",
              "  <thead>\n",
              "    <tr style=\"text-align: right;\">\n",
              "      <th></th>\n",
              "      <th>unique</th>\n",
              "    </tr>\n",
              "    <tr>\n",
              "      <th>user_id</th>\n",
              "      <th></th>\n",
              "    </tr>\n",
              "  </thead>\n",
              "  <tbody>\n",
              "    <tr>\n",
              "      <th>1</th>\n",
              "      <td>[177, 2133, 36, 100, 54, 111, 115, 119, 268, 3...</td>\n",
              "    </tr>\n",
              "    <tr>\n",
              "      <th>2</th>\n",
              "      <td>[21, 160, 630, 8, 125, 7341]</td>\n",
              "    </tr>\n",
              "    <tr>\n",
              "      <th>3</th>\n",
              "      <td>[659, 1929, 427, 55, 660, 2235, 2615, 4057, 9966]</td>\n",
              "    </tr>\n",
              "    <tr>\n",
              "      <th>4</th>\n",
              "      <td>[18, 8, 11, 58, 62, 70, 101, 129, 221, 297, 33...</td>\n",
              "    </tr>\n",
              "    <tr>\n",
              "      <th>5</th>\n",
              "      <td>[1195, 5117, 1742, 3378, 4380, 4942, 1744, 281...</td>\n",
              "    </tr>\n",
              "  </tbody>\n",
              "</table>\n",
              "</div>"
            ]
          },
          "metadata": {},
          "execution_count": 24
        }
      ],
      "metadata": {
        "colab": {
          "base_uri": "https://localhost:8080/",
          "height": 235
        },
        "id": "kd7yVmGkofUC",
        "outputId": "02a02908-870b-4625-a1a0-6dd448ce2131"
      }
    },
    {
      "cell_type": "markdown",
      "source": [
        "<h2>KNN evalution & RMSE </h2>\n",
        "\n",
        "As the result below shows:\n",
        "- For k value, we chose the max book count for each user."
      ],
      "metadata": {
        "id": "TbE3Nq46ofUC"
      }
    },
    {
      "cell_type": "code",
      "execution_count": null,
      "source": [
        "reader = surprise.Reader(rating_scale=(1, 5))\n",
        "sp_train = surprise.Dataset.load_from_df(train, reader)\n",
        "sp_train = sp_train.build_full_trainset()\n",
        "sp_test = surprise.Dataset.load_from_df(test, reader)\n",
        "_, sp_test = surprise.model_selection.split.train_test_split(sp_test, test_size=1.0)\n",
        "\n",
        "k = train.groupby('user_id').count().describe().loc['max', 'book_id']\n",
        "sim_options = {'name': 'pearson', 'user_based': False}  # compute similarities between items\n",
        "knn = surprise.KNNBasic(k=int(k), sim_options=sim_options)\n",
        "knn.fit(sp_train)\n",
        "knn_pred = knn.test(sp_test)\n",
        "surprise.accuracy.rmse(knn_pred, verbose=True)\n",
        "\n",
        "# _knn_pred = pd.DataFrame(knn_pred, columns=['user_id', 'item_id', 'ground_truth', 'prediction', 'details'])\n",
        "# _knn_pred.drop(columns='details', inplace=True)\n",
        "# _knn_pred['rmse'] = abs(_knn_pred['ground_truth'] - _knn_pred['prediction'])\n",
        "# _knn_pred = _knn_pred.sort_values(by='rmse', ascending=True)\n",
        "\n",
        "# _knn_pred.head()"
      ],
      "outputs": [
        {
          "output_type": "stream",
          "name": "stdout",
          "text": [
            "Computing the cosine similarity matrix...\n",
            "Done computing similarity matrix.\n",
            "RMSE: 0.8931\n"
          ]
        },
        {
          "output_type": "execute_result",
          "data": {
            "text/plain": [
              "0.8930887624244067"
            ]
          },
          "metadata": {},
          "execution_count": 25
        }
      ],
      "metadata": {
        "colab": {
          "base_uri": "https://localhost:8080/"
        },
        "id": "fbBif1XTofUC",
        "outputId": "032a4d83-31ea-4e74-e6b2-948b76e8e02f"
      }
    },
    {
      "cell_type": "markdown",
      "source": [
        "---\n",
        "<h1>Final Recommendation System</h1>"
      ],
      "metadata": {
        "id": "jz7QMsuSofUC"
      }
    },
    {
      "cell_type": "markdown",
      "source": [
        "<h2>Final KNN model with all user information</h2>"
      ],
      "metadata": {
        "id": "Tvu2l5ovofUC"
      }
    },
    {
      "cell_type": "code",
      "execution_count": null,
      "source": [
        "sp_data = surprise.Dataset.load_from_df(_ratings, reader)\n",
        "sp_data = sp_data.build_full_trainset()\n",
        "\n",
        "k = _ratings.groupby('user_id').count().describe().loc['max', 'book_id']\n",
        "sim_options = {'name': 'pearson', 'user_based': False}\n",
        "all_knn = surprise.KNNBasic(k=int(k), sim_options=sim_options)\n",
        "all_knn.fit(sp_data)"
      ],
      "outputs": [
        {
          "output_type": "stream",
          "name": "stdout",
          "text": [
            "Computing the cosine similarity matrix...\n",
            "Done computing similarity matrix.\n"
          ]
        },
        {
          "output_type": "execute_result",
          "data": {
            "text/plain": [
              "<surprise.prediction_algorithms.knns.KNNBasic at 0x7ff44eb3d8b0>"
            ]
          },
          "metadata": {},
          "execution_count": 26
        }
      ],
      "metadata": {
        "colab": {
          "background_save": true,
          "base_uri": "https://localhost:8080/"
        },
        "id": "Xb-_qXAMofUD",
        "outputId": "d625b703-d578-4a69-854c-a19e77b04500"
      }
    },
    {
      "cell_type": "markdown",
      "source": [
        "<h2>Generating \"easy book id & table index & book title search dictionaries\"</h2>"
      ],
      "metadata": {
        "id": "iNGREdtlofUD"
      }
    },
    {
      "cell_type": "code",
      "execution_count": null,
      "source": [
        "book_id_2_idx = {}\n",
        "idx_2_book_id = {}\n",
        "book_id_2_title = {}\n",
        "\n",
        "for i, row in _books.iterrows():\n",
        "    book_id = row['book_id']\n",
        "    title = row['title']\n",
        "    \n",
        "    book_id_2_idx[book_id] = i\n",
        "    book_id_2_title[book_id] = title\n",
        "    \n",
        "    idx_2_book_id[i] = book_id"
      ],
      "outputs": [],
      "metadata": {
        "colab": {
          "background_save": true
        },
        "id": "GlTfaHObofUD"
      }
    },
    {
      "cell_type": "markdown",
      "source": [
        "<h2>Each user's \"finished-reading\" book lists & Sorting the table by rating</h2>"
      ],
      "metadata": {
        "id": "EBY7EtVuofUD"
      }
    },
    {
      "cell_type": "code",
      "execution_count": null,
      "source": [
        "_ratings = _ratings.sort_values(by=['rating', 'book_id'], ascending=[False, True])\n",
        "seen = _ratings.groupby('user_id')['book_id'].agg({'unique'}).reset_index()\n",
        "seen.columns = ['user_id', 'book_ids']\n",
        "\n",
        "seen.head()"
      ],
      "outputs": [
        {
          "output_type": "execute_result",
          "data": {
            "text/plain": [
              "   user_id                                           book_ids\n",
              "0        1  [4, 11, 35, 70, 81, 102, 128, 136, 143, 177, 2...\n",
              "1        2  [2, 5, 10, 15, 18, 21, 23, 24, 25, 27, 54, 80,...\n",
              "2        3  [4090, 7401, 4, 15, 59, 118, 247, 410, 659, 71...\n",
              "3        4  [2, 10, 18, 21, 23, 24, 25, 27, 35, 36, 42, 81...\n",
              "4        5  [164, 451, 458, 623, 794, 852, 1182, 1195, 134..."
            ],
            "text/html": [
              "<div>\n",
              "<style scoped>\n",
              "    .dataframe tbody tr th:only-of-type {\n",
              "        vertical-align: middle;\n",
              "    }\n",
              "\n",
              "    .dataframe tbody tr th {\n",
              "        vertical-align: top;\n",
              "    }\n",
              "\n",
              "    .dataframe thead th {\n",
              "        text-align: right;\n",
              "    }\n",
              "</style>\n",
              "<table border=\"1\" class=\"dataframe\">\n",
              "  <thead>\n",
              "    <tr style=\"text-align: right;\">\n",
              "      <th></th>\n",
              "      <th>user_id</th>\n",
              "      <th>book_ids</th>\n",
              "    </tr>\n",
              "  </thead>\n",
              "  <tbody>\n",
              "    <tr>\n",
              "      <th>0</th>\n",
              "      <td>1</td>\n",
              "      <td>[4, 11, 35, 70, 81, 102, 128, 136, 143, 177, 2...</td>\n",
              "    </tr>\n",
              "    <tr>\n",
              "      <th>1</th>\n",
              "      <td>2</td>\n",
              "      <td>[2, 5, 10, 15, 18, 21, 23, 24, 25, 27, 54, 80,...</td>\n",
              "    </tr>\n",
              "    <tr>\n",
              "      <th>2</th>\n",
              "      <td>3</td>\n",
              "      <td>[4090, 7401, 4, 15, 59, 118, 247, 410, 659, 71...</td>\n",
              "    </tr>\n",
              "    <tr>\n",
              "      <th>3</th>\n",
              "      <td>4</td>\n",
              "      <td>[2, 10, 18, 21, 23, 24, 25, 27, 35, 36, 42, 81...</td>\n",
              "    </tr>\n",
              "    <tr>\n",
              "      <th>4</th>\n",
              "      <td>5</td>\n",
              "      <td>[164, 451, 458, 623, 794, 852, 1182, 1195, 134...</td>\n",
              "    </tr>\n",
              "  </tbody>\n",
              "</table>\n",
              "</div>"
            ]
          },
          "metadata": {},
          "execution_count": 28
        }
      ],
      "metadata": {
        "colab": {
          "background_save": true
        },
        "id": "s6HtKozLofUD",
        "outputId": "76259675-8db9-45f7-af24-dbea25e0194e"
      }
    },
    {
      "cell_type": "markdown",
      "source": [
        "<h2>Each user's \"to-read\" book lists & Sorting the table by average rating</h2>"
      ],
      "metadata": {
        "id": "2RvcJtp_ofUD"
      }
    },
    {
      "cell_type": "code",
      "execution_count": null,
      "source": [
        "_to_read = pd.merge(to_read, _books[['book_id', 'average_rating']], on='book_id')\n",
        "_to_read = _to_read.sort_values(by=['average_rating', 'book_id'], ascending=[False, True])\n",
        "_to_read = to_read.groupby('user_id')['book_id'].agg({'unique'}).reset_index()\n",
        "_to_read.columns = ['user_id', 'book_ids']\n",
        "\n",
        "_to_read.head()"
      ],
      "outputs": [
        {
          "output_type": "execute_result",
          "data": {
            "text/plain": [
              "   user_id                                           book_ids\n",
              "0        1            [1874, 235, 1198, 533, 112, 2058, 3334]\n",
              "1        2  [7873, 2220, 4, 13, 439, 113, 3227, 408, 1969,...\n",
              "2        3  [5448, 3566, 2439, 932, 1146, 726, 8403, 4582,...\n",
              "3        5                              [3581, 31, 665, 3074]\n",
              "4        6  [687, 619, 5269, 5537, 874, 1912, 649, 7480, 6..."
            ],
            "text/html": [
              "<div>\n",
              "<style scoped>\n",
              "    .dataframe tbody tr th:only-of-type {\n",
              "        vertical-align: middle;\n",
              "    }\n",
              "\n",
              "    .dataframe tbody tr th {\n",
              "        vertical-align: top;\n",
              "    }\n",
              "\n",
              "    .dataframe thead th {\n",
              "        text-align: right;\n",
              "    }\n",
              "</style>\n",
              "<table border=\"1\" class=\"dataframe\">\n",
              "  <thead>\n",
              "    <tr style=\"text-align: right;\">\n",
              "      <th></th>\n",
              "      <th>user_id</th>\n",
              "      <th>book_ids</th>\n",
              "    </tr>\n",
              "  </thead>\n",
              "  <tbody>\n",
              "    <tr>\n",
              "      <th>0</th>\n",
              "      <td>1</td>\n",
              "      <td>[1874, 235, 1198, 533, 112, 2058, 3334]</td>\n",
              "    </tr>\n",
              "    <tr>\n",
              "      <th>1</th>\n",
              "      <td>2</td>\n",
              "      <td>[7873, 2220, 4, 13, 439, 113, 3227, 408, 1969,...</td>\n",
              "    </tr>\n",
              "    <tr>\n",
              "      <th>2</th>\n",
              "      <td>3</td>\n",
              "      <td>[5448, 3566, 2439, 932, 1146, 726, 8403, 4582,...</td>\n",
              "    </tr>\n",
              "    <tr>\n",
              "      <th>3</th>\n",
              "      <td>5</td>\n",
              "      <td>[3581, 31, 665, 3074]</td>\n",
              "    </tr>\n",
              "    <tr>\n",
              "      <th>4</th>\n",
              "      <td>6</td>\n",
              "      <td>[687, 619, 5269, 5537, 874, 1912, 649, 7480, 6...</td>\n",
              "    </tr>\n",
              "  </tbody>\n",
              "</table>\n",
              "</div>"
            ]
          },
          "metadata": {},
          "execution_count": 29
        }
      ],
      "metadata": {
        "colab": {
          "background_save": true
        },
        "id": "1j0fxOHoofUD",
        "outputId": "7a08cfdb-ccd4-4f94-ada3-464f85abd762"
      }
    },
    {
      "cell_type": "markdown",
      "source": [
        "<h2>Final Recommendation System</h2>\n",
        "\n",
        "1. Take in any type of book-hunting intent query.\n",
        "2. Check if the query is associated with any of the user's reading information.\n",
        "    1. If the query is found in the user's book history, get the matched book id that has the highest user rating.\n",
        "    2. Else if the query if found in the user's \"to read\" list, get the matched book id that has the highest average rating.\n",
        "    3. Else if the query if found in the total books list, get the matched book id that has the highest average rating.\n",
        "    4. Else, there is no matched book found - terminate the recommendation system.\n",
        "3. Using the matched id from step 2, get top related <i>k</i> books from TF-IDF & Cosine Similarity result as well as the KNN result.\n",
        "4. Find the books that are both present in the TF-IDF & Cosine Similarity result as well as the KNN result.\n",
        "5. Use \"IMDb\" weighted rating + Cosine Similarity score to sort the recommendation list by rating."
      ],
      "metadata": {
        "id": "iJf5tvMlofUE"
      }
    },
    {
      "cell_type": "code",
      "execution_count": null,
      "source": [
        "def get_from_query(u, q, k, seen):\n",
        "\n",
        "    \"\"\"\n",
        "    Provide users a personalized search experience for any type of book-hunting intent query\n",
        "\n",
        "    Args:\n",
        "        u: user id\n",
        "        q: any type of book-hunting intent query - could be a string for a title, tag and author names\n",
        "        k: number of neighbors/ similar books to retrieve\n",
        "        seen: the user's \"already finished reading\" book list\n",
        "        prioritize_knn: boolean to indicate whether the order of the \"nearset neighbors nees to be prioritized\n",
        "    \n",
        "    Returns:\n",
        "        list: top <=100 book recommendations with its matching score (%)\n",
        "    \"\"\"\n",
        "\n",
        "    if u not in seen[seen['user_id'] == u]['user_id'].unique():\n",
        "        return 'User ID does not exist!'\n",
        "\n",
        "    if len(q) == 0:\n",
        "        return 'Wrong query!'\n",
        "        \n",
        "    q = q.lower()\n",
        "    seen_list = seen[seen['user_id'] == u]['book_ids'].squeeze()\n",
        "    if isinstance(seen_list, np.ndarray):\n",
        "        seen_list = seen_list.tolist()\n",
        "        \n",
        "    to_read_list = _to_read[_to_read['user_id'] == u]['book_ids'].squeeze()\n",
        "    if isinstance(to_read_list, np.ndarray):\n",
        "        to_read_list = to_read_list.tolist()\n",
        "\n",
        "    # all the book_ids from these lists are sorted in 'average_rating' order (highest avg. rating first)\n",
        "    seen_get_query_list = _books['book_id'][_books['book_id'].isin(seen_list) & _books['name'].str.lower().str.contains(q)].to_numpy().tolist()\n",
        "    to_read_get_query_list = _books['book_id'][_books['book_id'].isin(to_read_list) & _books['name'].str.lower().str.contains(q)].to_numpy().tolist()\n",
        "    books_get_query_list = _books['book_id'][_books['name'].str.lower().str.contains(q)].to_numpy().tolist()\n",
        "\n",
        "    book_id = 0\n",
        "    \n",
        "    if len(seen_get_query_list) != 0:\n",
        "        # if the searched query is in the user's previous history\n",
        "        book_id = seen_get_query_list[0]\n",
        "    elif len(to_read_get_query_list) != 0:\n",
        "        # if the searched query is in the user's marked book lists\n",
        "        book_id = to_read_get_query_list[0]\n",
        "    elif len(books_get_query_list) != 0:\n",
        "        # if the searched query is in the total book repository\n",
        "        book_id = books_get_query_list[0]\n",
        "    else:\n",
        "        return 'No book found!'\n",
        "    \n",
        "    # print(book_id)\n",
        "    idx = book_id_2_idx[book_id]\n",
        "    print(book_id_2_title[book_id])\n",
        "    sim_scores = [(idx_2_book_id[i], score) for i, score in enumerate(cosine_matrix[idx]) if i != idx]\n",
        "    sim_scores = list(sorted(sim_scores, key=lambda x: x[1], reverse=True))\n",
        "    sim_scores = dict(sim_scores[:k])\n",
        "\n",
        "    iid = all_knn.trainset.to_inner_iid(book_id)\n",
        "    neighbors = all_knn.get_neighbors(iid, k=k)[::-1]\n",
        "    recommendations = []\n",
        "    for rec_iid in neighbors:\n",
        "        rec_id = all_knn.trainset.to_raw_iid(rec_iid)\n",
        "        if rec_id not in seen_list and rec_id in sim_scores.keys():\n",
        "\n",
        "            sim_score = sim_scores[rec_id]\n",
        "            rec_title = book_id_2_title[rec_id]\n",
        "            v = _books[_books['book_id'] == rec_id]['ratings_count'].item()\n",
        "            m = _books['ratings_count'].min()\n",
        "            R = _books[_books['book_id'] == rec_id]['average_rating'].item()\n",
        "            C = _books['average_rating'].mean()\n",
        "            weighted_score = ((R * v + C * m) / (v + m)) \n",
        "\n",
        "            if weighted_score <= 3.2:\n",
        "                # we don't want to recommend bad books\n",
        "                continue\n",
        "            weighted_score = weighted_score / 5.0 # converting the score to a percentage value\n",
        "            total_score = (sim_score + weighted_score) / 2.0\n",
        "\n",
        "            if rec_id in to_read_list:\n",
        "                recommendations.append((rec_title, total_score * 1.5 * 100))\n",
        "            else:\n",
        "                recommendations.append((rec_title, total_score * 100))\n",
        "                \n",
        "    if len(recommendations) == 0:\n",
        "        return 'Could not find books that match your taste :('\n",
        "    \n",
        "    recommendations = sorted(recommendations, key=lambda x: x[1], reverse=True)\n",
        "    return recommendations[:100]"
      ],
      "outputs": [],
      "metadata": {
        "id": "uRbLpyexofUE"
      }
    },
    {
      "cell_type": "markdown",
      "source": [
        "<h1>Some Examples and Results</h1>"
      ],
      "metadata": {
        "id": "C003BfcEeyP8"
      }
    },
    {
      "cell_type": "code",
      "execution_count": null,
      "source": [
        "k = _ratings.groupby('user_id').count().describe().loc['max', 'book_id']\n",
        "get_from_query(u=1, q='hunger', k=int(k), seen=seen)"
      ],
      "outputs": [
        {
          "output_type": "stream",
          "name": "stdout",
          "text": [
            "The Hunger Games (The Hunger Games, #1)\n"
          ]
        },
        {
          "output_type": "execute_result",
          "data": {
            "text/plain": [
              "[('The Hunger Games Trilogy Boxset (The Hunger Games, #1-3)', 86.435351676183),\n",
              " ('Catching Fire (The Hunger Games, #2)', 82.79868630958806),\n",
              " ('The Hunger Games: Official Illustrated Movie Companion', 61.00290345783065),\n",
              " ('The World of the Hunger Games (Hunger Games Trilogy)', 57.69678602614698),\n",
              " ('The Hunger Games Tribute Guide', 57.12243495331103),\n",
              " ('Cress (The Lunar Chronicles, #3)', 55.49802769625203),\n",
              " ('UnDivided (Unwind, #4)', 55.272323514456225),\n",
              " ('UnSouled (Unwind, #3)', 54.623514525096574),\n",
              " ('Gemina (The Illuminae Files, #2)', 54.59705006058169),\n",
              " ('The Dead of Night (Tomorrow, #2)', 54.51063941165742),\n",
              " ('Burning For Revenge (Tomorrow, #5)', 53.789355291886366),\n",
              " ('The Night Is for Hunting (Tomorrow, #6)', 52.886048382461226),\n",
              " (\"The Girl Who Was on Fire: Your Favorite Authors on Suzanne Collins' Hunger Games Trilogy\",\n",
              "  52.44345115112017)]"
            ]
          },
          "metadata": {},
          "execution_count": 31
        }
      ],
      "metadata": {
        "colab": {
          "base_uri": "https://localhost:8080/"
        },
        "id": "9-zsCtSyofUE",
        "outputId": "0d3e156a-4584-4543-8942-233985eab00a"
      }
    },
    {
      "cell_type": "code",
      "execution_count": null,
      "source": [
        "get_from_query(u=1, q='love', k=int(k), seen=seen)"
      ],
      "outputs": [
        {
          "output_type": "stream",
          "name": "stdout",
          "text": [
            "Pride and Prejudice\n"
          ]
        },
        {
          "output_type": "execute_result",
          "data": {
            "text/plain": [
              "[('Persuasion', 69.05534860793679),\n",
              " ('The Complete Novels', 61.938602010885944),\n",
              " ('The Grand Sophy', 53.80679782153494),\n",
              " ('Ross Poldark (Poldark, #1)', 53.31516576603333)]"
            ]
          },
          "metadata": {},
          "execution_count": 32
        }
      ],
      "metadata": {
        "colab": {
          "base_uri": "https://localhost:8080/"
        },
        "id": "SmabT89wekjK",
        "outputId": "f0bb5150-1ae4-4544-d52a-af0ca8607e71"
      }
    },
    {
      "cell_type": "code",
      "execution_count": null,
      "source": [
        "get_from_query(u=1, q='harry', k=int(k), seen=seen)"
      ],
      "outputs": [
        {
          "output_type": "stream",
          "name": "stdout",
          "text": [
            "Harry Potter and the Sorcerer's Stone (Harry Potter, #1)\n"
          ]
        },
        {
          "output_type": "execute_result",
          "data": {
            "text/plain": [
              "[('Harry Potter and the Goblet of Fire (Harry Potter, #4)', 85.78315965560847),\n",
              " ('Harry Potter and the Chamber of Secrets (Harry Potter, #2)',\n",
              "  85.57520853379191),\n",
              " ('Harry Potter and the Deathly Hallows (Harry Potter, #7)',\n",
              "  84.66153864043464),\n",
              " ('Harry Potter and the Half-Blood Prince (Harry Potter, #6)',\n",
              "  84.0295293246285),\n",
              " ('Harry Potter and the Prisoner of Azkaban (Harry Potter, #3)',\n",
              "  81.85241244494053),\n",
              " ('Harry Potter Boxset (Harry Potter, #1-7)', 79.00643735773379),\n",
              " ('Harry Potter Collection (Harry Potter, #1-6)', 77.64689991650211),\n",
              " ('The Harry Potter Collection 1-4 (Harry Potter, #1-4)', 76.45201028189565),\n",
              " ('Harry Potter and the Order of the Phoenix (Harry Potter, #5)',\n",
              "  76.35075253385898),\n",
              " ('Harry Potter Boxed Set, Books 1-5 (Harry Potter, #1-5)', 71.02703125542831),\n",
              " ('Fantastic Beasts and Where to Find Them: The Original Screenplay',\n",
              "  56.042804253091624),\n",
              " ('Short Stories from Hogwarts of Heroism, Hardship and Dangerous Hobbies (Pottermore Presents, #1)',\n",
              "  53.73402850297304),\n",
              " ('Dark Days (Skulduggery Pleasant, #4)', 53.31986272809806)]"
            ]
          },
          "metadata": {},
          "execution_count": 33
        }
      ],
      "metadata": {
        "colab": {
          "base_uri": "https://localhost:8080/"
        },
        "id": "CkP6e2iNerf3",
        "outputId": "c03326e4-9510-4b77-f3ae-91873115195b"
      }
    }
  ]
}
